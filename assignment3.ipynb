{
 "cells": [
  {
   "cell_type": "code",
   "execution_count": 1,
   "id": "fd827f9e",
   "metadata": {},
   "outputs": [
    {
     "name": "stdout",
     "output_type": "stream",
     "text": [
      "[ 1  2  3  4  5  6  7  8  9 10 11 12 13 14 15]\n",
      "[[ 1  2  3  4  5]\n",
      " [ 6  7  8  9 10]\n",
      " [11 12 13 14 15]]\n",
      "(3, 5)\n",
      "Maximum value replaced by 0 :\n",
      "[ 1  2  3  4  5  6  7  8  9 10 11 12 13 14  0]\n"
     ]
    }
   ],
   "source": [
    "#1.a\n",
    "import numpy as np\n",
    "a = np.array([1,2,3,4,5,6,7,8,9,10,11,12,13,14,15])\n",
    "print(a)\n",
    "#reshape it by 3x5\n",
    "array = a.reshape(3,5)\n",
    "print(array)\n",
    "#to print shape of array\n",
    "print(array.shape)\n",
    "#replaced the max in each row by 0\n",
    "a[a.argmax()] = 0\n",
    "print(\"Maximum value replaced by 0 :\")\n",
    "print(a)"
   ]
  },
  {
   "cell_type": "code",
   "execution_count": 2,
   "id": "9d44ed0c",
   "metadata": {},
   "outputs": [
    {
     "name": "stdout",
     "output_type": "stream",
     "text": [
      "E-value: [2. 1.]\n",
      "E-vector: [[0.89442719 0.70710678]\n",
      " [0.4472136  0.70710678]]\n"
     ]
    }
   ],
   "source": [
    "#b.\n",
    "import numpy as np\n",
    "from numpy.linalg import eig\n",
    "a = np.array([[3,-2],\n",
    "            [1,0]])\n",
    "w,v = eig(a)\n",
    "print('E-value:',w)\n",
    "print('E-vector:',v)"
   ]
  },
  {
   "cell_type": "code",
   "execution_count": 3,
   "id": "091d615e",
   "metadata": {},
   "outputs": [
    {
     "name": "stdout",
     "output_type": "stream",
     "text": [
      "Matrix is:\n",
      "[[0 1 2]\n",
      " [3 4 5]]\n",
      "\n",
      "Diagonal elements are :\n",
      "[0 4]\n",
      "\n",
      "Sum of diagonal element is :\n",
      "4\n"
     ]
    }
   ],
   "source": [
    "#c\n",
    "import numpy as np\n",
    "n_array = np.array([[0,1,2],[3,4,5]])\n",
    "print(\"Matrix is:\")\n",
    "print(n_array)\n",
    "diag = np.diagonal(n_array)\n",
    "print(\"\\nDiagonal elements are :\")\n",
    "print(diag)\n",
    "print(\"\\nSum of diagonal element is :\")\n",
    "print(sum(diag))"
   ]
  },
  {
   "cell_type": "code",
   "execution_count": 4,
   "id": "8801b7d0",
   "metadata": {},
   "outputs": [
    {
     "name": "stdout",
     "output_type": "stream",
     "text": [
      "Reshape 3x2 :\n",
      "[[1 2]\n",
      " [3 4]\n",
      " [5 6]]\n",
      "Reshape 2x3 :\n",
      "[[1 2 3]\n",
      " [4 5 6]]\n"
     ]
    }
   ],
   "source": [
    "#d\n",
    "import numpy as np\n",
    "a = np.array([[1,2],[3,4],[5,6]])\n",
    "b = np.reshape(a,(3,2))\n",
    "print(\"Reshape 3x2 :\")\n",
    "print(b)\n",
    "c = np.reshape(a,(2,3))\n",
    "print(\"Reshape 2x3 :\")\n",
    "print(c)"
   ]
  },
  {
   "cell_type": "code",
   "execution_count": 6,
   "id": "a67b5cb5",
   "metadata": {},
   "outputs": [
    {
     "data": {
      "image/png": "[encoded data removed]",
      "text/plain": [
       "<Figure size 432x288 with 1 Axes>"
      ]
     },
     "metadata": {},
     "output_type": "display_data"
    }
   ],
   "source": [
    "#2\n",
    "import matplotlib.pyplot as plt\n",
    "# Data to plot\n",
    "languages = 'Java', 'Python', 'PHP', 'JavaScript', 'C#', 'C++'\n",
    "popuratity = [22.2, 17.6, 8.8, 8, 7.7, 6.7]\n",
    "colors = [\"#1f77b4\", \"#ff7f0e\", \"#2ca02c\", \"#d62728\", \"#9467bd\", \"#8c564b\"]\n",
    "# explode 1st slice\n",
    "explode = (0.1, 0, 0, 0,0,0)  \n",
    "# Plot\n",
    "plt.pie(popuratity, explode=explode, labels=languages, colors=colors,\n",
    "autopct='%1.1f%%', shadow=True, startangle=140)\n",
    "\n",
    "plt.axis('equal')\n",
    "plt.show()"
   ]
  },
  {
   "cell_type": "code",
   "execution_count": null,
   "id": "12e2ca7f",
   "metadata": {},
   "outputs": [],
   "source": []
  }
 ],
 "metadata": {
  "kernelspec": {
   "display_name": "Python 3 (ipykernel)",
   "language": "python",
   "name": "python3"
  },
  "language_info": {
   "codemirror_mode": {
    "name": "ipython",
    "version": 3
   },
   "file_extension": ".py",
   "mimetype": "text/x-python",
   "name": "python",
   "nbconvert_exporter": "python",
   "pygments_lexer": "ipython3",
   "version": "3.9.12"
  }
 },
 "nbformat": 4,
 "nbformat_minor": 5
}
