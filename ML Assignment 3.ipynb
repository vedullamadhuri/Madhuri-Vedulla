<!DOCTYPE html>
<!-- saved from url=(0057)http://localhost:8888/notebooks/ML%20Assignment%203.ipynb -->
<html lang="en-us"><head><meta http-equiv="Content-Type" content="text/html; charset=UTF-8">
    

    <title>ML Assignment 3 - Jupyter Notebook</title>
    
    <meta http-equiv="X-UA-Compatible" content="IE=edge">
    <link rel="stylesheet" href="./ML Assignment 3_files/jquery-ui.min.css" type="text/css">
    <link rel="stylesheet" href="./ML Assignment 3_files/jquery.typeahead.min.css" type="text/css">
    <meta name="viewport" content="width=device-width, initial-scale=1.0">
    
    


<script type="text/javascript" src="./ML Assignment 3_files/MathJax.js.download" charset="utf-8"></script>

<script type="text/javascript">
// MathJax disabled, set as null to distinguish from *missing* MathJax,
// where it will be undefined, and should prompt a dialog later.
window.mathjax_url = "/static/components/MathJax/MathJax.js";
</script>

<link rel="stylesheet" href="./ML Assignment 3_files/bootstrap-tour.min.css" type="text/css">
<link rel="stylesheet" href="./ML Assignment 3_files/codemirror.css">


    <link rel="stylesheet" href="./ML Assignment 3_files/style.min.css" type="text/css">
    

<link rel="stylesheet" href="./ML Assignment 3_files/override.css" type="text/css">
<link rel="stylesheet" href="http://localhost:8888/notebooks/ML%20Assignment%203.ipynb" id="kernel-css" type="text/css">


    <link rel="stylesheet" href="./ML Assignment 3_files/custom.css" type="text/css">
    <script src="./ML Assignment 3_files/promise.min.js.download" type="text/javascript" charset="utf-8"></script>
    <script src="./ML Assignment 3_files/react.production.min.js.download" type="text/javascript"></script>
    <script src="./ML Assignment 3_files/react-dom.production.min.js.download" type="text/javascript"></script>
    <script src="./ML Assignment 3_files/index.js.download" type="text/javascript"></script>
    <script src="./ML Assignment 3_files/require.js.download" type="text/javascript" charset="utf-8"></script>
    <script>
      require.config({
          
          urlArgs: "v=20230329104424",
          
          baseUrl: '/static/',
          paths: {
            'auth/js/main': 'auth/js/main.min',
            custom : '/custom',
            nbextensions : '/nbextensions',
            kernelspecs : '/kernelspecs',
            underscore : 'components/underscore/underscore-min',
            backbone : 'components/backbone/backbone-min',
            jed: 'components/jed/jed',
            jquery: 'components/jquery/jquery.min',
            json: 'components/requirejs-plugins/src/json',
            text: 'components/requirejs-text/text',
            bootstrap: 'components/bootstrap/dist/js/bootstrap.min',
            bootstraptour: 'components/bootstrap-tour/build/js/bootstrap-tour.min',
            'jquery-ui': 'components/jquery-ui/jquery-ui.min',
            moment: 'components/moment/min/moment-with-locales',
            codemirror: 'components/codemirror',
            termjs: 'components/xterm.js/xterm',
            typeahead: 'components/jquery-typeahead/dist/jquery.typeahead.min',
          },
          map: { // for backward compatibility
              "*": {
                  "jqueryui": "jquery-ui",
              }
          },
          shim: {
            typeahead: {
              deps: ["jquery"],
              exports: "typeahead"
            },
            underscore: {
              exports: '_'
            },
            backbone: {
              deps: ["underscore", "jquery"],
              exports: "Backbone"
            },
            bootstrap: {
              deps: ["jquery"],
              exports: "bootstrap"
            },
            bootstraptour: {
              deps: ["bootstrap"],
              exports: "Tour"
            },
            "jquery-ui": {
              deps: ["jquery"],
              exports: "$"
            }
          },
          waitSeconds: 30,
      });

      require.config({
          map: {
              '*':{
                'contents': 'services/contents',
              }
          }
      });

      // error-catching custom.js shim.
      define("custom", function (require, exports, module) {
          try {
              var custom = require('custom/custom');
              console.debug('loaded custom.js');
              return custom;
          } catch (e) {
              console.error("error loading custom.js", e);
              return {};
          }
      })

    document.nbjs_translations = {"domain": "nbjs", "locale_data": {"nbjs": {"": {"domain": "nbjs"}}}};
    document.documentElement.lang = navigator.language.toLowerCase();
    </script>

    
    

<script type="text/javascript" charset="utf-8" async="" data-requirecontext="_" data-requiremodule="services/contents" src="./ML Assignment 3_files/contents.js.download"></script><style type="text/css">.MathJax_Hover_Frame {border-radius: .25em; -webkit-border-radius: .25em; -moz-border-radius: .25em; -khtml-border-radius: .25em; box-shadow: 0px 0px 15px #83A; -webkit-box-shadow: 0px 0px 15px #83A; -moz-box-shadow: 0px 0px 15px #83A; -khtml-box-shadow: 0px 0px 15px #83A; border: 1px solid #A6D ! important; display: inline-block; position: absolute}
.MathJax_Menu_Button .MathJax_Hover_Arrow {position: absolute; cursor: pointer; display: inline-block; border: 2px solid #AAA; border-radius: 4px; -webkit-border-radius: 4px; -moz-border-radius: 4px; -khtml-border-radius: 4px; font-family: 'Courier New',Courier; font-size: 9px; color: #F0F0F0}
.MathJax_Menu_Button .MathJax_Hover_Arrow span {display: block; background-color: #AAA; border: 1px solid; border-radius: 3px; line-height: 0; padding: 4px}
.MathJax_Hover_Arrow:hover {color: white!important; border: 2px solid #CCC!important}
.MathJax_Hover_Arrow:hover span {background-color: #CCC!important}
</style><style type="text/css">#MathJax_About {position: fixed; left: 50%; width: auto; text-align: center; border: 3px outset; padding: 1em 2em; background-color: #DDDDDD; color: black; cursor: default; font-family: message-box; font-size: 120%; font-style: normal; text-indent: 0; text-transform: none; line-height: normal; letter-spacing: normal; word-spacing: normal; word-wrap: normal; white-space: nowrap; float: none; z-index: 201; border-radius: 15px; -webkit-border-radius: 15px; -moz-border-radius: 15px; -khtml-border-radius: 15px; box-shadow: 0px 10px 20px #808080; -webkit-box-shadow: 0px 10px 20px #808080; -moz-box-shadow: 0px 10px 20px #808080; -khtml-box-shadow: 0px 10px 20px #808080; filter: progid:DXImageTransform.Microsoft.dropshadow(OffX=2, OffY=2, Color='gray', Positive='true')}
#MathJax_About.MathJax_MousePost {outline: none}
.MathJax_Menu {position: absolute; background-color: white; color: black; width: auto; padding: 2px; border: 1px solid #CCCCCC; margin: 0; cursor: default; font: menu; text-align: left; text-indent: 0; text-transform: none; line-height: normal; letter-spacing: normal; word-spacing: normal; word-wrap: normal; white-space: nowrap; float: none; z-index: 201; box-shadow: 0px 10px 20px #808080; -webkit-box-shadow: 0px 10px 20px #808080; -moz-box-shadow: 0px 10px 20px #808080; -khtml-box-shadow: 0px 10px 20px #808080; filter: progid:DXImageTransform.Microsoft.dropshadow(OffX=2, OffY=2, Color='gray', Positive='true')}
.MathJax_MenuItem {padding: 2px 2em; background: transparent}
.MathJax_MenuArrow {position: absolute; right: .5em; padding-top: .25em; color: #666666; font-size: .75em}
.MathJax_MenuActive .MathJax_MenuArrow {color: white}
.MathJax_MenuArrow.RTL {left: .5em; right: auto}
.MathJax_MenuCheck {position: absolute; left: .7em}
.MathJax_MenuCheck.RTL {right: .7em; left: auto}
.MathJax_MenuRadioCheck {position: absolute; left: 1em}
.MathJax_MenuRadioCheck.RTL {right: 1em; left: auto}
.MathJax_MenuLabel {padding: 2px 2em 4px 1.33em; font-style: italic}
.MathJax_MenuRule {border-top: 1px solid #CCCCCC; margin: 4px 1px 0px}
.MathJax_MenuDisabled {color: GrayText}
.MathJax_MenuActive {background-color: Highlight; color: HighlightText}
.MathJax_MenuDisabled:focus, .MathJax_MenuLabel:focus {background-color: #E8E8E8}
.MathJax_ContextMenu:focus {outline: none}
.MathJax_ContextMenu .MathJax_MenuItem:focus {outline: none}
#MathJax_AboutClose {top: .2em; right: .2em}
.MathJax_Menu .MathJax_MenuClose {top: -10px; left: -10px}
.MathJax_MenuClose {position: absolute; cursor: pointer; display: inline-block; border: 2px solid #AAA; border-radius: 18px; -webkit-border-radius: 18px; -moz-border-radius: 18px; -khtml-border-radius: 18px; font-family: 'Courier New',Courier; font-size: 24px; color: #F0F0F0}
.MathJax_MenuClose span {display: block; background-color: #AAA; border: 1.5px solid; border-radius: 18px; -webkit-border-radius: 18px; -moz-border-radius: 18px; -khtml-border-radius: 18px; line-height: 0; padding: 8px 0 6px}
.MathJax_MenuClose:hover {color: white!important; border: 2px solid #CCC!important}
.MathJax_MenuClose:hover span {background-color: #CCC!important}
.MathJax_MenuClose:hover:focus {outline: none}
</style><style type="text/css">.MathJax_Preview .MJXf-math {color: inherit!important}
</style><style type="text/css">.MJX_Assistive_MathML {position: absolute!important; top: 0; left: 0; clip: rect(1px, 1px, 1px, 1px); padding: 1px 0 0 0!important; border: 0!important; height: 1px!important; width: 1px!important; overflow: hidden!important; display: block!important; -webkit-touch-callout: none; -webkit-user-select: none; -khtml-user-select: none; -moz-user-select: none; -ms-user-select: none; user-select: none}
.MJX_Assistive_MathML.MJX_Assistive_MathML_Block {width: 100%!important}
</style><style type="text/css">#MathJax_Zoom {position: absolute; background-color: #F0F0F0; overflow: auto; display: block; z-index: 301; padding: .5em; border: 1px solid black; margin: 0; font-weight: normal; font-style: normal; text-align: left; text-indent: 0; text-transform: none; line-height: normal; letter-spacing: normal; word-spacing: normal; word-wrap: normal; white-space: nowrap; float: none; -webkit-box-sizing: content-box; -moz-box-sizing: content-box; box-sizing: content-box; box-shadow: 5px 5px 15px #AAAAAA; -webkit-box-shadow: 5px 5px 15px #AAAAAA; -moz-box-shadow: 5px 5px 15px #AAAAAA; -khtml-box-shadow: 5px 5px 15px #AAAAAA; filter: progid:DXImageTransform.Microsoft.dropshadow(OffX=2, OffY=2, Color='gray', Positive='true')}
#MathJax_ZoomOverlay {position: absolute; left: 0; top: 0; z-index: 300; display: inline-block; width: 100%; height: 100%; border: 0; padding: 0; margin: 0; background-color: white; opacity: 0; filter: alpha(opacity=0)}
#MathJax_ZoomFrame {position: relative; display: inline-block; height: 0; width: 0}
#MathJax_ZoomEventTrap {position: absolute; left: 0; top: 0; z-index: 302; display: inline-block; border: 0; padding: 0; margin: 0; background-color: white; opacity: 0; filter: alpha(opacity=0)}
</style><style type="text/css">.MathJax_Preview {color: #888; display: contents}
#MathJax_Message {position: fixed; left: 1em; bottom: 1.5em; background-color: #E6E6E6; border: 1px solid #959595; margin: 0px; padding: 2px 8px; z-index: 102; color: black; font-size: 80%; width: auto; white-space: nowrap}
#MathJax_MSIE_Frame {position: absolute; top: 0; left: 0; width: 0px; z-index: 101; border: 0px; margin: 0px; padding: 0px}
.MathJax_Error {color: #CC0000; font-style: italic}
</style><script type="text/javascript" charset="utf-8" async="" data-requirecontext="_" data-requiremodule="custom/custom" src="./ML Assignment 3_files/custom.js.download"></script><style type="text/css">div.MathJax_MathML {text-align: center; margin: .75em 0px; display: block!important}
.MathJax_MathML {font-style: normal; font-weight: normal; line-height: normal; font-size: 100%; font-size-adjust: none; text-indent: 0; text-align: left; text-transform: none; letter-spacing: normal; word-spacing: normal; word-wrap: normal; white-space: nowrap; float: none; direction: ltr; max-width: none; max-height: none; min-width: 0; min-height: 0; border: 0; padding: 0; margin: 0}
span.MathJax_MathML {display: inline!important}
.MathJax_mmlExBox {display: block!important; overflow: hidden; height: 1px; width: 60ex; min-height: 0; max-height: none; padding: 0; border: 0; margin: 0}
[class="MJX-tex-oldstyle"] {font-family: MathJax_Caligraphic, MathJax_Caligraphic-WEB}
[class="MJX-tex-oldstyle-bold"] {font-family: MathJax_Caligraphic, MathJax_Caligraphic-WEB; font-weight: bold}
[class="MJX-tex-caligraphic"] {font-family: MathJax_Caligraphic, MathJax_Caligraphic-WEB}
[class="MJX-tex-caligraphic-bold"] {font-family: MathJax_Caligraphic, MathJax_Caligraphic-WEB; font-weight: bold}
@font-face /*1*/ {font-family: MathJax_Caligraphic-WEB; src: url('http://localhost:8888/static/components/MathJax/fonts/HTML-CSS/TeX/otf/MathJax_Caligraphic-Regular.otf')}
@font-face /*2*/ {font-family: MathJax_Caligraphic-WEB; font-weight: bold; src: url('http://localhost:8888/static/components/MathJax/fonts/HTML-CSS/TeX/otf/MathJax_Caligraphic-Bold.otf')}
[mathvariant="double-struck"] {font-family: MathJax_AMS, MathJax_AMS-WEB}
[mathvariant="script"] {font-family: MathJax_Script, MathJax_Script-WEB}
[mathvariant="fraktur"] {font-family: MathJax_Fraktur, MathJax_Fraktur-WEB}
[mathvariant="bold-script"] {font-family: MathJax_Script, MathJax_Caligraphic-WEB; font-weight: bold}
[mathvariant="bold-fraktur"] {font-family: MathJax_Fraktur, MathJax_Fraktur-WEB; font-weight: bold}
[mathvariant="monospace"] {font-family: monospace}
[mathvariant="sans-serif"] {font-family: sans-serif}
[mathvariant="bold-sans-serif"] {font-family: sans-serif; font-weight: bold}
[mathvariant="sans-serif-italic"] {font-family: sans-serif; font-style: italic}
[mathvariant="sans-serif-bold-italic"] {font-family: sans-serif; font-style: italic; font-weight: bold}
@font-face /*3*/ {font-family: MathJax_AMS-WEB; src: url('http://localhost:8888/static/components/MathJax/fonts/HTML-CSS/TeX/otf/MathJax_AMS-Regular.otf')}
@font-face /*4*/ {font-family: MathJax_Script-WEB; src: url('http://localhost:8888/static/components/MathJax/fonts/HTML-CSS/TeX/otf/MathJax_Script-Regular.otf')}
@font-face /*5*/ {font-family: MathJax_Fraktur-WEB; src: url('http://localhost:8888/static/components/MathJax/fonts/HTML-CSS/TeX/otf/MathJax_Fraktur-Regular.otf')}
@font-face /*6*/ {font-family: MathJax_Fraktur-WEB; font-weight: bold; src: url('http://localhost:8888/static/components/MathJax/fonts/HTML-CSS/TeX/otf/MathJax_Fraktur-Bold.otf')}
</style><style type="text/css">.MJXp-script {font-size: .8em}
.MJXp-right {-webkit-transform-origin: right; -moz-transform-origin: right; -ms-transform-origin: right; -o-transform-origin: right; transform-origin: right}
.MJXp-bold {font-weight: bold}
.MJXp-italic {font-style: italic}
.MJXp-scr {font-family: MathJax_Script,'Times New Roman',Times,STIXGeneral,serif}
.MJXp-frak {font-family: MathJax_Fraktur,'Times New Roman',Times,STIXGeneral,serif}
.MJXp-sf {font-family: MathJax_SansSerif,'Times New Roman',Times,STIXGeneral,serif}
.MJXp-cal {font-family: MathJax_Caligraphic,'Times New Roman',Times,STIXGeneral,serif}
.MJXp-mono {font-family: MathJax_Typewriter,'Times New Roman',Times,STIXGeneral,serif}
.MJXp-largeop {font-size: 150%}
.MJXp-largeop.MJXp-int {vertical-align: -.2em}
.MJXp-math {display: inline-block; line-height: 1.2; text-indent: 0; font-family: 'Times New Roman',Times,STIXGeneral,serif; white-space: nowrap; border-collapse: collapse}
.MJXp-display {display: block; text-align: center; margin: 1em 0}
.MJXp-math span {display: inline-block}
.MJXp-box {display: block!important; text-align: center}
.MJXp-box:after {content: " "}
.MJXp-rule {display: block!important; margin-top: .1em}
.MJXp-char {display: block!important}
.MJXp-mo {margin: 0 .15em}
.MJXp-mfrac {margin: 0 .125em; vertical-align: .25em}
.MJXp-denom {display: inline-table!important; width: 100%}
.MJXp-denom > * {display: table-row!important}
.MJXp-surd {vertical-align: top}
.MJXp-surd > * {display: block!important}
.MJXp-script-box > *  {display: table!important; height: 50%}
.MJXp-script-box > * > * {display: table-cell!important; vertical-align: top}
.MJXp-script-box > *:last-child > * {vertical-align: bottom}
.MJXp-script-box > * > * > * {display: block!important}
.MJXp-mphantom {visibility: hidden}
.MJXp-munderover, .MJXp-munder {display: inline-table!important}
.MJXp-over {display: inline-block!important; text-align: center}
.MJXp-over > * {display: block!important}
.MJXp-munderover > *, .MJXp-munder > * {display: table-row!important}
.MJXp-mtable {vertical-align: .25em; margin: 0 .125em}
.MJXp-mtable > * {display: inline-table!important; vertical-align: middle}
.MJXp-mtr {display: table-row!important}
.MJXp-mtd {display: table-cell!important; text-align: center; padding: .5em 0 0 .5em}
.MJXp-mtr > .MJXp-mtd:first-child {padding-left: 0}
.MJXp-mtr:first-child > .MJXp-mtd {padding-top: 0}
.MJXp-mlabeledtr {display: table-row!important}
.MJXp-mlabeledtr > .MJXp-mtd:first-child {padding-left: 0}
.MJXp-mlabeledtr:first-child > .MJXp-mtd {padding-top: 0}
.MJXp-merror {background-color: #FFFF88; color: #CC0000; border: 1px solid #CC0000; padding: 1px 3px; font-style: normal; font-size: 90%}
.MJXp-scale0 {-webkit-transform: scaleX(.0); -moz-transform: scaleX(.0); -ms-transform: scaleX(.0); -o-transform: scaleX(.0); transform: scaleX(.0)}
.MJXp-scale1 {-webkit-transform: scaleX(.1); -moz-transform: scaleX(.1); -ms-transform: scaleX(.1); -o-transform: scaleX(.1); transform: scaleX(.1)}
.MJXp-scale2 {-webkit-transform: scaleX(.2); -moz-transform: scaleX(.2); -ms-transform: scaleX(.2); -o-transform: scaleX(.2); transform: scaleX(.2)}
.MJXp-scale3 {-webkit-transform: scaleX(.3); -moz-transform: scaleX(.3); -ms-transform: scaleX(.3); -o-transform: scaleX(.3); transform: scaleX(.3)}
.MJXp-scale4 {-webkit-transform: scaleX(.4); -moz-transform: scaleX(.4); -ms-transform: scaleX(.4); -o-transform: scaleX(.4); transform: scaleX(.4)}
.MJXp-scale5 {-webkit-transform: scaleX(.5); -moz-transform: scaleX(.5); -ms-transform: scaleX(.5); -o-transform: scaleX(.5); transform: scaleX(.5)}
.MJXp-scale6 {-webkit-transform: scaleX(.6); -moz-transform: scaleX(.6); -ms-transform: scaleX(.6); -o-transform: scaleX(.6); transform: scaleX(.6)}
.MJXp-scale7 {-webkit-transform: scaleX(.7); -moz-transform: scaleX(.7); -ms-transform: scaleX(.7); -o-transform: scaleX(.7); transform: scaleX(.7)}
.MJXp-scale8 {-webkit-transform: scaleX(.8); -moz-transform: scaleX(.8); -ms-transform: scaleX(.8); -o-transform: scaleX(.8); transform: scaleX(.8)}
.MJXp-scale9 {-webkit-transform: scaleX(.9); -moz-transform: scaleX(.9); -ms-transform: scaleX(.9); -o-transform: scaleX(.9); transform: scaleX(.9)}
.MathJax_PHTML .noError {vertical-align: ; font-size: 90%; text-align: left; color: black; padding: 1px 3px; border: 1px solid}
</style><script type="text/javascript" charset="utf-8" async="" data-requirecontext="_" data-requiremodule="nbextensions/jupyterlab-plotly/extension" src="./ML Assignment 3_files/extension.js.download"></script><script type="text/javascript" charset="utf-8" async="" data-requirecontext="_" data-requiremodule="nbextensions/jupyter-js-widgets/extension" src="./ML Assignment 3_files/extension.js(1).download"></script><style type="text/css">.MathJax_Display {text-align: center; margin: 0; position: relative; display: block!important; text-indent: 0; max-width: none; max-height: none; min-width: 0; min-height: 0; width: 100%}
.MathJax .merror {background-color: #FFFF88; color: #CC0000; border: 1px solid #CC0000; padding: 1px 3px; font-style: normal; font-size: 90%}
.MathJax .MJX-monospace {font-family: monospace}
.MathJax .MJX-sans-serif {font-family: sans-serif}
#MathJax_Tooltip {background-color: InfoBackground; color: InfoText; border: 1px solid black; box-shadow: 2px 2px 5px #AAAAAA; -webkit-box-shadow: 2px 2px 5px #AAAAAA; -moz-box-shadow: 2px 2px 5px #AAAAAA; -khtml-box-shadow: 2px 2px 5px #AAAAAA; filter: progid:DXImageTransform.Microsoft.dropshadow(OffX=2, OffY=2, Color='gray', Positive='true'); padding: 3px 4px; z-index: 401; position: absolute; left: 0; top: 0; width: auto; height: auto; display: none}
.MathJax {display: inline; font-style: normal; font-weight: normal; line-height: normal; font-size: 100%; font-size-adjust: none; text-indent: 0; text-align: left; text-transform: none; letter-spacing: normal; word-spacing: normal; word-wrap: normal; white-space: nowrap; float: none; direction: ltr; max-width: none; max-height: none; min-width: 0; min-height: 0; border: 0; padding: 0; margin: 0}
.MathJax:focus, body :focus .MathJax {display: inline-table}
.MathJax.MathJax_FullWidth {text-align: center; display: table-cell!important; width: 10000em!important}
.MathJax img, .MathJax nobr, .MathJax a {border: 0; padding: 0; margin: 0; max-width: none; max-height: none; min-width: 0; min-height: 0; vertical-align: 0; line-height: normal; text-decoration: none}
img.MathJax_strut {border: 0!important; padding: 0!important; margin: 0!important; vertical-align: 0!important}
.MathJax span {display: inline; position: static; border: 0; padding: 0; margin: 0; vertical-align: 0; line-height: normal; text-decoration: none; box-sizing: content-box}
.MathJax nobr {white-space: nowrap!important}
.MathJax img {display: inline!important; float: none!important}
.MathJax * {transition: none; -webkit-transition: none; -moz-transition: none; -ms-transition: none; -o-transition: none}
.MathJax_Processing {visibility: hidden; position: fixed; width: 0; height: 0; overflow: hidden}
.MathJax_Processed {display: none!important}
.MathJax_test {font-style: normal; font-weight: normal; font-size: 100%; font-size-adjust: none; text-indent: 0; text-transform: none; letter-spacing: normal; word-spacing: normal; overflow: hidden; height: 1px}
.MathJax_test.mjx-test-display {display: table!important}
.MathJax_test.mjx-test-inline {display: inline!important; margin-right: -1px}
.MathJax_test.mjx-test-default {display: block!important; clear: both}
.MathJax_ex_box {display: inline-block!important; position: absolute; overflow: hidden; min-height: 0; max-height: none; padding: 0; border: 0; margin: 0; width: 1px; height: 60ex}
.MathJax_em_box {display: inline-block!important; position: absolute; overflow: hidden; min-height: 0; max-height: none; padding: 0; border: 0; margin: 0; width: 1px; height: 60em}
.mjx-test-inline .MathJax_left_box {display: inline-block; width: 0; float: left}
.mjx-test-inline .MathJax_right_box {display: inline-block; width: 0; float: right}
.mjx-test-display .MathJax_right_box {display: table-cell!important; width: 10000em!important; min-width: 0; max-width: none; padding: 0; border: 0; margin: 0}
.MathJax .MathJax_HitBox {cursor: text; background: white; opacity: 0; filter: alpha(opacity=0)}
.MathJax .MathJax_HitBox * {filter: none; opacity: 1; background: transparent}
#MathJax_Tooltip * {filter: none; opacity: 1; background: transparent}
@font-face {font-family: MathJax_Blank; src: url('about:blank')}
.MathJax .noError {vertical-align: ; font-size: 90%; text-align: left; color: black; padding: 1px 3px; border: 1px solid}
</style><style>/*
 * Copyright (c) Jupyter Development Team.
 * Distributed under the terms of the Modified BSD License.
 */

/* Override the correction for the prompt area in https://github.com/jupyter/notebook/blob/dd41d9fd5c4f698bd7468612d877828a7eeb0e7a/IPython/html/static/notebook/less/outputarea.less#L110 */
.jupyter-widgets-output-area div.output_subarea {
    max-width: 100%;
}

/* Work-around for the bug fixed in https://github.com/jupyter/notebook/pull/2961 */
.jupyter-widgets-output-area > .out_prompt_overlay {
    display: none;
}
</style><style>/*-----------------------------------------------------------------------------
| Copyright (c) Jupyter Development Team.
| Copyright (c) 2014-2017, PhosphorJS Contributors
|
| Distributed under the terms of the BSD 3-Clause License.
|
| The full license is in the file LICENSE, distributed with this software.
|----------------------------------------------------------------------------*/

/* <DEPRECATED> */
.p-Widget, /* </DEPRECATED> */
.lm-Widget {
  box-sizing: border-box;
  position: relative;
  overflow: hidden;
  cursor: default;
}

/* <DEPRECATED> */
.p-Widget.p-mod-hidden, /* </DEPRECATED> */
.lm-Widget.lm-mod-hidden {
  display: none !important;
}
</style><style>.lm-AccordionPanel[data-orientation='horizontal'] > .lm-AccordionPanel-title {
  /* Title is rotated for horizontal accordion panel using CSS */
  display: block;
  transform-origin: top left;
  transform: rotate(-90deg) translate(-100%);
}
</style><style>/*-----------------------------------------------------------------------------
| Copyright (c) Jupyter Development Team.
| Copyright (c) 2014-2017, PhosphorJS Contributors
|
| Distributed under the terms of the BSD 3-Clause License.
|
| The full license is in the file LICENSE, distributed with this software.
|----------------------------------------------------------------------------*/

/* <DEPRECATED> */
.p-CommandPalette, /* </DEPRECATED> */
.lm-CommandPalette {
  display: flex;
  flex-direction: column;
  -webkit-user-select: none;
  -moz-user-select: none;
  -ms-user-select: none;
  user-select: none;
}

/* <DEPRECATED> */
.p-CommandPalette-search, /* </DEPRECATED> */
.lm-CommandPalette-search {
  flex: 0 0 auto;
}

/* <DEPRECATED> */
.p-CommandPalette-content, /* </DEPRECATED> */
.lm-CommandPalette-content {
  flex: 1 1 auto;
  margin: 0;
  padding: 0;
  min-height: 0;
  overflow: auto;
  list-style-type: none;
}

/* <DEPRECATED> */
.p-CommandPalette-header, /* </DEPRECATED> */
.lm-CommandPalette-header {
  overflow: hidden;
  white-space: nowrap;
  text-overflow: ellipsis;
}

/* <DEPRECATED> */
.p-CommandPalette-item, /* </DEPRECATED> */
.lm-CommandPalette-item {
  display: flex;
  flex-direction: row;
}

/* <DEPRECATED> */
.p-CommandPalette-itemIcon, /* </DEPRECATED> */
.lm-CommandPalette-itemIcon {
  flex: 0 0 auto;
}

/* <DEPRECATED> */
.p-CommandPalette-itemContent, /* </DEPRECATED> */
.lm-CommandPalette-itemContent {
  flex: 1 1 auto;
  overflow: hidden;
}

/* <DEPRECATED> */
.p-CommandPalette-itemShortcut, /* </DEPRECATED> */
.lm-CommandPalette-itemShortcut {
  flex: 0 0 auto;
}

/* <DEPRECATED> */
.p-CommandPalette-itemLabel, /* </DEPRECATED> */
.lm-CommandPalette-itemLabel {
  overflow: hidden;
  white-space: nowrap;
  text-overflow: ellipsis;
}

.lm-close-icon {
  border: 1px solid transparent;
  background-color: transparent;
  position: absolute;
  z-index: 1;
  right: 3%;
  top: 0;
  bottom: 0;
  margin: auto;
  padding: 7px 0;
  display: none;
  vertical-align: middle;
  outline: 0;
  cursor: pointer;
}
.lm-close-icon:after {
  content: 'X';
  display: block;
  width: 15px;
  height: 15px;
  text-align: center;
  color: #000;
  font-weight: normal;
  font-size: 12px;
  cursor: pointer;
}
</style><style>/*-----------------------------------------------------------------------------
| Copyright (c) Jupyter Development Team.
| Copyright (c) 2014-2017, PhosphorJS Contributors
|
| Distributed under the terms of the BSD 3-Clause License.
|
| The full license is in the file LICENSE, distributed with this software.
|----------------------------------------------------------------------------*/

/* <DEPRECATED> */
.p-DockPanel, /* </DEPRECATED> */
.lm-DockPanel {
  z-index: 0;
}

/* <DEPRECATED> */
.p-DockPanel-widget, /* </DEPRECATED> */
.lm-DockPanel-widget {
  z-index: 0;
}

/* <DEPRECATED> */
.p-DockPanel-tabBar, /* </DEPRECATED> */
.lm-DockPanel-tabBar {
  z-index: 1;
}

/* <DEPRECATED> */
.p-DockPanel-handle, /* </DEPRECATED> */
.lm-DockPanel-handle {
  z-index: 2;
}

/* <DEPRECATED> */
.p-DockPanel-handle.p-mod-hidden, /* </DEPRECATED> */
.lm-DockPanel-handle.lm-mod-hidden {
  display: none !important;
}

/* <DEPRECATED> */
.p-DockPanel-handle:after, /* </DEPRECATED> */
.lm-DockPanel-handle:after {
  position: absolute;
  top: 0;
  left: 0;
  width: 100%;
  height: 100%;
  content: '';
}

/* <DEPRECATED> */
.p-DockPanel-handle[data-orientation='horizontal'],
/* </DEPRECATED> */
.lm-DockPanel-handle[data-orientation='horizontal'] {
  cursor: ew-resize;
}

/* <DEPRECATED> */
.p-DockPanel-handle[data-orientation='vertical'],
/* </DEPRECATED> */
.lm-DockPanel-handle[data-orientation='vertical'] {
  cursor: ns-resize;
}

/* <DEPRECATED> */
.p-DockPanel-handle[data-orientation='horizontal']:after,
/* </DEPRECATED> */
.lm-DockPanel-handle[data-orientation='horizontal']:after {
  left: 50%;
  min-width: 8px;
  transform: translateX(-50%);
}

/* <DEPRECATED> */
.p-DockPanel-handle[data-orientation='vertical']:after,
/* </DEPRECATED> */
.lm-DockPanel-handle[data-orientation='vertical']:after {
  top: 50%;
  min-height: 8px;
  transform: translateY(-50%);
}

/* <DEPRECATED> */
.p-DockPanel-overlay, /* </DEPRECATED> */
.lm-DockPanel-overlay {
  z-index: 3;
  box-sizing: border-box;
  pointer-events: none;
}

/* <DEPRECATED> */
.p-DockPanel-overlay.p-mod-hidden, /* </DEPRECATED> */
.lm-DockPanel-overlay.lm-mod-hidden {
  display: none !important;
}
</style><style>/*-----------------------------------------------------------------------------
| Copyright (c) Jupyter Development Team.
| Copyright (c) 2014-2017, PhosphorJS Contributors
|
| Distributed under the terms of the BSD 3-Clause License.
|
| The full license is in the file LICENSE, distributed with this software.
|----------------------------------------------------------------------------*/

/* <DEPRECATED> */
.p-Menu, /* </DEPRECATED> */
.lm-Menu {
  z-index: 10000;
  position: absolute;
  white-space: nowrap;
  overflow-x: hidden;
  overflow-y: auto;
  outline: none;
  -webkit-user-select: none;
  -moz-user-select: none;
  -ms-user-select: none;
  user-select: none;
}

/* <DEPRECATED> */
.p-Menu-content, /* </DEPRECATED> */
.lm-Menu-content {
  margin: 0;
  padding: 0;
  display: table;
  list-style-type: none;
}

/* <DEPRECATED> */
.p-Menu-item, /* </DEPRECATED> */
.lm-Menu-item {
  display: table-row;
}

/* <DEPRECATED> */
.p-Menu-item.p-mod-hidden,
.p-Menu-item.p-mod-collapsed,
/* </DEPRECATED> */
.lm-Menu-item.lm-mod-hidden,
.lm-Menu-item.lm-mod-collapsed {
  display: none !important;
}

/* <DEPRECATED> */
.p-Menu-itemIcon,
.p-Menu-itemSubmenuIcon,
/* </DEPRECATED> */
.lm-Menu-itemIcon,
.lm-Menu-itemSubmenuIcon {
  display: table-cell;
  text-align: center;
}

/* <DEPRECATED> */
.p-Menu-itemLabel, /* </DEPRECATED> */
.lm-Menu-itemLabel {
  display: table-cell;
  text-align: left;
}

/* <DEPRECATED> */
.p-Menu-itemShortcut, /* </DEPRECATED> */
.lm-Menu-itemShortcut {
  display: table-cell;
  text-align: right;
}
</style><style>/*-----------------------------------------------------------------------------
| Copyright (c) Jupyter Development Team.
| Copyright (c) 2014-2017, PhosphorJS Contributors
|
| Distributed under the terms of the BSD 3-Clause License.
|
| The full license is in the file LICENSE, distributed with this software.
|----------------------------------------------------------------------------*/

/* <DEPRECATED> */
.p-MenuBar, /* </DEPRECATED> */
.lm-MenuBar {
  outline: none;
  -webkit-user-select: none;
  -moz-user-select: none;
  -ms-user-select: none;
  user-select: none;
}

/* <DEPRECATED> */
.p-MenuBar-content, /* </DEPRECATED> */
.lm-MenuBar-content {
  margin: 0;
  padding: 0;
  display: flex;
  flex-direction: row;
  list-style-type: none;
}

/* <DEPRECATED> */
.p--MenuBar-item, /* </DEPRECATED> */
.lm-MenuBar-item {
  box-sizing: border-box;
}

/* <DEPRECATED> */
.p-MenuBar-itemIcon,
.p-MenuBar-itemLabel,
/* </DEPRECATED> */
.lm-MenuBar-itemIcon,
.lm-MenuBar-itemLabel {
  display: inline-block;
}
</style><style>/*-----------------------------------------------------------------------------
| Copyright (c) Jupyter Development Team.
| Copyright (c) 2014-2017, PhosphorJS Contributors
|
| Distributed under the terms of the BSD 3-Clause License.
|
| The full license is in the file LICENSE, distributed with this software.
|----------------------------------------------------------------------------*/

/* <DEPRECATED> */
.p-ScrollBar, /* </DEPRECATED> */
.lm-ScrollBar {
  display: flex;
  -webkit-user-select: none;
  -moz-user-select: none;
  -ms-user-select: none;
  user-select: none;
}

/* <DEPRECATED> */
.p-ScrollBar[data-orientation='horizontal'],
/* </DEPRECATED> */
.lm-ScrollBar[data-orientation='horizontal'] {
  flex-direction: row;
}

/* <DEPRECATED> */
.p-ScrollBar[data-orientation='vertical'],
/* </DEPRECATED> */
.lm-ScrollBar[data-orientation='vertical'] {
  flex-direction: column;
}

/* <DEPRECATED> */
.p-ScrollBar-button, /* </DEPRECATED> */
.lm-ScrollBar-button {
  box-sizing: border-box;
  flex: 0 0 auto;
}

/* <DEPRECATED> */
.p-ScrollBar-track, /* </DEPRECATED> */
.lm-ScrollBar-track {
  box-sizing: border-box;
  position: relative;
  overflow: hidden;
  flex: 1 1 auto;
}

/* <DEPRECATED> */
.p-ScrollBar-thumb, /* </DEPRECATED> */
.lm-ScrollBar-thumb {
  box-sizing: border-box;
  position: absolute;
}
</style><style>/*-----------------------------------------------------------------------------
| Copyright (c) Jupyter Development Team.
| Copyright (c) 2014-2017, PhosphorJS Contributors
|
| Distributed under the terms of the BSD 3-Clause License.
|
| The full license is in the file LICENSE, distributed with this software.
|----------------------------------------------------------------------------*/

/* <DEPRECATED> */
.p-SplitPanel-child, /* </DEPRECATED> */
.lm-SplitPanel-child {
  z-index: 0;
}

/* <DEPRECATED> */
.p-SplitPanel-handle, /* </DEPRECATED> */
.lm-SplitPanel-handle {
  z-index: 1;
}

/* <DEPRECATED> */
.p-SplitPanel-handle.p-mod-hidden, /* </DEPRECATED> */
.lm-SplitPanel-handle.lm-mod-hidden {
  display: none !important;
}

/* <DEPRECATED> */
.p-SplitPanel-handle:after, /* </DEPRECATED> */
.lm-SplitPanel-handle:after {
  position: absolute;
  top: 0;
  left: 0;
  width: 100%;
  height: 100%;
  content: '';
}

/* <DEPRECATED> */
.p-SplitPanel[data-orientation='horizontal'] > .p-SplitPanel-handle,
/* </DEPRECATED> */
.lm-SplitPanel[data-orientation='horizontal'] > .lm-SplitPanel-handle {
  cursor: ew-resize;
}

/* <DEPRECATED> */
.p-SplitPanel[data-orientation='vertical'] > .p-SplitPanel-handle,
/* </DEPRECATED> */
.lm-SplitPanel[data-orientation='vertical'] > .lm-SplitPanel-handle {
  cursor: ns-resize;
}

/* <DEPRECATED> */
.p-SplitPanel[data-orientation='horizontal'] > .p-SplitPanel-handle:after,
/* </DEPRECATED> */
.lm-SplitPanel[data-orientation='horizontal'] > .lm-SplitPanel-handle:after {
  left: 50%;
  min-width: 8px;
  transform: translateX(-50%);
}

/* <DEPRECATED> */
.p-SplitPanel[data-orientation='vertical'] > .p-SplitPanel-handle:after,
/* </DEPRECATED> */
.lm-SplitPanel[data-orientation='vertical'] > .lm-SplitPanel-handle:after {
  top: 50%;
  min-height: 8px;
  transform: translateY(-50%);
}
</style><style>/*-----------------------------------------------------------------------------
| Copyright (c) Jupyter Development Team.
| Copyright (c) 2014-2017, PhosphorJS Contributors
|
| Distributed under the terms of the BSD 3-Clause License.
|
| The full license is in the file LICENSE, distributed with this software.
|----------------------------------------------------------------------------*/

/* <DEPRECATED> */
.p-TabBar, /* </DEPRECATED> */
.lm-TabBar {
  display: flex;
  -webkit-user-select: none;
  -moz-user-select: none;
  -ms-user-select: none;
  user-select: none;
}

/* <DEPRECATED> */
.p-TabBar[data-orientation='horizontal'], /* </DEPRECATED> */
.lm-TabBar[data-orientation='horizontal'] {
  flex-direction: row;
  align-items: flex-end;
}

/* <DEPRECATED> */
.p-TabBar[data-orientation='vertical'], /* </DEPRECATED> */
.lm-TabBar[data-orientation='vertical'] {
  flex-direction: column;
  align-items: flex-end;
}

/* <DEPRECATED> */
.p-TabBar-content, /* </DEPRECATED> */
.lm-TabBar-content {
  margin: 0;
  padding: 0;
  display: flex;
  flex: 1 1 auto;
  list-style-type: none;
}

/* <DEPRECATED> */
.p-TabBar[data-orientation='horizontal'] > .p-TabBar-content,
/* </DEPRECATED> */
.lm-TabBar[data-orientation='horizontal'] > .lm-TabBar-content {
  flex-direction: row;
}

/* <DEPRECATED> */
.p-TabBar[data-orientation='vertical'] > .p-TabBar-content,
/* </DEPRECATED> */
.lm-TabBar[data-orientation='vertical'] > .lm-TabBar-content {
  flex-direction: column;
}

/* <DEPRECATED> */
.p-TabBar-tab, /* </DEPRECATED> */
.lm-TabBar-tab {
  display: flex;
  flex-direction: row;
  box-sizing: border-box;
  overflow: hidden;
  touch-action: none; /* Disable native Drag/Drop */
}

/* <DEPRECATED> */
.p-TabBar-tabIcon,
.p-TabBar-tabCloseIcon,
/* </DEPRECATED> */
.lm-TabBar-tabIcon,
.lm-TabBar-tabCloseIcon {
  flex: 0 0 auto;
}

/* <DEPRECATED> */
.p-TabBar-tabLabel, /* </DEPRECATED> */
.lm-TabBar-tabLabel {
  flex: 1 1 auto;
  overflow: hidden;
  white-space: nowrap;
}

.lm-TabBar-tabInput {
  user-select: all;
  width: 100%;
  box-sizing: border-box;
}

/* <DEPRECATED> */
.p-TabBar-tab.p-mod-hidden, /* </DEPRECATED> */
.lm-TabBar-tab.lm-mod-hidden {
  display: none !important;
}

.lm-TabBar-addButton.lm-mod-hidden {
  display: none !important;
}

/* <DEPRECATED> */
.p-TabBar.p-mod-dragging .p-TabBar-tab, /* </DEPRECATED> */
.lm-TabBar.lm-mod-dragging .lm-TabBar-tab {
  position: relative;
}

/* <DEPRECATED> */
.p-TabBar.p-mod-dragging[data-orientation='horizontal'] .p-TabBar-tab,
/* </DEPRECATED> */
.lm-TabBar.lm-mod-dragging[data-orientation='horizontal'] .lm-TabBar-tab {
  left: 0;
  transition: left 150ms ease;
}

/* <DEPRECATED> */
.p-TabBar.p-mod-dragging[data-orientation='vertical'] .p-TabBar-tab,
/* </DEPRECATED> */
.lm-TabBar.lm-mod-dragging[data-orientation='vertical'] .lm-TabBar-tab {
  top: 0;
  transition: top 150ms ease;
}

/* <DEPRECATED> */
.p-TabBar.p-mod-dragging .p-TabBar-tab.p-mod-dragging,
/* </DEPRECATED> */
.lm-TabBar.lm-mod-dragging .lm-TabBar-tab.lm-mod-dragging {
  transition: none;
}

.lm-TabBar-tabLabel .lm-TabBar-tabInput {
  user-select: all;
  width: 100%;
  box-sizing: border-box;
  background: inherit;
}
</style><style>/*-----------------------------------------------------------------------------
| Copyright (c) Jupyter Development Team.
| Copyright (c) 2014-2017, PhosphorJS Contributors
|
| Distributed under the terms of the BSD 3-Clause License.
|
| The full license is in the file LICENSE, distributed with this software.
|----------------------------------------------------------------------------*/

/* <DEPRECATED> */
.p-TabPanel-tabBar, /* </DEPRECATED> */
.lm-TabPanel-tabBar {
  z-index: 1;
}

/* <DEPRECATED> */
.p-TabPanel-stackedPanel, /* </DEPRECATED> */
.lm-TabPanel-stackedPanel {
  z-index: 0;
}
</style><style>/*-----------------------------------------------------------------------------
| Copyright (c) Jupyter Development Team.
| Copyright (c) 2014-2017, PhosphorJS Contributors
|
| Distributed under the terms of the BSD 3-Clause License.
|
| The full license is in the file LICENSE, distributed with this software.
|----------------------------------------------------------------------------*/
</style><style>/* Copyright (c) Jupyter Development Team.
 * Distributed under the terms of the Modified BSD License.
 */

 .jupyter-widgets-disconnected::before {
    content: "\f127"; /* chain-broken */
    display: inline-block;
    font: normal normal normal 14px/1 FontAwesome;
    font-size: inherit;
    text-rendering: auto;
    -webkit-font-smoothing: antialiased;
    -moz-osx-font-smoothing: grayscale;
    color: #d9534f;
    padding: 3px;
    align-self: flex-start;
}
</style><style>/**
 * The material design colors are adapted from google-material-color v1.2.6
 * https://github.com/danlevan/google-material-color
 * https://github.com/danlevan/google-material-color/blob/f67ca5f4028b2f1b34862f64b0ca67323f91b088/dist/palette.var.css
 *
 * The license for the material design color CSS variables is as follows (see
 * https://github.com/danlevan/google-material-color/blob/f67ca5f4028b2f1b34862f64b0ca67323f91b088/LICENSE)
 *
 * The MIT License (MIT)
 *
 * Copyright (c) 2014 Dan Le Van
 *
 * Permission is hereby granted, free of charge, to any person obtaining a copy
 * of this software and associated documentation files (the "Software"), to deal
 * in the Software without restriction, including without limitation the rights
 * to use, copy, modify, merge, publish, distribute, sublicense, and/or sell
 * copies of the Software, and to permit persons to whom the Software is
 * furnished to do so, subject to the following conditions:
 *
 * The above copyright notice and this permission notice shall be included in
 * all copies or substantial portions of the Software.
 *
 * THE SOFTWARE IS PROVIDED "AS IS", WITHOUT WARRANTY OF ANY KIND, EXPRESS OR
 * IMPLIED, INCLUDING BUT NOT LIMITED TO THE WARRANTIES OF MERCHANTABILITY,
 * FITNESS FOR A PARTICULAR PURPOSE AND NONINFRINGEMENT. IN NO EVENT SHALL THE
 * AUTHORS OR COPYRIGHT HOLDERS BE LIABLE FOR ANY CLAIM, DAMAGES OR OTHER
 * LIABILITY, WHETHER IN AN ACTION OF CONTRACT, TORT OR OTHERWISE, ARISING FROM,
 * OUT OF OR IN CONNECTION WITH THE SOFTWARE OR THE USE OR OTHER DEALINGS IN THE
 * SOFTWARE.
 */
:root {
  --md-red-50: #FFEBEE;
  --md-red-100: #FFCDD2;
  --md-red-200: #EF9A9A;
  --md-red-300: #E57373;
  --md-red-400: #EF5350;
  --md-red-500: #F44336;
  --md-red-600: #E53935;
  --md-red-700: #D32F2F;
  --md-red-800: #C62828;
  --md-red-900: #B71C1C;
  --md-red-A100: #FF8A80;
  --md-red-A200: #FF5252;
  --md-red-A400: #FF1744;
  --md-red-A700: #D50000;

  --md-pink-50: #FCE4EC;
  --md-pink-100: #F8BBD0;
  --md-pink-200: #F48FB1;
  --md-pink-300: #F06292;
  --md-pink-400: #EC407A;
  --md-pink-500: #E91E63;
  --md-pink-600: #D81B60;
  --md-pink-700: #C2185B;
  --md-pink-800: #AD1457;
  --md-pink-900: #880E4F;
  --md-pink-A100: #FF80AB;
  --md-pink-A200: #FF4081;
  --md-pink-A400: #F50057;
  --md-pink-A700: #C51162;

  --md-purple-50: #F3E5F5;
  --md-purple-100: #E1BEE7;
  --md-purple-200: #CE93D8;
  --md-purple-300: #BA68C8;
  --md-purple-400: #AB47BC;
  --md-purple-500: #9C27B0;
  --md-purple-600: #8E24AA;
  --md-purple-700: #7B1FA2;
  --md-purple-800: #6A1B9A;
  --md-purple-900: #4A148C;
  --md-purple-A100: #EA80FC;
  --md-purple-A200: #E040FB;
  --md-purple-A400: #D500F9;
  --md-purple-A700: #AA00FF;

  --md-deep-purple-50: #EDE7F6;
  --md-deep-purple-100: #D1C4E9;
  --md-deep-purple-200: #B39DDB;
  --md-deep-purple-300: #9575CD;
  --md-deep-purple-400: #7E57C2;
  --md-deep-purple-500: #673AB7;
  --md-deep-purple-600: #5E35B1;
  --md-deep-purple-700: #512DA8;
  --md-deep-purple-800: #4527A0;
  --md-deep-purple-900: #311B92;
  --md-deep-purple-A100: #B388FF;
  --md-deep-purple-A200: #7C4DFF;
  --md-deep-purple-A400: #651FFF;
  --md-deep-purple-A700: #6200EA;

  --md-indigo-50: #E8EAF6;
  --md-indigo-100: #C5CAE9;
  --md-indigo-200: #9FA8DA;
  --md-indigo-300: #7986CB;
  --md-indigo-400: #5C6BC0;
  --md-indigo-500: #3F51B5;
  --md-indigo-600: #3949AB;
  --md-indigo-700: #303F9F;
  --md-indigo-800: #283593;
  --md-indigo-900: #1A237E;
  --md-indigo-A100: #8C9EFF;
  --md-indigo-A200: #536DFE;
  --md-indigo-A400: #3D5AFE;
  --md-indigo-A700: #304FFE;

  --md-blue-50: #E3F2FD;
  --md-blue-100: #BBDEFB;
  --md-blue-200: #90CAF9;
  --md-blue-300: #64B5F6;
  --md-blue-400: #42A5F5;
  --md-blue-500: #2196F3;
  --md-blue-600: #1E88E5;
  --md-blue-700: #1976D2;
  --md-blue-800: #1565C0;
  --md-blue-900: #0D47A1;
  --md-blue-A100: #82B1FF;
  --md-blue-A200: #448AFF;
  --md-blue-A400: #2979FF;
  --md-blue-A700: #2962FF;

  --md-light-blue-50: #E1F5FE;
  --md-light-blue-100: #B3E5FC;
  --md-light-blue-200: #81D4FA;
  --md-light-blue-300: #4FC3F7;
  --md-light-blue-400: #29B6F6;
  --md-light-blue-500: #03A9F4;
  --md-light-blue-600: #039BE5;
  --md-light-blue-700: #0288D1;
  --md-light-blue-800: #0277BD;
  --md-light-blue-900: #01579B;
  --md-light-blue-A100: #80D8FF;
  --md-light-blue-A200: #40C4FF;
  --md-light-blue-A400: #00B0FF;
  --md-light-blue-A700: #0091EA;

  --md-cyan-50: #E0F7FA;
  --md-cyan-100: #B2EBF2;
  --md-cyan-200: #80DEEA;
  --md-cyan-300: #4DD0E1;
  --md-cyan-400: #26C6DA;
  --md-cyan-500: #00BCD4;
  --md-cyan-600: #00ACC1;
  --md-cyan-700: #0097A7;
  --md-cyan-800: #00838F;
  --md-cyan-900: #006064;
  --md-cyan-A100: #84FFFF;
  --md-cyan-A200: #18FFFF;
  --md-cyan-A400: #00E5FF;
  --md-cyan-A700: #00B8D4;

  --md-teal-50: #E0F2F1;
  --md-teal-100: #B2DFDB;
  --md-teal-200: #80CBC4;
  --md-teal-300: #4DB6AC;
  --md-teal-400: #26A69A;
  --md-teal-500: #009688;
  --md-teal-600: #00897B;
  --md-teal-700: #00796B;
  --md-teal-800: #00695C;
  --md-teal-900: #004D40;
  --md-teal-A100: #A7FFEB;
  --md-teal-A200: #64FFDA;
  --md-teal-A400: #1DE9B6;
  --md-teal-A700: #00BFA5;

  --md-green-50: #E8F5E9;
  --md-green-100: #C8E6C9;
  --md-green-200: #A5D6A7;
  --md-green-300: #81C784;
  --md-green-400: #66BB6A;
  --md-green-500: #4CAF50;
  --md-green-600: #43A047;
  --md-green-700: #388E3C;
  --md-green-800: #2E7D32;
  --md-green-900: #1B5E20;
  --md-green-A100: #B9F6CA;
  --md-green-A200: #69F0AE;
  --md-green-A400: #00E676;
  --md-green-A700: #00C853;

  --md-light-green-50: #F1F8E9;
  --md-light-green-100: #DCEDC8;
  --md-light-green-200: #C5E1A5;
  --md-light-green-300: #AED581;
  --md-light-green-400: #9CCC65;
  --md-light-green-500: #8BC34A;
  --md-light-green-600: #7CB342;
  --md-light-green-700: #689F38;
  --md-light-green-800: #558B2F;
  --md-light-green-900: #33691E;
  --md-light-green-A100: #CCFF90;
  --md-light-green-A200: #B2FF59;
  --md-light-green-A400: #76FF03;
  --md-light-green-A700: #64DD17;

  --md-lime-50: #F9FBE7;
  --md-lime-100: #F0F4C3;
  --md-lime-200: #E6EE9C;
  --md-lime-300: #DCE775;
  --md-lime-400: #D4E157;
  --md-lime-500: #CDDC39;
  --md-lime-600: #C0CA33;
  --md-lime-700: #AFB42B;
  --md-lime-800: #9E9D24;
  --md-lime-900: #827717;
  --md-lime-A100: #F4FF81;
  --md-lime-A200: #EEFF41;
  --md-lime-A400: #C6FF00;
  --md-lime-A700: #AEEA00;

  --md-yellow-50: #FFFDE7;
  --md-yellow-100: #FFF9C4;
  --md-yellow-200: #FFF59D;
  --md-yellow-300: #FFF176;
  --md-yellow-400: #FFEE58;
  --md-yellow-500: #FFEB3B;
  --md-yellow-600: #FDD835;
  --md-yellow-700: #FBC02D;
  --md-yellow-800: #F9A825;
  --md-yellow-900: #F57F17;
  --md-yellow-A100: #FFFF8D;
  --md-yellow-A200: #FFFF00;
  --md-yellow-A400: #FFEA00;
  --md-yellow-A700: #FFD600;

  --md-amber-50: #FFF8E1;
  --md-amber-100: #FFECB3;
  --md-amber-200: #FFE082;
  --md-amber-300: #FFD54F;
  --md-amber-400: #FFCA28;
  --md-amber-500: #FFC107;
  --md-amber-600: #FFB300;
  --md-amber-700: #FFA000;
  --md-amber-800: #FF8F00;
  --md-amber-900: #FF6F00;
  --md-amber-A100: #FFE57F;
  --md-amber-A200: #FFD740;
  --md-amber-A400: #FFC400;
  --md-amber-A700: #FFAB00;

  --md-orange-50: #FFF3E0;
  --md-orange-100: #FFE0B2;
  --md-orange-200: #FFCC80;
  --md-orange-300: #FFB74D;
  --md-orange-400: #FFA726;
  --md-orange-500: #FF9800;
  --md-orange-600: #FB8C00;
  --md-orange-700: #F57C00;
  --md-orange-800: #EF6C00;
  --md-orange-900: #E65100;
  --md-orange-A100: #FFD180;
  --md-orange-A200: #FFAB40;
  --md-orange-A400: #FF9100;
  --md-orange-A700: #FF6D00;

  --md-deep-orange-50: #FBE9E7;
  --md-deep-orange-100: #FFCCBC;
  --md-deep-orange-200: #FFAB91;
  --md-deep-orange-300: #FF8A65;
  --md-deep-orange-400: #FF7043;
  --md-deep-orange-500: #FF5722;
  --md-deep-orange-600: #F4511E;
  --md-deep-orange-700: #E64A19;
  --md-deep-orange-800: #D84315;
  --md-deep-orange-900: #BF360C;
  --md-deep-orange-A100: #FF9E80;
  --md-deep-orange-A200: #FF6E40;
  --md-deep-orange-A400: #FF3D00;
  --md-deep-orange-A700: #DD2C00;

  --md-brown-50: #EFEBE9;
  --md-brown-100: #D7CCC8;
  --md-brown-200: #BCAAA4;
  --md-brown-300: #A1887F;
  --md-brown-400: #8D6E63;
  --md-brown-500: #795548;
  --md-brown-600: #6D4C41;
  --md-brown-700: #5D4037;
  --md-brown-800: #4E342E;
  --md-brown-900: #3E2723;

  --md-grey-50: #FAFAFA;
  --md-grey-100: #F5F5F5;
  --md-grey-200: #EEEEEE;
  --md-grey-300: #E0E0E0;
  --md-grey-400: #BDBDBD;
  --md-grey-500: #9E9E9E;
  --md-grey-600: #757575;
  --md-grey-700: #616161;
  --md-grey-800: #424242;
  --md-grey-900: #212121;

  --md-blue-grey-50: #ECEFF1;
  --md-blue-grey-100: #CFD8DC;
  --md-blue-grey-200: #B0BEC5;
  --md-blue-grey-300: #90A4AE;
  --md-blue-grey-400: #78909C;
  --md-blue-grey-500: #607D8B;
  --md-blue-grey-600: #546E7A;
  --md-blue-grey-700: #455A64;
  --md-blue-grey-800: #37474F;
  --md-blue-grey-900: #263238;
}</style><style>/*-----------------------------------------------------------------------------
| Copyright (c) Jupyter Development Team.
| Distributed under the terms of the Modified BSD License.
|----------------------------------------------------------------------------*/

/*
This file is copied from the JupyterLab project to define default styling for
when the widget styling is compiled down to eliminate CSS variables. We make one
change - we comment out the font import below.
*/

/*
The following CSS variables define the main, public API for styling JupyterLab.
These variables should be used by all plugins wherever possible. In other
words, plugins should not define custom colors, sizes, etc unless absolutely
necessary. This enables users to change the visual theme of JupyterLab
by changing these variables.

Many variables appear in an ordered sequence (0,1,2,3). These sequences
are designed to work well together, so for example, `--jp-border-color1` should
be used with `--jp-layout-color1`. The numbers have the following meanings:

* 0: super-primary, reserved for special emphasis
* 1: primary, most important under normal situations
* 2: secondary, next most important under normal situations
* 3: tertiary, next most important under normal situations

Throughout JupyterLab, we are mostly following principles from Google's
Material Design when selecting colors. We are not, however, following
all of MD as it is not optimized for dense, information rich UIs.
*/


/*
 * Optional monospace font for input/output prompt.
 */
 /* Commented out in ipywidgets since we don't need it. */
/* @import url('https://fonts.googleapis.com/css?family=Roboto+Mono'); */

/*
 * Added for compabitility with output area
 */
:root {
  --jp-icon-search: none;
  --jp-ui-select-caret: none;
}


:root {

  /* Borders

  The following variables, specify the visual styling of borders in JupyterLab.
   */

  --jp-border-width: 1px;
  --jp-border-color0: var(--md-grey-700);
  --jp-border-color1: var(--md-grey-500);
  --jp-border-color2: var(--md-grey-300);
  --jp-border-color3: var(--md-grey-100);

  /* UI Fonts

  The UI font CSS variables are used for the typography all of the JupyterLab
  user interface elements that are not directly user generated content.
  */

  --jp-ui-font-scale-factor: 1.2;
  --jp-ui-font-size0: calc(var(--jp-ui-font-size1)/var(--jp-ui-font-scale-factor));
  --jp-ui-font-size1: 13px; /* Base font size */
  --jp-ui-font-size2: calc(var(--jp-ui-font-size1)*var(--jp-ui-font-scale-factor));
  --jp-ui-font-size3: calc(var(--jp-ui-font-size2)*var(--jp-ui-font-scale-factor));
  --jp-ui-icon-font-size: 14px; /* Ensures px perfect FontAwesome icons */
  --jp-ui-font-family: "Helvetica Neue", Helvetica, Arial, sans-serif;

  /* Use these font colors against the corresponding main layout colors.
     In a light theme, these go from dark to light.
  */

  --jp-ui-font-color0: rgba(0,0,0,1.0);
  --jp-ui-font-color1: rgba(0,0,0,0.8);
  --jp-ui-font-color2: rgba(0,0,0,0.5);
  --jp-ui-font-color3: rgba(0,0,0,0.3);

  /* Use these against the brand/accent/warn/error colors.
     These will typically go from light to darker, in both a dark and light theme
   */

  --jp-ui-inverse-font-color0: rgba(255, 255, 255, 1);
  --jp-ui-inverse-font-color1: rgba(255, 255, 255, 1);
  --jp-ui-inverse-font-color2: rgba(255, 255, 255, 0.7);
  --jp-ui-inverse-font-color3: rgba(255, 255, 255, 0.5);

  /* For backwards compatibility, we still define these below until ipywidgets 8.0.
  See https://github.com/jupyter-widgets/ipywidgets/pull/2801 */
  --jp-inverse-ui-font-color0: rgba(255,255,255,1);
  --jp-inverse-ui-font-color1: rgba(255,255,255,1.0);
  --jp-inverse-ui-font-color2: rgba(255,255,255,0.7);
  --jp-inverse-ui-font-color3: rgba(255,255,255,0.5);

  /* Content Fonts

  Content font variables are used for typography of user generated content.
  */

  --jp-content-font-size: 13px;
  --jp-content-line-height: 1.5;
  --jp-content-font-color0: black;
  --jp-content-font-color1: black;
  --jp-content-font-color2: var(--md-grey-700);
  --jp-content-font-color3: var(--md-grey-500);

  --jp-ui-font-scale-factor: 1.2;
  --jp-ui-font-size0: calc(var(--jp-ui-font-size1)/var(--jp-ui-font-scale-factor));
  --jp-ui-font-size1: 13px; /* Base font size */
  --jp-ui-font-size2: calc(var(--jp-ui-font-size1)*var(--jp-ui-font-scale-factor));
  --jp-ui-font-size3: calc(var(--jp-ui-font-size2)*var(--jp-ui-font-scale-factor));

  --jp-code-font-size: 13px;
  --jp-code-line-height: 1.307;
  --jp-code-padding: 5px;
  --jp-code-font-family: monospace;


  /* Layout

  The following are the main layout colors use in JupyterLab. In a light
  theme these would go from light to dark.
  */

  --jp-layout-color0: white;
  --jp-layout-color1: white;
  --jp-layout-color2: var(--md-grey-200);
  --jp-layout-color3: var(--md-grey-400);

  /* Brand/accent */

  --jp-brand-color0: var(--md-blue-700);
  --jp-brand-color1: var(--md-blue-500);
  --jp-brand-color2: var(--md-blue-300);
  --jp-brand-color3: var(--md-blue-100);

  --jp-accent-color0: var(--md-green-700);
  --jp-accent-color1: var(--md-green-500);
  --jp-accent-color2: var(--md-green-300);
  --jp-accent-color3: var(--md-green-100);

  /* State colors (warn, error, success, info) */

  --jp-warn-color0: var(--md-orange-700);
  --jp-warn-color1: var(--md-orange-500);
  --jp-warn-color2: var(--md-orange-300);
  --jp-warn-color3: var(--md-orange-100);

  --jp-error-color0: var(--md-red-700);
  --jp-error-color1: var(--md-red-500);
  --jp-error-color2: var(--md-red-300);
  --jp-error-color3: var(--md-red-100);

  --jp-success-color0: var(--md-green-700);
  --jp-success-color1: var(--md-green-500);
  --jp-success-color2: var(--md-green-300);
  --jp-success-color3: var(--md-green-100);

  --jp-info-color0: var(--md-cyan-700);
  --jp-info-color1: var(--md-cyan-500);
  --jp-info-color2: var(--md-cyan-300);
  --jp-info-color3: var(--md-cyan-100);

  /* Cell specific styles */

  --jp-cell-padding: 5px;
  --jp-cell-editor-background: #f7f7f7;
  --jp-cell-editor-border-color: #cfcfcf;
  --jp-cell-editor-background-edit: var(--jp-ui-layout-color1);
  --jp-cell-editor-border-color-edit: var(--jp-brand-color1);
  --jp-cell-prompt-width: 100px;
  --jp-cell-prompt-font-family: 'Roboto Mono', monospace;
  --jp-cell-prompt-letter-spacing: 0px;
  --jp-cell-prompt-opacity: 1.0;
  --jp-cell-prompt-opacity-not-active: 0.4;
  --jp-cell-prompt-font-color-not-active: var(--md-grey-700);
  /* A custom blend of MD grey and blue 600
   * See https://meyerweb.com/eric/tools/color-blend/#546E7A:1E88E5:5:hex */
  --jp-cell-inprompt-font-color: #307FC1;
  /* A custom blend of MD grey and orange 600
   * https://meyerweb.com/eric/tools/color-blend/#546E7A:F4511E:5:hex */
  --jp-cell-outprompt-font-color: #BF5B3D;

  /* Notebook specific styles */

  --jp-notebook-padding: 10px;
  --jp-notebook-scroll-padding: 100px;

  /* Console specific styles */

  --jp-console-background: var(--md-grey-100);

  /* Toolbar specific styles */

  --jp-toolbar-border-color: var(--md-grey-400);
  --jp-toolbar-micro-height: 8px;
  --jp-toolbar-background: var(--jp-layout-color0);
  --jp-toolbar-box-shadow: 0px 0px 2px 0px rgba(0,0,0,0.24);
  --jp-toolbar-header-margin: 4px 4px 0px 4px;
  --jp-toolbar-active-background: var(--md-grey-300);
}
</style><style>/* This file has code derived from PhosphorJS CSS files, as noted below. The license for this PhosphorJS code is:

Copyright (c) 2014-2017, PhosphorJS Contributors
All rights reserved.

Redistribution and use in source and binary forms, with or without
modification, are permitted provided that the following conditions are met:

* Redistributions of source code must retain the above copyright notice, this
  list of conditions and the following disclaimer.

* Redistributions in binary form must reproduce the above copyright notice,
  this list of conditions and the following disclaimer in the documentation
  and/or other materials provided with the distribution.

* Neither the name of the copyright holder nor the names of its
  contributors may be used to endorse or promote products derived from
  this software without specific prior written permission.

THIS SOFTWARE IS PROVIDED BY THE COPYRIGHT HOLDERS AND CONTRIBUTORS "AS IS"
AND ANY EXPRESS OR IMPLIED WARRANTIES, INCLUDING, BUT NOT LIMITED TO, THE
IMPLIED WARRANTIES OF MERCHANTABILITY AND FITNESS FOR A PARTICULAR PURPOSE ARE
DISCLAIMED. IN NO EVENT SHALL THE COPYRIGHT HOLDER OR CONTRIBUTORS BE LIABLE
FOR ANY DIRECT, INDIRECT, INCIDENTAL, SPECIAL, EXEMPLARY, OR CONSEQUENTIAL
DAMAGES (INCLUDING, BUT NOT LIMITED TO, PROCUREMENT OF SUBSTITUTE GOODS OR
SERVICES; LOSS OF USE, DATA, OR PROFITS; OR BUSINESS INTERRUPTION) HOWEVER
CAUSED AND ON ANY THEORY OF LIABILITY, WHETHER IN CONTRACT, STRICT LIABILITY,
OR TORT (INCLUDING NEGLIGENCE OR OTHERWISE) ARISING IN ANY WAY OUT OF THE USE
OF THIS SOFTWARE, EVEN IF ADVISED OF THE POSSIBILITY OF SUCH DAMAGE.

*/

/*
 * The following section is derived from https://github.com/phosphorjs/phosphor/blob/23b9d075ebc5b73ab148b6ebfc20af97f85714c4/packages/widgets/style/tabbar.css 
 * We've scoped the rules so that they are consistent with exactly our code.
 */

.jupyter-widgets.widget-tab > .p-TabBar {
  display: flex;
  -webkit-user-select: none;
  -moz-user-select: none;
  -ms-user-select: none;
  user-select: none;
}


.jupyter-widgets.widget-tab > .p-TabBar[data-orientation='horizontal'] {
  flex-direction: row;
}


.jupyter-widgets.widget-tab > .p-TabBar[data-orientation='vertical'] {
  flex-direction: column;
}


.jupyter-widgets.widget-tab > .p-TabBar > .p-TabBar-content {
  margin: 0;
  padding: 0;
  display: flex;
  flex: 1 1 auto;
  list-style-type: none;
}


.jupyter-widgets.widget-tab > .p-TabBar[data-orientation='horizontal'] > .p-TabBar-content {
  flex-direction: row;
}


.jupyter-widgets.widget-tab > .p-TabBar[data-orientation='vertical'] > .p-TabBar-content {
  flex-direction: column;
}


.jupyter-widgets.widget-tab > .p-TabBar .p-TabBar-tab {
  display: flex;
  flex-direction: row;
  box-sizing: border-box;
  overflow: hidden;
}


.jupyter-widgets.widget-tab > .p-TabBar .p-TabBar-tabIcon,
.jupyter-widgets.widget-tab > .p-TabBar .p-TabBar-tabCloseIcon {
  flex: 0 0 auto;
}


.jupyter-widgets.widget-tab > .p-TabBar .p-TabBar-tabLabel {
  flex: 1 1 auto;
  overflow: hidden;
  white-space: nowrap;
}


.jupyter-widgets.widget-tab > .p-TabBar .p-TabBar-tab.p-mod-hidden {
  display: none !important;
}


.jupyter-widgets.widget-tab > .p-TabBar.p-mod-dragging .p-TabBar-tab {
  position: relative;
}


.jupyter-widgets.widget-tab > .p-TabBar.p-mod-dragging[data-orientation='horizontal'] .p-TabBar-tab {
  left: 0;
  transition: left 150ms ease;
}


.jupyter-widgets.widget-tab > .p-TabBar.p-mod-dragging[data-orientation='vertical'] .p-TabBar-tab {
  top: 0;
  transition: top 150ms ease;
}


.jupyter-widgets.widget-tab > .p-TabBar.p-mod-dragging .p-TabBar-tab.p-mod-dragging {
  transition: none;
}

/* End tabbar.css */
</style><style>/* Copyright (c) Jupyter Development Team.
 * Distributed under the terms of the Modified BSD License.
 */

/*
 * We assume that the CSS variables in
 * https://github.com/jupyterlab/jupyterlab/blob/master/src/default-theme/variables.css
 * have been defined.
 */

:root {
    --jp-widgets-color: var(--jp-content-font-color1);
    --jp-widgets-label-color: var(--jp-widgets-color);
    --jp-widgets-readout-color: var(--jp-widgets-color);
    --jp-widgets-font-size: var(--jp-ui-font-size1);
    --jp-widgets-margin: 2px;
    --jp-widgets-inline-height: 28px;
    --jp-widgets-inline-width: 300px;
    --jp-widgets-inline-width-short: calc(var(--jp-widgets-inline-width) / 2 - var(--jp-widgets-margin));
    --jp-widgets-inline-width-tiny: calc(var(--jp-widgets-inline-width-short) / 2 - var(--jp-widgets-margin));
    --jp-widgets-inline-margin: 4px; /* margin between inline elements */
    --jp-widgets-inline-label-width: 80px;
    --jp-widgets-border-width: var(--jp-border-width);
    --jp-widgets-vertical-height: 200px;
    --jp-widgets-horizontal-tab-height: 24px;
    --jp-widgets-horizontal-tab-width: 144px;
    --jp-widgets-horizontal-tab-top-border: 2px;
    --jp-widgets-progress-thickness: 20px;
    --jp-widgets-container-padding: 15px;
    --jp-widgets-input-padding: 4px;
    --jp-widgets-radio-item-height-adjustment: 8px;
    --jp-widgets-radio-item-height: calc(var(--jp-widgets-inline-height) - var(--jp-widgets-radio-item-height-adjustment));
    --jp-widgets-slider-track-thickness: 4px;
    --jp-widgets-slider-border-width: var(--jp-widgets-border-width);
    --jp-widgets-slider-handle-size: 16px;
    --jp-widgets-slider-handle-border-color: var(--jp-border-color1);
    --jp-widgets-slider-handle-background-color: var(--jp-layout-color1);
    --jp-widgets-slider-active-handle-color: var(--jp-brand-color1);
    --jp-widgets-menu-item-height: 24px;
    --jp-widgets-dropdown-arrow: url("data:image/svg+xml;base64,PD94bWwgdmVyc2lvbj0iMS4wIiBlbmNvZGluZz0idXRmLTgiPz4KPCEtLSBHZW5lcmF0b3I6IEFkb2JlIElsbHVzdHJhdG9yIDE5LjIuMSwgU1ZHIEV4cG9ydCBQbHVnLUluIC4gU1ZHIFZlcnNpb246IDYuMDAgQnVpbGQgMCkgIC0tPgo8c3ZnIHZlcnNpb249IjEuMSIgaWQ9IkxheWVyXzEiIHhtbG5zPSJodHRwOi8vd3d3LnczLm9yZy8yMDAwL3N2ZyIgeG1sbnM6eGxpbms9Imh0dHA6Ly93d3cudzMub3JnLzE5OTkveGxpbmsiIHg9IjBweCIgeT0iMHB4IgoJIHZpZXdCb3g9IjAgMCAxOCAxOCIgc3R5bGU9ImVuYWJsZS1iYWNrZ3JvdW5kOm5ldyAwIDAgMTggMTg7IiB4bWw6c3BhY2U9InByZXNlcnZlIj4KPHN0eWxlIHR5cGU9InRleHQvY3NzIj4KCS5zdDB7ZmlsbDpub25lO30KPC9zdHlsZT4KPHBhdGggZD0iTTUuMiw1LjlMOSw5LjdsMy44LTMuOGwxLjIsMS4ybC00LjksNWwtNC45LTVMNS4yLDUuOXoiLz4KPHBhdGggY2xhc3M9InN0MCIgZD0iTTAtMC42aDE4djE4SDBWLTAuNnoiLz4KPC9zdmc+Cg");
    --jp-widgets-input-color: var(--jp-ui-font-color1);
    --jp-widgets-input-background-color: var(--jp-layout-color1);
    --jp-widgets-input-border-color: var(--jp-border-color1);
    --jp-widgets-input-focus-border-color: var(--jp-brand-color2);
    --jp-widgets-input-border-width: var(--jp-widgets-border-width);
    --jp-widgets-disabled-opacity: 0.6;

    /* From Material Design Lite */
    --md-shadow-key-umbra-opacity: 0.2;
    --md-shadow-key-penumbra-opacity: 0.14;
    --md-shadow-ambient-shadow-opacity: 0.12;
}

.jupyter-widgets {
    margin: var(--jp-widgets-margin);
    box-sizing: border-box;
    color: var(--jp-widgets-color);
    overflow: visible;
}

.jupyter-widgets.jupyter-widgets-disconnected::before {
    line-height: var(--jp-widgets-inline-height);
    height: var(--jp-widgets-inline-height);
}

.jp-Output-result > .jupyter-widgets {
    margin-left: 0;
    margin-right: 0;
}

/* vbox and hbox */

.widget-inline-hbox {
    /* Horizontal widgets */
    box-sizing: border-box;
    display: flex;
    flex-direction: row;
    align-items: baseline;
}

.widget-inline-vbox {
    /* Vertical Widgets */
    box-sizing: border-box;
    display: flex;
    flex-direction: column;
    align-items: center;
}

.widget-box {
    box-sizing: border-box;
    display: flex;
    margin: 0;
    overflow: auto;
}

.widget-gridbox {
    box-sizing: border-box;
    display: grid;
    margin: 0;
    overflow: auto;
}

.widget-hbox {
    flex-direction: row;
}

.widget-vbox {
    flex-direction: column;
}

/* General Button Styling */

.jupyter-button {
    padding-left: 10px;
    padding-right: 10px;
    padding-top: 0px;
    padding-bottom: 0px;
    display: inline-block;
    white-space: nowrap;
    overflow: hidden;
    text-overflow: ellipsis;
    text-align: center;
    font-size: var(--jp-widgets-font-size);
    cursor: pointer;

    height: var(--jp-widgets-inline-height);
    border: 0px solid;
    line-height: var(--jp-widgets-inline-height);
    box-shadow: none;

    color: var(--jp-ui-font-color1);
    background-color: var(--jp-layout-color2);
    border-color: var(--jp-border-color2);
    border: none;
    user-select: none;
}

.jupyter-button i.fa {
    margin-right: var(--jp-widgets-inline-margin);
    pointer-events: none;
}

.jupyter-button:empty:before {
    content: "\200b"; /* zero-width space */
}

.jupyter-widgets.jupyter-button:disabled {
    opacity: var(--jp-widgets-disabled-opacity);
}

.jupyter-button i.fa.center {
    margin-right: 0;
}

.jupyter-button:hover:enabled, .jupyter-button:focus:enabled {
    /* MD Lite 2dp shadow */
    box-shadow: 0 2px 2px 0 rgba(0, 0, 0, var(--md-shadow-key-penumbra-opacity)),
                0 3px 1px -2px rgba(0, 0, 0, var(--md-shadow-key-umbra-opacity)),
                0 1px 5px 0 rgba(0, 0, 0, var(--md-shadow-ambient-shadow-opacity));
}

.jupyter-button:active, .jupyter-button.mod-active {
    /* MD Lite 4dp shadow */
    box-shadow: 0 4px 5px 0 rgba(0, 0, 0, var(--md-shadow-key-penumbra-opacity)),
                0 1px 10px 0 rgba(0, 0, 0, var(--md-shadow-ambient-shadow-opacity)),
                0 2px 4px -1px rgba(0, 0, 0, var(--md-shadow-key-umbra-opacity));
    color: var(--jp-ui-font-color1);
    background-color: var(--jp-layout-color3);
}

.jupyter-button:focus:enabled {
    outline: 1px solid var(--jp-widgets-input-focus-border-color);
}

/* Button "Primary" Styling */

.jupyter-button.mod-primary {
    color: var(--jp-ui-inverse-font-color1, var(--jp-inverse-ui-font-color1));
    background-color: var(--jp-brand-color1);
}

.jupyter-button.mod-primary.mod-active {
    color: var(--jp-ui-inverse-font-color0, var(--jp-inverse-ui-font-color0));
    background-color: var(--jp-brand-color0);
}

.jupyter-button.mod-primary:active {
    color: var(--jp-ui-inverse-font-color0, var(--jp-inverse-ui-font-color0));
    background-color: var(--jp-brand-color0);
}

/* Button "Success" Styling */

.jupyter-button.mod-success {
    color: var(--jp-ui-inverse-font-color1, var(--jp-inverse-ui-font-color1));
    background-color: var(--jp-success-color1);
}

.jupyter-button.mod-success.mod-active {
    color: var(--jp-ui-inverse-font-color0, var(--jp-inverse-ui-font-color0));
    background-color: var(--jp-success-color0);
}

.jupyter-button.mod-success:active {
    color: var(--jp-ui-inverse-font-color0, var(--jp-inverse-ui-font-color0));
    background-color: var(--jp-success-color0);
}

 /* Button "Info" Styling */

.jupyter-button.mod-info {
    color: var(--jp-ui-inverse-font-color1, var(--jp-inverse-ui-font-color1));
    background-color: var(--jp-info-color1);
}

.jupyter-button.mod-info.mod-active {
    color: var(--jp-ui-inverse-font-color0, var(--jp-inverse-ui-font-color0));
    background-color: var(--jp-info-color0);
}

.jupyter-button.mod-info:active {
    color: var(--jp-ui-inverse-font-color0, var(--jp-inverse-ui-font-color0));
    background-color: var(--jp-info-color0);
}

/* Button "Warning" Styling */

.jupyter-button.mod-warning {
    color: var(--jp-ui-inverse-font-color1, var(--jp-inverse-ui-font-color1));
    background-color: var(--jp-warn-color1);
}

.jupyter-button.mod-warning.mod-active {
    color: var(--jp-ui-inverse-font-color0, var(--jp-inverse-ui-font-color0));
    background-color: var(--jp-warn-color0);
}

.jupyter-button.mod-warning:active {
    color: var(--jp-ui-inverse-font-color0, var(--jp-inverse-ui-font-color0));
    background-color: var(--jp-warn-color0);
}

/* Button "Danger" Styling */

.jupyter-button.mod-danger {
    color: var(--jp-ui-inverse-font-color1, var(--jp-inverse-ui-font-color1));
    background-color: var(--jp-error-color1);
}

.jupyter-button.mod-danger.mod-active {
    color: var(--jp-ui-inverse-font-color0, var(--jp-inverse-ui-font-color0));
    background-color: var(--jp-error-color0);
}

.jupyter-button.mod-danger:active {
    color: var(--jp-ui-inverse-font-color0, var(--jp-inverse-ui-font-color0));
    background-color: var(--jp-error-color0);
}

/* Widget Button, Widget Toggle Button, Widget Upload */

.widget-button, .widget-toggle-button, .widget-upload {
    width: var(--jp-widgets-inline-width-short);
}

/* Widget Label Styling */

/* Override Bootstrap label css */
.jupyter-widgets label {
    margin-bottom: initial;
}

.widget-label-basic {
    /* Basic Label */
    color: var(--jp-widgets-label-color);
    font-size: var(--jp-widgets-font-size);
    overflow: hidden;
    text-overflow: ellipsis;
    white-space: nowrap;
    line-height: var(--jp-widgets-inline-height);
}

.widget-label {
    /* Label */
    color: var(--jp-widgets-label-color);
    font-size: var(--jp-widgets-font-size);
    overflow: hidden;
    text-overflow: ellipsis;
    white-space: nowrap;
    line-height: var(--jp-widgets-inline-height);
}

.widget-inline-hbox .widget-label {
    /* Horizontal Widget Label */
    color: var(--jp-widgets-label-color);
    text-align: right;
    margin-right: calc( var(--jp-widgets-inline-margin) * 2 );
    width: var(--jp-widgets-inline-label-width);
    flex-shrink: 0;
}

.widget-inline-vbox .widget-label {
    /* Vertical Widget Label */
    color: var(--jp-widgets-label-color);
    text-align: center;
    line-height: var(--jp-widgets-inline-height);
}

/* Widget Readout Styling */

.widget-readout {
    color: var(--jp-widgets-readout-color);
    font-size: var(--jp-widgets-font-size);
    height: var(--jp-widgets-inline-height);
    line-height: var(--jp-widgets-inline-height);
    overflow: hidden;
    white-space: nowrap;
    text-align: center;
}

.widget-readout.overflow {
    /* Overflowing Readout */

    /* From Material Design Lite
        shadow-key-umbra-opacity: 0.2;
        shadow-key-penumbra-opacity: 0.14;
        shadow-ambient-shadow-opacity: 0.12;
     */
    -webkit-box-shadow: 0 2px 2px 0 rgba(0, 0, 0, 0.2),
                        0 3px 1px -2px rgba(0, 0, 0, 0.14),
                        0 1px 5px 0 rgba(0, 0, 0, 0.12);

    -moz-box-shadow: 0 2px 2px 0 rgba(0, 0, 0, 0.2),
                     0 3px 1px -2px rgba(0, 0, 0, 0.14),
                     0 1px 5px 0 rgba(0, 0, 0, 0.12);

    box-shadow: 0 2px 2px 0 rgba(0, 0, 0, 0.2),
                0 3px 1px -2px rgba(0, 0, 0, 0.14),
                0 1px 5px 0 rgba(0, 0, 0, 0.12);
}

.widget-inline-hbox .widget-readout {
    /* Horizontal Readout */
    text-align: center;
    max-width: var(--jp-widgets-inline-width-short);
    min-width: var(--jp-widgets-inline-width-tiny);
    margin-left: var(--jp-widgets-inline-margin);
}

.widget-inline-vbox .widget-readout {
    /* Vertical Readout */
    margin-top: var(--jp-widgets-inline-margin);
    /* as wide as the widget */
    width: inherit;
}

/* Widget Checkbox Styling */

.widget-checkbox {
    width: var(--jp-widgets-inline-width);
    height: var(--jp-widgets-inline-height);
    line-height: var(--jp-widgets-inline-height);
}

.widget-checkbox input[type="checkbox"] {
    margin: 0px calc( var(--jp-widgets-inline-margin) * 2 ) 0px 0px;
    line-height: var(--jp-widgets-inline-height);
    font-size: large;
    flex-grow: 1;
    flex-shrink: 0;
    align-self: center;
}

/* Widget Valid Styling */

.widget-valid {
    height: var(--jp-widgets-inline-height);
    line-height: var(--jp-widgets-inline-height);
    width: var(--jp-widgets-inline-width-short);
    font-size: var(--jp-widgets-font-size);
}

.widget-valid i:before {
    line-height: var(--jp-widgets-inline-height);
    margin-right: var(--jp-widgets-inline-margin);
    margin-left: var(--jp-widgets-inline-margin);
}

.widget-valid.mod-valid i:before {
    color: green;
}

.widget-valid.mod-invalid i:before {
    color: red;
}

.widget-valid.mod-valid .widget-valid-readout {
    display: none;
}

/* Widget Text and TextArea Stying */

.widget-textarea, .widget-text {
    width: var(--jp-widgets-inline-width);
}

.widget-text input[type="text"], .widget-text input[type="number"], .widget-text input[type="password"] {
    height: var(--jp-widgets-inline-height);
    line-height: var(--jp-widgets-inline-height);
}

.widget-text input[type="text"]:disabled, .widget-text input[type="number"]:disabled, .widget-text input[type="password"]:disabled, .widget-textarea textarea:disabled {
    opacity: var(--jp-widgets-disabled-opacity);
}

.widget-text input[type="text"], .widget-text input[type="number"], .widget-text input[type="password"], .widget-textarea textarea {
    box-sizing: border-box;
    border: var(--jp-widgets-input-border-width) solid var(--jp-widgets-input-border-color);
    background-color: var(--jp-widgets-input-background-color);
    color: var(--jp-widgets-input-color);
    font-size: var(--jp-widgets-font-size);
    flex-grow: 1;
    min-width: 0; /* This makes it possible for the flexbox to shrink this input */
    flex-shrink: 1;
    outline: none !important;
}
    
.widget-text input[type="text"], .widget-text input[type="password"], .widget-textarea textarea {
    padding: var(--jp-widgets-input-padding) calc( var(--jp-widgets-input-padding) *  2);
}

.widget-text input[type="number"] {
    padding: var(--jp-widgets-input-padding) 0 var(--jp-widgets-input-padding) calc(var(--jp-widgets-input-padding) *  2);
}

.widget-textarea textarea {
    height: inherit;
    width: inherit;
}

.widget-text input:focus, .widget-textarea textarea:focus {
    border-color: var(--jp-widgets-input-focus-border-color);
}

/* Widget Slider */

.widget-slider .ui-slider {
    /* Slider Track */
    border: var(--jp-widgets-slider-border-width) solid var(--jp-layout-color3);
    background: var(--jp-layout-color3);
    box-sizing: border-box;
    position: relative;
    border-radius: 0px;
}

.widget-slider .ui-slider .ui-slider-handle {
    /* Slider Handle */
    outline: none !important; /* focused slider handles are colored - see below */
    position: absolute;
    background-color: var(--jp-widgets-slider-handle-background-color);
    border: var(--jp-widgets-slider-border-width) solid var(--jp-widgets-slider-handle-border-color);
    box-sizing: border-box;
    z-index: 1;
    background-image: none; /* Override jquery-ui */
}

/* Override jquery-ui */
.widget-slider .ui-slider .ui-slider-handle:hover, .widget-slider .ui-slider .ui-slider-handle:focus {
    background-color: var(--jp-widgets-slider-active-handle-color);
    border: var(--jp-widgets-slider-border-width) solid var(--jp-widgets-slider-active-handle-color);
}

.widget-slider .ui-slider .ui-slider-handle:active {
    background-color: var(--jp-widgets-slider-active-handle-color);
    border-color: var(--jp-widgets-slider-active-handle-color);
    z-index: 2;
    transform: scale(1.2);
}

.widget-slider  .ui-slider .ui-slider-range {
    /* Interval between the two specified value of a double slider */
    position: absolute;
    background: var(--jp-widgets-slider-active-handle-color);
    z-index: 0;
}

/* Shapes of Slider Handles */

.widget-hslider .ui-slider .ui-slider-handle {
    width: var(--jp-widgets-slider-handle-size);
    height: var(--jp-widgets-slider-handle-size);
    margin-top: calc((var(--jp-widgets-slider-track-thickness) - var(--jp-widgets-slider-handle-size)) / 2 - var(--jp-widgets-slider-border-width));
    margin-left: calc(var(--jp-widgets-slider-handle-size) / -2 + var(--jp-widgets-slider-border-width));
    border-radius: 50%;
    top: 0;
}

.widget-vslider .ui-slider .ui-slider-handle {
    width: var(--jp-widgets-slider-handle-size);
    height: var(--jp-widgets-slider-handle-size);
    margin-bottom: calc(var(--jp-widgets-slider-handle-size) / -2 + var(--jp-widgets-slider-border-width));
    margin-left: calc((var(--jp-widgets-slider-track-thickness) - var(--jp-widgets-slider-handle-size)) / 2 - var(--jp-widgets-slider-border-width));
    border-radius: 50%;
    left: 0;
}

.widget-hslider .ui-slider .ui-slider-range {
    height: calc( var(--jp-widgets-slider-track-thickness) * 2 );
    margin-top: calc((var(--jp-widgets-slider-track-thickness) - var(--jp-widgets-slider-track-thickness) * 2 ) / 2 - var(--jp-widgets-slider-border-width));
}

.widget-vslider .ui-slider .ui-slider-range {
    width: calc( var(--jp-widgets-slider-track-thickness) * 2 );
    margin-left: calc((var(--jp-widgets-slider-track-thickness) - var(--jp-widgets-slider-track-thickness) * 2 ) / 2 - var(--jp-widgets-slider-border-width));
}

/* Horizontal Slider */

.widget-hslider {
    width: var(--jp-widgets-inline-width);
    height: var(--jp-widgets-inline-height);
    line-height: var(--jp-widgets-inline-height);

    /* Override the align-items baseline. This way, the description and readout
    still seem to align their baseline properly, and we don't have to have
    align-self: stretch in the .slider-container. */
    align-items: center;
}

.widgets-slider .slider-container {
    overflow: visible;
}

.widget-hslider .slider-container {
    height: var(--jp-widgets-inline-height);
    margin-left: calc(var(--jp-widgets-slider-handle-size) / 2 - 2 * var(--jp-widgets-slider-border-width));
    margin-right: calc(var(--jp-widgets-slider-handle-size) / 2 - 2 * var(--jp-widgets-slider-border-width));
    flex: 1 1 var(--jp-widgets-inline-width-short);
}

.widget-hslider .ui-slider {
    /* Inner, invisible slide div */
    height: var(--jp-widgets-slider-track-thickness);
    margin-top: calc((var(--jp-widgets-inline-height) - var(--jp-widgets-slider-track-thickness)) / 2);
    width: 100%;
}

/* Vertical Slider */

.widget-vbox .widget-label {
    height: var(--jp-widgets-inline-height);
    line-height: var(--jp-widgets-inline-height);
}

.widget-vslider {
    /* Vertical Slider */
    height: var(--jp-widgets-vertical-height);
    width: var(--jp-widgets-inline-width-tiny);
}

.widget-vslider .slider-container {
    flex: 1 1 var(--jp-widgets-inline-width-short);
    margin-left: auto;
    margin-right: auto;
    margin-bottom: calc(var(--jp-widgets-slider-handle-size) / 2 - 2 * var(--jp-widgets-slider-border-width));
    margin-top: calc(var(--jp-widgets-slider-handle-size) / 2 - 2 * var(--jp-widgets-slider-border-width));
    display: flex;
    flex-direction: column;
}

.widget-vslider .ui-slider-vertical {
    /* Inner, invisible slide div */
    width: var(--jp-widgets-slider-track-thickness);
    flex-grow: 1;
    margin-left: auto;
    margin-right: auto;
}

/* Widget Progress Styling */

.progress-bar {
    -webkit-transition: none;
    -moz-transition: none;
    -ms-transition: none;
    -o-transition: none;
    transition: none;
}

.progress-bar {
    height: var(--jp-widgets-inline-height);
}

.progress-bar {
    background-color: var(--jp-brand-color1);
}

.progress-bar-success {
    background-color: var(--jp-success-color1);
}

.progress-bar-info {
    background-color: var(--jp-info-color1);
}

.progress-bar-warning {
    background-color: var(--jp-warn-color1);
}

.progress-bar-danger {
    background-color: var(--jp-error-color1);
}

.progress {
    background-color: var(--jp-layout-color2);
    border: none;
    box-shadow: none;
}

/* Horisontal Progress */

.widget-hprogress {
    /* Progress Bar */
    height: var(--jp-widgets-inline-height);
    line-height: var(--jp-widgets-inline-height);
    width: var(--jp-widgets-inline-width);
    align-items: center;

}

.widget-hprogress .progress {
    flex-grow: 1;
    margin-top: var(--jp-widgets-input-padding);
    margin-bottom: var(--jp-widgets-input-padding);
    align-self: stretch;
    /* Override bootstrap style */
    height: initial;
}

/* Vertical Progress */

.widget-vprogress {
    height: var(--jp-widgets-vertical-height);
    width: var(--jp-widgets-inline-width-tiny);
}

.widget-vprogress .progress {
    flex-grow: 1;
    width: var(--jp-widgets-progress-thickness);
    margin-left: auto;
    margin-right: auto;
    margin-bottom: 0;
}

/* Select Widget Styling */

.widget-dropdown {
    height: var(--jp-widgets-inline-height);
    width: var(--jp-widgets-inline-width);
    line-height: var(--jp-widgets-inline-height);
}

.widget-dropdown > select {
    padding-right: 20px;
    border: var(--jp-widgets-input-border-width) solid var(--jp-widgets-input-border-color);
    border-radius: 0;
    height: inherit;
    flex: 1 1 var(--jp-widgets-inline-width-short);
    min-width: 0; /* This makes it possible for the flexbox to shrink this input */
    box-sizing: border-box;
    outline: none !important;
    box-shadow: none;
    background-color: var(--jp-widgets-input-background-color);
    color: var(--jp-widgets-input-color);
    font-size: var(--jp-widgets-font-size);
    vertical-align: top;
    padding-left: calc( var(--jp-widgets-input-padding) * 2);
	appearance: none;
	-webkit-appearance: none;
	-moz-appearance: none;
    background-repeat: no-repeat;
	background-size: 20px;
	background-position: right center;
    background-image: var(--jp-widgets-dropdown-arrow);
}
.widget-dropdown > select:focus {
    border-color: var(--jp-widgets-input-focus-border-color);
}

.widget-dropdown > select:disabled {
    opacity: var(--jp-widgets-disabled-opacity);
}

/* To disable the dotted border in Firefox around select controls.
   See http://stackoverflow.com/a/18853002 */
.widget-dropdown > select:-moz-focusring {
    color: transparent;
    text-shadow: 0 0 0 #000;
}

/* Select and SelectMultiple */

.widget-select {
    width: var(--jp-widgets-inline-width);
    line-height: var(--jp-widgets-inline-height);

    /* Because Firefox defines the baseline of a select as the bottom of the
    control, we align the entire control to the top and add padding to the
    select to get an approximate first line baseline alignment. */
    align-items: flex-start;
}

.widget-select > select {
    border: var(--jp-widgets-input-border-width) solid var(--jp-widgets-input-border-color);
    background-color: var(--jp-widgets-input-background-color);
    color: var(--jp-widgets-input-color);
    font-size: var(--jp-widgets-font-size);
    flex: 1 1 var(--jp-widgets-inline-width-short);
    outline: none !important;
    overflow: auto;
    height: inherit;

    /* Because Firefox defines the baseline of a select as the bottom of the
    control, we align the entire control to the top and add padding to the
    select to get an approximate first line baseline alignment. */
    padding-top: 5px;
}

.widget-select > select:focus {
    border-color: var(--jp-widgets-input-focus-border-color);
}

.wiget-select > select > option {
    padding-left: var(--jp-widgets-input-padding);
    line-height: var(--jp-widgets-inline-height);
    /* line-height doesn't work on some browsers for select options */
    padding-top: calc(var(--jp-widgets-inline-height)-var(--jp-widgets-font-size)/2);
    padding-bottom: calc(var(--jp-widgets-inline-height)-var(--jp-widgets-font-size)/2);
}



/* Toggle Buttons Styling */

.widget-toggle-buttons {
    line-height: var(--jp-widgets-inline-height);
}

.widget-toggle-buttons .widget-toggle-button {
    margin-left: var(--jp-widgets-margin);
    margin-right: var(--jp-widgets-margin);
}

.widget-toggle-buttons .jupyter-button:disabled {
    opacity: var(--jp-widgets-disabled-opacity);
}

/* Radio Buttons Styling */

.widget-radio {
    width: var(--jp-widgets-inline-width);
    line-height: var(--jp-widgets-inline-height);
}

.widget-radio-box {
    display: flex;
    flex-direction: column;
    align-items: stretch;
    box-sizing: border-box;
    flex-grow: 1;
    margin-bottom: var(--jp-widgets-radio-item-height-adjustment);
}

.widget-radio-box label {
    height: var(--jp-widgets-radio-item-height);
    line-height: var(--jp-widgets-radio-item-height);
    font-size: var(--jp-widgets-font-size);
}

.widget-radio-box input {
    height: var(--jp-widgets-radio-item-height);
    line-height: var(--jp-widgets-radio-item-height);
    margin: 0 calc( var(--jp-widgets-input-padding) * 2 ) 0 1px;
    float: left;
}

/* Color Picker Styling */

.widget-colorpicker {
    width: var(--jp-widgets-inline-width);
    height: var(--jp-widgets-inline-height);
    line-height: var(--jp-widgets-inline-height);
}

.widget-colorpicker > .widget-colorpicker-input {
    flex-grow: 1;
    flex-shrink: 1;
    min-width: var(--jp-widgets-inline-width-tiny);
}

.widget-colorpicker input[type="color"] {
    width: var(--jp-widgets-inline-height);
    height: var(--jp-widgets-inline-height);
    padding: 0 2px; /* make the color square actually square on Chrome on OS X */
    background: var(--jp-widgets-input-background-color);
    color: var(--jp-widgets-input-color);
    border: var(--jp-widgets-input-border-width) solid var(--jp-widgets-input-border-color);
    border-left: none;
    flex-grow: 0;
    flex-shrink: 0;
    box-sizing: border-box;
    align-self: stretch;
    outline: none !important;
}

.widget-colorpicker.concise input[type="color"] {
    border-left: var(--jp-widgets-input-border-width) solid var(--jp-widgets-input-border-color);
}

.widget-colorpicker input[type="color"]:focus, .widget-colorpicker input[type="text"]:focus {
    border-color: var(--jp-widgets-input-focus-border-color);
}

.widget-colorpicker input[type="text"] {
    flex-grow: 1;
    outline: none !important;
    height: var(--jp-widgets-inline-height);
    line-height: var(--jp-widgets-inline-height);
    background: var(--jp-widgets-input-background-color);
    color: var(--jp-widgets-input-color);
    border: var(--jp-widgets-input-border-width) solid var(--jp-widgets-input-border-color);
    font-size: var(--jp-widgets-font-size);
    padding: var(--jp-widgets-input-padding) calc( var(--jp-widgets-input-padding) *  2 );
    min-width: 0; /* This makes it possible for the flexbox to shrink this input */
    flex-shrink: 1;
    box-sizing: border-box;
}

.widget-colorpicker input[type="text"]:disabled {
    opacity: var(--jp-widgets-disabled-opacity);
}

/* Date Picker Styling */

.widget-datepicker {
    width: var(--jp-widgets-inline-width);
    height: var(--jp-widgets-inline-height);
    line-height: var(--jp-widgets-inline-height);
}

.widget-datepicker input[type="date"] {
    flex-grow: 1;
    flex-shrink: 1;
    min-width: 0; /* This makes it possible for the flexbox to shrink this input */
    outline: none !important;
    height: var(--jp-widgets-inline-height);
    border: var(--jp-widgets-input-border-width) solid var(--jp-widgets-input-border-color);
    background-color: var(--jp-widgets-input-background-color);
    color: var(--jp-widgets-input-color);
    font-size: var(--jp-widgets-font-size);
    padding: var(--jp-widgets-input-padding) calc( var(--jp-widgets-input-padding) *  2 );
    box-sizing: border-box;
}

.widget-datepicker input[type="date"]:focus {
    border-color: var(--jp-widgets-input-focus-border-color);
}

.widget-datepicker input[type="date"]:invalid {
    border-color: var(--jp-warn-color1);
}

.widget-datepicker input[type="date"]:disabled {
    opacity: var(--jp-widgets-disabled-opacity);
}

/* Play Widget */

.widget-play {
    width: var(--jp-widgets-inline-width-short);
    display: flex;
    align-items: stretch;
}

.widget-play .jupyter-button {
    flex-grow: 1;
    height: auto;
}

.widget-play .jupyter-button:disabled {
    opacity: var(--jp-widgets-disabled-opacity);
}

/* Tab Widget */

.jupyter-widgets.widget-tab {
    display: flex;
    flex-direction: column;
}

.jupyter-widgets.widget-tab > .p-TabBar {
    /* Necessary so that a tab can be shifted down to overlay the border of the box below. */
    overflow-x: visible;
    overflow-y: visible;
}

.jupyter-widgets.widget-tab > .p-TabBar > .p-TabBar-content {
    /* Make sure that the tab grows from bottom up */
    align-items: flex-end;
    min-width: 0;
    min-height: 0;
}

.jupyter-widgets.widget-tab > .widget-tab-contents {
    width: 100%;
    box-sizing: border-box;
    margin: 0;
    background: var(--jp-layout-color1);
    color: var(--jp-ui-font-color1);
    border: var(--jp-border-width) solid var(--jp-border-color1);
    padding: var(--jp-widgets-container-padding);
    flex-grow: 1;
    overflow: auto;
}

.jupyter-widgets.widget-tab > .p-TabBar {
    font: var(--jp-widgets-font-size) Helvetica, Arial, sans-serif;
    min-height: calc(var(--jp-widgets-horizontal-tab-height) + var(--jp-border-width));
}

.jupyter-widgets.widget-tab > .p-TabBar .p-TabBar-tab {
    flex: 0 1 var(--jp-widgets-horizontal-tab-width);
    min-width: 35px;
    min-height: calc(var(--jp-widgets-horizontal-tab-height) + var(--jp-border-width));
    line-height: var(--jp-widgets-horizontal-tab-height);
    margin-left: calc(-1 * var(--jp-border-width));
    padding: 0px 10px;
    background: var(--jp-layout-color2);
    color: var(--jp-ui-font-color2);
    border: var(--jp-border-width) solid var(--jp-border-color1);
    border-bottom: none;
    position: relative;
}

.jupyter-widgets.widget-tab > .p-TabBar .p-TabBar-tab.p-mod-current {
    color: var(--jp-ui-font-color0);
    /* We want the background to match the tab content background */
    background: var(--jp-layout-color1);
    min-height: calc(var(--jp-widgets-horizontal-tab-height) + 2 * var(--jp-border-width));
    transform: translateY(var(--jp-border-width));
    overflow: visible;
}

.jupyter-widgets.widget-tab > .p-TabBar .p-TabBar-tab.p-mod-current:before {
    position: absolute;
    top: calc(-1 * var(--jp-border-width));
    left: calc(-1 * var(--jp-border-width));
    content: '';
    height: var(--jp-widgets-horizontal-tab-top-border);
    width: calc(100% + 2 * var(--jp-border-width));
    background: var(--jp-brand-color1);
}

.jupyter-widgets.widget-tab > .p-TabBar .p-TabBar-tab:first-child {
    margin-left: 0;
}

.jupyter-widgets.widget-tab > .p-TabBar .p-TabBar-tab:hover:not(.p-mod-current) {
    background: var(--jp-layout-color1);
    color: var(--jp-ui-font-color1);
}

.jupyter-widgets.widget-tab > .p-TabBar .p-mod-closable > .p-TabBar-tabCloseIcon {
    margin-left: 4px;
}

/* This font-awesome strategy may not work across FA4 and FA5, but we don't
actually support closable tabs, so it really doesn't matter */
.jupyter-widgets.widget-tab > .p-TabBar .p-mod-closable > .p-TabBar-tabCloseIcon:before {
    font-family: FontAwesome;
    content: '\f00d'; /* close */
}

.jupyter-widgets.widget-tab > .p-TabBar .p-TabBar-tabIcon,
.jupyter-widgets.widget-tab > .p-TabBar .p-TabBar-tabLabel,
.jupyter-widgets.widget-tab > .p-TabBar .p-TabBar-tabCloseIcon {
    line-height: var(--jp-widgets-horizontal-tab-height);
}

/* Accordion Widget */

.p-Collapse {
    display: flex;
    flex-direction: column;
    align-items: stretch;
}

.p-Collapse-header {
    padding: var(--jp-widgets-input-padding);
    cursor: pointer;
    color: var(--jp-ui-font-color2);
    background-color: var(--jp-layout-color2);
    border: var(--jp-widgets-border-width) solid var(--jp-border-color1);
    padding: calc(var(--jp-widgets-container-padding) * 2 / 3) var(--jp-widgets-container-padding);
    font-weight: bold;
}

.p-Collapse-header:hover {
    background-color: var(--jp-layout-color1);
    color: var(--jp-ui-font-color1);
}

.p-Collapse-open > .p-Collapse-header {
    background-color: var(--jp-layout-color1);
    color: var(--jp-ui-font-color0);
    cursor: default;
    border-bottom: none;
}

.p-Collapse-contents {
    padding: var(--jp-widgets-container-padding);
    background-color: var(--jp-layout-color1);
    color: var(--jp-ui-font-color1);
    border-left: var(--jp-widgets-border-width) solid var(--jp-border-color1);
    border-right: var(--jp-widgets-border-width) solid var(--jp-border-color1);
    border-bottom: var(--jp-widgets-border-width) solid var(--jp-border-color1);
    overflow: auto;
}

.p-Accordion {
    display: flex;
    flex-direction: column;
    align-items: stretch;
}

.p-Accordion .p-Collapse {
    margin-bottom: 0;
}

.p-Accordion .p-Collapse + .p-Collapse {
    margin-top: 4px;
}



/* HTML widget */

.widget-html, .widget-htmlmath {
    font-size: var(--jp-widgets-font-size);
}

.widget-html > .widget-html-content, .widget-htmlmath > .widget-html-content {
    /* Fill out the area in the HTML widget */
    align-self: stretch;
    flex-grow: 1;
    flex-shrink: 1;
    /* Makes sure the baseline is still aligned with other elements */
    line-height: var(--jp-widgets-inline-height);
    /* Make it possible to have absolutely-positioned elements in the html */
    position: relative;
}


/* Image widget  */

.widget-image {
    max-width: 100%;
    height: auto;
}
</style><style>/* Copyright (c) Jupyter Development Team.
 * Distributed under the terms of the Modified BSD License.
 */
</style><link id="favicon" type="image/x-icon" rel="shortcut icon" href="http://localhost:8888/static/base/images/favicon-notebook.ico"></head>

<body class="notebook_app command_mode" data-jupyter-api-token="aee923294b509020ca742a08a2966a11f38e3de7b7b5b9dd" data-base-url="/" data-ws-url="" data-notebook-name="ML%20Assignment3_700741625.ipynb" data-notebook-path="ML%20Assignment3_700741625.ipynb" dir="ltr"><div style="visibility: hidden; overflow: hidden; position: absolute; top: 0px; height: 1px; width: auto; padding: 0px; border: 0px; margin: 0px; text-align: left; text-indent: 0px; text-transform: none; line-height: normal; letter-spacing: normal; word-spacing: normal;"><div id="MathJax_Hidden"></div></div><div id="MathJax_Message" style="display: none;"></div>

<noscript>
    <div id='noscript'>
      Jupyter Notebook requires JavaScript.<br>
      Please enable it to proceed. 
  </div>
</noscript>

<div id="header" role="navigation" aria-label="Top Menu" style="display: block;">
  <div id="header-container" class="container">
  <div id="ipython_notebook" class="nav navbar-brand"><a href="http://localhost:8888/tree?token=aee923294b509020ca742a08a2966a11f38e3de7b7b5b9dd" title="dashboard">
      <img src="./ML Assignment 3_files/logo.png" alt="Jupyter Notebook">
  </a></div>

  


<span id="save_widget" class="save_widget">
    <span id="notebook_name" class="filename">ML Assignment 3</span>
    <span class="checkpoint_status" title="Wed, Mar 29, 2023 12:15 PM">Last Checkpoint: 3 minutes ago</span>
    <span class="autosave_status">(autosaved)</span>
</span>


  

<span id="kernel_logo_widget">
  
  <img class="current_kernel_logo" alt="Current Kernel Logo" src="./ML Assignment 3_files/logo-64x64.png" title="Python 3 (ipykernel)" style="display: inline;">
  
</span>


  
  
  
  

    <span id="login_widget">
      
        <button id="logout" class="btn btn-sm navbar-btn">Logout</button>
      
    </span>

  

  
  
  </div>
  <div class="header-bar"></div>

  
<div id="menubar-container" class="container">
<div id="menubar">
    <div id="menus" class="navbar navbar-default" role="navigation">
        <div class="container-fluid">
            <button type="button" class="btn btn-default navbar-btn navbar-toggle" data-toggle="collapse" data-target=".navbar-collapse">
              <i class="fa fa-bars"></i>
              <span class="navbar-text">Menu</span>
            </button>
            <p id="kernel_indicator" class="navbar-text indicator_area">
              <span class="kernel_indicator_name">Python 3 (ipykernel)</span>
              <i id="kernel_indicator_icon" class="kernel_idle_icon" title="Kernel Idle"></i>
            </p>
            <i id="readonly-indicator" class="navbar-text" title="This notebook is read-only" style="display: none;">
                <span class="fa-stack">
                    <i class="fa fa-save fa-stack-1x"></i>
                    <i class="fa fa-ban fa-stack-2x text-danger"></i>
                </span>
            </i>
            <i id="modal_indicator" class="navbar-text modal_indicator" title="Command Mode"></i>
            <span id="notification_area"><div id="notification_kernel" class="notification_widget btn btn-xs navbar-btn undefined info" style="display: none;"><span></span></div><div id="notification_notebook" class="notification_widget btn btn-xs navbar-btn" style="display: none;"><span></span></div><div id="notification_trusted" class="notification_widget btn btn-xs navbar-btn" style="" role="button"><span title="Javascript disabled for notebook display">Not Trusted</span></div><div id="notification_widgets" class="notification_widget btn btn-xs navbar-btn" style="display: none;"><span></span></div></span>
            <div class="navbar-collapse collapse">
              <ul class="nav navbar-nav">
                <li class="dropdown"><a href="http://localhost:8888/notebooks/ML%20Assignment%203.ipynb#" class="dropdown-toggle" id="filelink" data-toggle="dropdown" aria-haspopup="true" aria-controls="file_menu" aria-expanded="false">File</a>
                    <ul id="file_menu" class="dropdown-menu" role="menu" aria-labelledby="filelink">
                        <li id="new_notebook" class="menu_focus_highlight dropdown dropdown-submenu" role="none">
                            <a href="http://localhost:8888/notebooks/ML%20Assignment%203.ipynb#" role="menuitem" aria-haspopup="true" aria-expanded="false" class="dropdown-toggle" data-toggle="dropdown">New Notebook<span class="sr-only">Dropdown</span></a>
                            <ul class="dropdown-menu" id="menu-new-notebook-submenu" role="menu">
                            <li id="new-notebook-submenu-python3"><a href="http://localhost:8888/notebooks/ML%20Assignment%203.ipynb#">Python 3 (ipykernel)</a></li></ul>
                        </li>
                        <li id="open_notebook" role="none" title="Opens a new window with the Dashboard view">
                            <a href="http://localhost:8888/notebooks/ML%20Assignment%203.ipynb#" role="menuitem">Open...</a></li>
                        <!-- <hr/> -->
                        <li class="divider" role="none"></li>
                        <li id="copy_notebook" role="none" title="Open a copy of this notebook&#39;s contents and start a new kernel">
                            <a href="http://localhost:8888/notebooks/ML%20Assignment%203.ipynb#" role="menuitem">Make a Copy...</a></li>
                        <li id="save_notebook_as" role="none" title="Save a copy of the notebook&#39;s contents and start a new kernel">
                            <a href="http://localhost:8888/notebooks/ML%20Assignment%203.ipynb#" role="menuitem">Save as...</a></li>
                        <li id="rename_notebook" role="none"><a href="http://localhost:8888/notebooks/ML%20Assignment%203.ipynb#" role="menuitem">Rename...</a></li>
                        <li id="save_checkpoint" role="none"><a href="http://localhost:8888/notebooks/ML%20Assignment%203.ipynb#" role="menuitem" class="menu-shortcut-container"><span class="action">Save and Checkpoint</span><span class="kb"><kbd>Ctrl-S</kbd></span></a></li>
                        <!-- <hr/> -->
                        <li class="divider" role="none"></li>
                        <li id="restore_checkpoint" class="menu_focus_highlight dropdown-submenu" role="none"><a href="http://localhost:8888/notebooks/ML%20Assignment%203.ipynb#" role="menuitem" aria-haspopup="true" aria-expanded="false" class="dropdown-toggle" data-toggle="dropdown">Revert to Checkpoint<span class="sr-only">Dropdown</span></a>
                          <ul class="dropdown-menu"><li><a href="http://localhost:8888/notebooks/ML%20Assignment%203.ipynb#">Wednesday, March 29, 2023 12:15 PM</a></li></ul>
                        </li>
                        <li class="divider" role="none"></li>
                        <li id="print_preview" role="none"><a href="http://localhost:8888/notebooks/ML%20Assignment%203.ipynb#" role="menuitem">Print Preview</a></li>
                        <li class="dropdown-submenu menu_focus_highlight" role="none"><a href="http://localhost:8888/notebooks/ML%20Assignment%203.ipynb#" role="menuitem" aria-haspopup="true" aria-expanded="false" class="dropdown-toggle" data-toggle="dropdown">Download as<span class="sr-only">Dropdown</span></a>
                            <ul id="download_menu" class="dropdown-menu">
                                
                                <li id="download_asciidoc">
                                    <a href="http://localhost:8888/notebooks/ML%20Assignment%203.ipynb#">AsciiDoc (.asciidoc)</a>
                                </li>
                                
                                <li id="download_html">
                                    <a href="http://localhost:8888/notebooks/ML%20Assignment%203.ipynb#">HTML (.html)</a>
                                </li>
                                
                                <li id="download_latex">
                                    <a href="http://localhost:8888/notebooks/ML%20Assignment%203.ipynb#">LaTeX (.tex)</a>
                                </li>
                                
                                <li id="download_markdown">
                                    <a href="http://localhost:8888/notebooks/ML%20Assignment%203.ipynb#">Markdown (.md)</a>
                                </li>
                                
                                <li id="download_notebook">
                                    <a href="http://localhost:8888/notebooks/ML%20Assignment%203.ipynb#">Notebook (.ipynb)</a>
                                </li>
                                
                                <li id="download_pdf">
                                    <a href="http://localhost:8888/notebooks/ML%20Assignment%203.ipynb#">PDF via LaTeX (.pdf)</a>
                                </li>
                                
                                <li id="download_rst">
                                    <a href="http://localhost:8888/notebooks/ML%20Assignment%203.ipynb#">reST (.rst)</a>
                                </li>
                                
                                <li id="download_script">
                                    <a href="http://localhost:8888/notebooks/ML%20Assignment%203.ipynb#">Python (.py)</a>
                                </li>
                                
                                <li id="download_slides">
                                    <a href="http://localhost:8888/notebooks/ML%20Assignment%203.ipynb#">Reveal.js slides (.slides.html)</a>
                                </li>
                                
                                <li id="download_webpdf">
                                    <a href="http://localhost:8888/notebooks/ML%20Assignment%203.ipynb#">PDF via HTML (.html)</a>
                                </li>
                                
                            </ul>
                        </li>
                        <li class="dropdown-submenu hidden" role="none"><a href="http://localhost:8888/notebooks/ML%20Assignment%203.ipynb#" role="menuitem">Deploy as</a>
                            <ul id="deploy_menu" class="dropdown-menu"></ul>
                        </li>
                        <li class="divider" role="none"></li>
                        <li id="trust_notebook" role="none" title="Trust the output of this notebook">
                            <a href="http://localhost:8888/notebooks/ML%20Assignment%203.ipynb#" role="menuitem">Trust Notebook</a></li>
                        <li class="divider" role="none"></li>
                        <li id="close_and_halt" role="none" title="Shutdown this notebook&#39;s kernel, and close this window">
                            <a href="http://localhost:8888/notebooks/ML%20Assignment%203.ipynb#" role="menuitem">Close and Halt</a></li>
                    </ul>
                </li>

                <li class="dropdown"><a href="http://localhost:8888/notebooks/ML%20Assignment%203.ipynb#" class="dropdown-toggle" id="editlink" data-toggle="dropdown" aria-haspopup="true" aria-controls="edit_menu">Edit</a>
                    <ul id="edit_menu" class="dropdown-menu" role="menu" aria-labelledby="editlink">
                        <li id="cut_cell" role="none"><a href="http://localhost:8888/notebooks/ML%20Assignment%203.ipynb#" role="menuitem" class="menu-shortcut-container"><span class="action">Cut Cells</span><span class="kb"><kbd>X</kbd></span></a></li>
                        <li id="copy_cell" role="none"><a href="http://localhost:8888/notebooks/ML%20Assignment%203.ipynb#" role="menuitem" class="menu-shortcut-container"><span class="action">Copy Cells</span><span class="kb"><kbd>C</kbd></span></a></li>
                        <li id="paste_cell_above" class="disabled" role="none"><a href="http://localhost:8888/notebooks/ML%20Assignment%203.ipynb#" role="menuitem" aria-disabled="true" class="menu-shortcut-container"><span class="action">Paste Cells Above</span><span class="kb"><kbd>Shift-V</kbd></span></a></li>
                        <li id="paste_cell_below" class="disabled" role="none"><a href="http://localhost:8888/notebooks/ML%20Assignment%203.ipynb#" role="menuitem" aria-disabled="true" class="menu-shortcut-container"><span class="action">Paste Cells Below</span><span class="kb"><kbd>V</kbd></span></a></li>
                        <li id="paste_cell_replace" class="disabled" role="none"><a href="http://localhost:8888/notebooks/ML%20Assignment%203.ipynb#" role="menuitem" aria-disabled="true">Paste Cells &amp; Replace</a></li>
                        <li id="delete_cell" role="none"><a href="http://localhost:8888/notebooks/ML%20Assignment%203.ipynb#" role="menuitem" class="menu-shortcut-container"><span class="action">Delete Cells</span><span class="kb"><kbd>D</kbd>,<kbd>D</kbd></span></a></li>
                        <li id="undelete_cell" class="disabled" role="none"><a href="http://localhost:8888/notebooks/ML%20Assignment%203.ipynb#" role="menuitem" aria-disabled="true" class="menu-shortcut-container"><span class="action">Undo Delete Cells</span><span class="kb"><kbd>Z</kbd></span></a></li>
                        <li class="divider" role="none"></li>
                        <li id="split_cell" role="none"><a href="http://localhost:8888/notebooks/ML%20Assignment%203.ipynb#" role="menuitem" class="menu-shortcut-container"><span class="action">Split Cell</span><span class="kb"><kbd>Ctrl-Shift-Minus</kbd></span></a></li>
                        <li id="merge_cell_above" role="none"><a href="http://localhost:8888/notebooks/ML%20Assignment%203.ipynb#" role="menuitem">Merge Cell Above</a></li>
                        <li id="merge_cell_below" role="none"><a href="http://localhost:8888/notebooks/ML%20Assignment%203.ipynb#" role="menuitem">Merge Cell Below</a></li>
                        <li class="divider" role="none"></li>
                        <li id="move_cell_up" role="none"><a href="http://localhost:8888/notebooks/ML%20Assignment%203.ipynb#" role="menuitem">Move Cell Up</a></li>
                        <li id="move_cell_down" role="none"><a href="http://localhost:8888/notebooks/ML%20Assignment%203.ipynb#" role="menuitem">Move Cell Down</a></li>
                        <li class="divider" role="none"></li>
                        <li id="edit_nb_metadata" role="none"><a href="http://localhost:8888/notebooks/ML%20Assignment%203.ipynb#" role="menuitem">Edit Notebook Metadata</a></li>
                        <li class="divider" role="none"></li>
                        <li id="find_and_replace" role="none"><a href="http://localhost:8888/notebooks/ML%20Assignment%203.ipynb#" role="menuitem"> Find and Replace </a></li>
                        <li class="divider" role="none"></li>
                        <li id="cut_cell_attachments" role="none"><a href="http://localhost:8888/notebooks/ML%20Assignment%203.ipynb#" role="menuitem">Cut Cell Attachments</a></li>
                        <li id="copy_cell_attachments" role="none"><a href="http://localhost:8888/notebooks/ML%20Assignment%203.ipynb#" role="menuitem">Copy Cell Attachments</a></li>
                        <li id="paste_cell_attachments" class="disabled" role="none"><a href="http://localhost:8888/notebooks/ML%20Assignment%203.ipynb#" role="menuitem" aria-disabled="true">Paste Cell Attachments</a></li>
                        <li class="divider" role="none"></li>
                        <li id="insert_image" class="disabled" role="none"><a href="http://localhost:8888/notebooks/ML%20Assignment%203.ipynb#" role="menuitem" aria-disabled="true">  Insert Image </a></li>
                    </ul>
                </li>
                <li class="dropdown"><a href="http://localhost:8888/notebooks/ML%20Assignment%203.ipynb#" class="dropdown-toggle" id="viewlink" data-toggle="dropdown" aria-haspopup="true" aria-controls="view_menu">View</a>
                    <ul id="view_menu" class="dropdown-menu" role="menu" aria-labelledby="viewlink">
                        <li id="toggle_header" role="none" title="Show/Hide the logo and notebook title (above menu bar)">
                            <a href="http://localhost:8888/notebooks/ML%20Assignment%203.ipynb#" role="menuitem">Toggle Header</a>
                        </li>
                        <li id="toggle_toolbar" role="none" title="Show/Hide the action icons (below menu bar)">
                            <a href="http://localhost:8888/notebooks/ML%20Assignment%203.ipynb#" role="menuitem">Toggle Toolbar</a>
                        </li>
                        <li id="toggle_line_numbers" role="none" title="Show/Hide line numbers in cells">
                            <a href="http://localhost:8888/notebooks/ML%20Assignment%203.ipynb#" role="menuitem" class="menu-shortcut-container"><span class="action">Toggle Line Numbers</span><span class="kb"><kbd>Shift-L</kbd></span></a>
                        </li>
                        <li id="menu-cell-toolbar" class="menu_focus_highlight dropdown-submenu" role="none">
                            <a href="http://localhost:8888/notebooks/ML%20Assignment%203.ipynb#" role="menuitem" aria-haspopup="true" aria-expanded="false" class="dropdown-toggle" data-toggle="dropdown">Cell Toolbar</a>
                            <ul class="dropdown-menu" id="menu-cell-toolbar-submenu"><li data-name="None"><a href="http://localhost:8888/notebooks/ML%20Assignment%203.ipynb#">None</a></li><li data-name="Edit%20Metadata"><a href="http://localhost:8888/notebooks/ML%20Assignment%203.ipynb#">Edit Metadata</a></li><li data-name="Raw%20Cell%20Format"><a href="http://localhost:8888/notebooks/ML%20Assignment%203.ipynb#">Raw Cell Format</a></li><li data-name="Slideshow"><a href="http://localhost:8888/notebooks/ML%20Assignment%203.ipynb#">Slideshow</a></li><li data-name="Attachments"><a href="http://localhost:8888/notebooks/ML%20Assignment%203.ipynb#">Attachments</a></li><li data-name="Tags"><a href="http://localhost:8888/notebooks/ML%20Assignment%203.ipynb#">Tags</a></li></ul>
                        </li>
                    </ul>
                </li>
                <li class="dropdown"><a href="http://localhost:8888/notebooks/ML%20Assignment%203.ipynb#" class="dropdown-toggle" id="insertlink" data-toggle="dropdown" aria-haspopup="true" aria-controls="insert_menu">Insert</a>
                    <ul id="insert_menu" class="dropdown-menu" role="menu" aria-labelledby="insertlink">
                        <li id="insert_cell_above" role="none" title="Insert an empty Code cell above the currently active cell">
                            <a href="http://localhost:8888/notebooks/ML%20Assignment%203.ipynb#" role="menuitem" class="menu-shortcut-container"><span class="action">Insert Cell Above</span><span class="kb"><kbd>A</kbd></span></a></li>
                        <li id="insert_cell_below" role="none" title="Insert an empty Code cell below the currently active cell">
                            <a href="http://localhost:8888/notebooks/ML%20Assignment%203.ipynb#" role="menuitem" class="menu-shortcut-container"><span class="action">Insert Cell Below</span><span class="kb"><kbd>B</kbd></span></a></li>
                    </ul>
                </li>
                <li class="dropdown"><a href="http://localhost:8888/notebooks/ML%20Assignment%203.ipynb#" class="dropdown-toggle" id="celllink" data-toggle="dropdown" aria-haspopup="true" aria-controls="cell_menu">Cell</a>
                    <ul id="cell_menu" class="dropdown-menu" role="menu" aria-labelledby="celllink">
                        <li id="run_cell" role="none" title="Run this cell, and move cursor to the next one">
                            <a role="menuitem" href="http://localhost:8888/notebooks/ML%20Assignment%203.ipynb#" class="menu-shortcut-container"><span class="action">Run Cells</span><span class="kb"><kbd>Ctrl-Enter</kbd></span></a></li>
                        <li id="run_cell_select_below" role="none" title="Run this cell, select below">
                            <a href="http://localhost:8888/notebooks/ML%20Assignment%203.ipynb#" role="menuitem" class="menu-shortcut-container"><span class="action">Run Cells and Select Below</span><span class="kb"><kbd>Shift-Enter</kbd></span></a></li>
                        <li id="run_cell_insert_below" role="none" title="Run this cell, insert below">
                            <a href="http://localhost:8888/notebooks/ML%20Assignment%203.ipynb#" role="menuitem" class="menu-shortcut-container"><span class="action">Run Cells and Insert Below</span><span class="kb"><kbd>Alt-Enter</kbd></span></a></li>
                        <li id="run_all_cells" role="none" title="Run all cells in the notebook">
                            <a href="http://localhost:8888/notebooks/ML%20Assignment%203.ipynb#" role="menuitem">Run All</a></li>
                        <li id="run_all_cells_above" role="none" title="Run all cells above (but not including) this cell">
                            <a href="http://localhost:8888/notebooks/ML%20Assignment%203.ipynb#" role="menuitem">Run All Above</a></li>
                        <li id="run_all_cells_below" role="none" title="Run this cell and all cells below it">
                            <a href="http://localhost:8888/notebooks/ML%20Assignment%203.ipynb#" role="menuitem">Run All Below</a></li>
                        <li class="divider" role="none"></li>
                        <li id="change_cell_type" class="menu_focus_highlight dropdown-submenu" role="none" title="All cells in the notebook have a cell type. By default, new cells are created as &#39;Code&#39; cells">
                            <a href="http://localhost:8888/notebooks/ML%20Assignment%203.ipynb#" role="menuitem" aria-haspopup="true" aria-expanded="false" class="dropdown-toggle" data-toggle="dropdown">Cell Type</a>
                            <ul class="dropdown-menu" role="menu">
                              <li id="to_code" role="none" title="Contents will be sent to the kernel for execution, and output will display in the footer of cell">
                                  <a href="http://localhost:8888/notebooks/ML%20Assignment%203.ipynb#" class="menu-shortcut-container"><span class="action">Code</span><span class="kb"><kbd>Y</kbd></span></a></li>
                              <li id="to_markdown" title="Contents will be rendered as HTML and serve as explanatory text">
                                  <a href="http://localhost:8888/notebooks/ML%20Assignment%203.ipynb#" class="menu-shortcut-container"><span class="action">Markdown</span><span class="kb"><kbd>M</kbd></span></a></li>
                              <li id="to_raw" title="Contents will pass through nbconvert unmodified">
                                  <a href="http://localhost:8888/notebooks/ML%20Assignment%203.ipynb#" class="menu-shortcut-container"><span class="action">Raw NBConvert</span><span class="kb"><kbd>R</kbd></span></a></li>
                            </ul>
                        </li>
                        <li class="divider" role="none"></li>
                        <li id="current_outputs" class="menu_focus_highlight dropdown-submenu" role="none"><a href="http://localhost:8888/notebooks/ML%20Assignment%203.ipynb#" role="menuitem" aria-haspopup="true" aria-expanded="false" class="dropdown-toggle" data-toggle="dropdown">Current Outputs</a>
                            <ul class="dropdown-menu" role="menu">
                                <li id="toggle_current_output" role="none" title="Hide/Show the output of the current cell">
                                    <a href="http://localhost:8888/notebooks/ML%20Assignment%203.ipynb#" class="menu-shortcut-container"><span class="action">Toggle</span><span class="kb"><kbd>O</kbd></span></a>
                                </li>
                                <li id="toggle_current_output_scroll" title="Scroll the output of the current cell">
                                    <a href="http://localhost:8888/notebooks/ML%20Assignment%203.ipynb#" class="menu-shortcut-container"><span class="action">Toggle Scrolling</span><span class="kb"><kbd>Shift-O</kbd></span></a>
                                </li>
                                <li id="clear_current_output" title="Clear the output of the current cell">
                                    <a href="http://localhost:8888/notebooks/ML%20Assignment%203.ipynb#">Clear</a>
                                </li>
                            </ul>
                        </li>
                        <li id="all_outputs" class="menu_focus_highlight dropdown-submenu" role="none"><a href="http://localhost:8888/notebooks/ML%20Assignment%203.ipynb#" role="menuitem" aria-haspopup="true" aria-expanded="false" class="dropdown-toggle" data-toggle="dropdown">All Output</a>
                            <ul class="dropdown-menu" role="menu">
                                <li id="toggle_all_output" role="none" title="Hide/Show the output of all cells">
                                    <a href="http://localhost:8888/notebooks/ML%20Assignment%203.ipynb#">Toggle</a>
                                </li>
                                <li id="toggle_all_output_scroll" title="Scroll the output of all cells">
                                    <a href="http://localhost:8888/notebooks/ML%20Assignment%203.ipynb#">Toggle Scrolling</a>
                                </li>
                                <li id="clear_all_output" title="Clear the output of all cells">
                                    <a href="http://localhost:8888/notebooks/ML%20Assignment%203.ipynb#">Clear</a>
                                </li>
                            </ul>
                        </li>
                    </ul>
                </li>
                <li class="dropdown"><a href="http://localhost:8888/notebooks/ML%20Assignment%203.ipynb#" class="dropdown-toggle" data-toggle="dropdown" id="kernellink">Kernel</a>
                    <ul id="kernel_menu" class="dropdown-menu" aria-labelledby="kernellink">
                        <li id="int_kernel" title="Send Keyboard Interrupt (CTRL-C) to the Kernel">
                            <a href="http://localhost:8888/notebooks/ML%20Assignment%203.ipynb#" class="menu-shortcut-container"><span class="action">Interrupt</span><span class="kb"><kbd>I</kbd>,<kbd>I</kbd></span></a>
                        </li>
                        <li id="restart_kernel" title="Restart the Kernel">
                            <a href="http://localhost:8888/notebooks/ML%20Assignment%203.ipynb#" class="menu-shortcut-container"><span class="action">Restart</span><span class="kb"><kbd>0</kbd>,<kbd>0</kbd></span></a>
                        </li>
                        <li id="restart_clear_output" title="Restart the Kernel and clear all output">
                            <a href="http://localhost:8888/notebooks/ML%20Assignment%203.ipynb#">Restart &amp; Clear Output</a>
                        </li>
                        <li id="restart_run_all" title="Restart the Kernel and re-run the notebook">
                            <a href="http://localhost:8888/notebooks/ML%20Assignment%203.ipynb#">Restart &amp; Run All</a>
                        </li>
                        <li id="reconnect_kernel" title="Reconnect to the Kernel">
                            <a href="http://localhost:8888/notebooks/ML%20Assignment%203.ipynb#">Reconnect</a>
                        </li>
                        <li id="shutdown_kernel" title="Shutdown the Kernel">
                            <a href="http://localhost:8888/notebooks/ML%20Assignment%203.ipynb#">Shutdown</a>
                        </li>
                        <li class="divider" role="none"></li>
                        <li id="menu-change-kernel" class="menu_focus_highlight dropdown-submenu" role="menuitem">
                            <a href="http://localhost:8888/notebooks/ML%20Assignment%203.ipynb#" role="menuitem" aria-haspopup="true" aria-expanded="false" class="dropdown-toggle" data-toggle="dropdown">Change kernel</a>
                            <ul class="dropdown-menu" id="menu-change-kernel-submenu"><li id="kernel-submenu-python3"><a href="http://localhost:8888/notebooks/ML%20Assignment%203.ipynb#">Python 3 (ipykernel)</a></li></ul>
                        </li>
                    </ul>
                </li>
                <li class="dropdown"><a href="http://localhost:8888/notebooks/ML%20Assignment%203.ipynb#" data-toggle="dropdown" class="dropdown-toggle">Widgets</a><ul id="widget-submenu" class="dropdown-menu"><li title="Save the notebook with the widget state information for static rendering"><a href="http://localhost:8888/notebooks/ML%20Assignment%203.ipynb#">Save Notebook Widget State</a></li><li title="Clear the widget state information from the notebook"><a href="http://localhost:8888/notebooks/ML%20Assignment%203.ipynb#">Clear Notebook Widget State</a></li><ul class="divider"></ul><li title="Download the widget state as a JSON file"><a href="http://localhost:8888/notebooks/ML%20Assignment%203.ipynb#">Download Widget State</a></li><li title="Embed interactive widgets"><a href="http://localhost:8888/notebooks/ML%20Assignment%203.ipynb#">Embed Widgets</a></li></ul></li><li class="dropdown"><a href="http://localhost:8888/notebooks/ML%20Assignment%203.ipynb#" class="dropdown-toggle" data-toggle="dropdown">Help</a>
                    <ul id="help_menu" class="dropdown-menu">
                        
                        <li id="notebook_tour" title="A quick tour of the notebook user interface"><a href="http://localhost:8888/notebooks/ML%20Assignment%203.ipynb#">User Interface Tour</a></li>
                        <li id="keyboard_shortcuts" title="Opens a tooltip with all keyboard shortcuts"><a href="http://localhost:8888/notebooks/ML%20Assignment%203.ipynb#" class="menu-shortcut-container"><span class="action">Keyboard Shortcuts</span><span class="kb"><kbd>H</kbd></span></a></li>
                        <li id="edit_keyboard_shortcuts" title="Opens a dialog allowing you to edit Keyboard shortcuts"><a href="http://localhost:8888/notebooks/ML%20Assignment%203.ipynb#">Edit Keyboard Shortcuts</a></li>
                        <li class="divider"></li>
                        

						
                        
                            
                                <li><a rel="noreferrer" href="http://nbviewer.jupyter.org/github/ipython/ipython/blob/3.x/examples/Notebook/Index.ipynb" target="_blank" title="Opens in a new window">
                                
                                    <i class="fa fa-external-link menu-icon pull-right"></i>
                                

                                Notebook Help
                                </a></li>
                            
                                <li><a rel="noreferrer" href="https://help.github.com/articles/markdown-basics/" target="_blank" title="Opens in a new window">
                                
                                    <i class="fa fa-external-link menu-icon pull-right"></i>
                                

                                Markdown
                                </a></li>
                            
                            
                        
                        <li id="kernel-help-links" class="divider"></li><li><a target="_blank" title="Opens in a new window" href="https://docs.python.org/3.9?v=20230329104424"><i class="fa fa-external-link menu-icon pull-right"></i><span>Python Reference</span></a></li><li><a target="_blank" title="Opens in a new window" href="https://ipython.org/documentation.html?v=20230329104424"><i class="fa fa-external-link menu-icon pull-right"></i><span>IPython Reference</span></a></li><li><a target="_blank" title="Opens in a new window" href="https://docs.scipy.org/doc/numpy/reference/?v=20230329104424"><i class="fa fa-external-link menu-icon pull-right"></i><span>NumPy Reference</span></a></li><li><a target="_blank" title="Opens in a new window" href="https://docs.scipy.org/doc/scipy/reference/?v=20230329104424"><i class="fa fa-external-link menu-icon pull-right"></i><span>SciPy Reference</span></a></li><li><a target="_blank" title="Opens in a new window" href="https://matplotlib.org/contents.html?v=20230329104424"><i class="fa fa-external-link menu-icon pull-right"></i><span>Matplotlib Reference</span></a></li><li><a target="_blank" title="Opens in a new window" href="http://docs.sympy.org/latest/index.html?v=20230329104424"><i class="fa fa-external-link menu-icon pull-right"></i><span>SymPy Reference</span></a></li><li><a target="_blank" title="Opens in a new window" href="https://pandas.pydata.org/pandas-docs/stable/?v=20230329104424"><i class="fa fa-external-link menu-icon pull-right"></i><span>pandas Reference</span></a></li><li class="divider"></li>
                        <li title="About Jupyter Notebook"><a id="notebook_about" href="http://localhost:8888/notebooks/ML%20Assignment%203.ipynb#">About</a></li>
                        
                    </ul>
                </li>
              </ul>
            </div>
        </div>
    </div>
</div>

<div id="maintoolbar" class="navbar">
  <div class="toolbar-inner navbar-inner navbar-nobg">
    <div id="maintoolbar-container" class="container toolbar"><div class="btn-group" id="save-notbook"><button class="btn btn-default" title="Save and Checkpoint" data-jupyter-action="jupyter-notebook:save-notebook"><i class="fa-save fa"></i></button></div><div class="btn-group" id="insert_above_below"><button class="btn btn-default" title="insert cell below" data-jupyter-action="jupyter-notebook:insert-cell-below"><i class="fa-plus fa"></i></button></div><div class="btn-group" id="cut_copy_paste"><button class="btn btn-default" title="cut selected cells" data-jupyter-action="jupyter-notebook:cut-cell"><i class="fa-cut fa"></i></button><button class="btn btn-default" title="copy selected cells" data-jupyter-action="jupyter-notebook:copy-cell"><i class="fa-copy fa"></i></button><button class="btn btn-default" title="paste cells below" data-jupyter-action="jupyter-notebook:paste-cell-below"><i class="fa-paste fa"></i></button></div><div class="btn-group" id="move_up_down"><button class="btn btn-default" title="move selected cells up" data-jupyter-action="jupyter-notebook:move-cell-up"><i class="fa-arrow-up fa"></i></button><button class="btn btn-default" title="move selected cells down" data-jupyter-action="jupyter-notebook:move-cell-down"><i class="fa-arrow-down fa"></i></button></div><div class="btn-group" id="run_int"><button class="btn btn-default" aria-label="Run" title="run cell, select below" data-jupyter-action="jupyter-notebook:run-cell-and-select-next"><i class="fa-play fa"></i><span class="toolbar-btn-label">Run</span></button><button class="btn btn-default" title="interrupt the kernel" data-jupyter-action="jupyter-notebook:interrupt-kernel"><i class="fa-stop fa"></i></button><button class="btn btn-default" title="restart the kernel (with dialog)" data-jupyter-action="jupyter-notebook:confirm-restart-kernel"><i class="fa-repeat fa"></i></button><button class="btn btn-default" title="restart the kernel, then re-run the whole notebook (with dialog)" data-jupyter-action="jupyter-notebook:confirm-restart-kernel-and-run-all-cells"><i class="fa-forward fa"></i></button></div><select id="cell_type" aria-label="combobox, select cell type" role="combobox" class="form-control select-xs"><option value="code">Code</option><option value="markdown">Markdown</option><option value="raw">Raw NBConvert</option><option value="heading">Heading</option><option value="multiselect" disabled="disabled" style="display: none;">-</option></select><div class="btn-group" id="cmd_palette"><button class="btn btn-default" title="open the command palette" data-jupyter-action="jupyter-notebook:show-command-palette"><i class="fa-keyboard-o fa"></i></button></div></div>
  </div>
</div>
</div>

<div class="lower-header-bar"></div>

</div>

<div id="site" style="display: block; height: 570.771px;">


<div id="ipython-main-app">
    <div id="notebook_panel">
        <div id="notebook" tabindex="-1"><div class="container" id="notebook-container"><div class="cell code_cell rendered selected" tabindex="2"><div class="input"><div class="prompt_container"><div class="prompt input_prompt"><bdi>In</bdi>&nbsp;[30]:</div><div class="run_this_cell" title="Run this cell"><i class="fa-step-forward fa"></i></div></div><div class="inner_cell"><div class="ctb_hideshow"><div class="celltoolbar"></div></div><div class="input_area" aria-label="Edit code here"><div class="CodeMirror cm-s-ipython"><div style="overflow: hidden; position: relative; width: 3px; height: 0px; top: 141.594px; left: 27.0938px;"><textarea autocorrect="off" autocapitalize="off" spellcheck="false" tabindex="0" style="position: absolute; bottom: -1em; padding: 0px; width: 1000px; height: 1em; outline: none;"></textarea></div><div class="CodeMirror-vscrollbar" tabindex="-1" cm-not-content="true" style="bottom: 0px;"><div style="min-width: 1px; height: 0px;"></div></div><div class="CodeMirror-hscrollbar" tabindex="-1" cm-not-content="true"><div style="height: 100%; min-height: 1px; width: 0px;"></div></div><div class="CodeMirror-scrollbar-filler" cm-not-content="true"></div><div class="CodeMirror-gutter-filler" cm-not-content="true"></div><div class="CodeMirror-scroll" tabindex="-1"><div class="CodeMirror-sizer" style="margin-left: 0px; min-width: 399.594px; margin-bottom: -16px; border-right-width: 34px; min-height: 232px; padding-right: 0px; padding-bottom: 0px;"><div style="position: relative; top: 0px;"><div class="CodeMirror-lines" role="presentation"><div role="presentation" style="position: relative; outline: none;"><div class="CodeMirror-measure"></div><div class="CodeMirror-measure"></div><div style="position: relative; z-index: 1;"></div><div class="CodeMirror-cursors" style=""><div class="CodeMirror-cursor" style="left: 27.0938px; top: 136px; height: 17px;">&nbsp;</div></div><div class="CodeMirror-code" role="presentation" style=""><pre class=" CodeMirror-line " role="presentation"><span role="presentation" style="padding-right: 0.1px;"><span class="cm-comment">#1.a</span></span></pre><pre class=" CodeMirror-line " role="presentation"><span role="presentation" style="padding-right: 0.1px;"><span class="cm-keyword">import</span> <span class="cm-variable">numpy</span> <span class="cm-keyword">as</span> <span class="cm-variable">np</span></span></pre><pre class=" CodeMirror-line " role="presentation"><span role="presentation" style="padding-right: 0.1px;"><span class="cm-variable">a</span> <span class="cm-operator">=</span> <span class="cm-variable">np</span>.<span class="cm-property">array</span>([<span class="cm-number">1</span>,<span class="cm-number">2</span>,<span class="cm-number">3</span>,<span class="cm-number">4</span>,<span class="cm-number">5</span>,<span class="cm-number">6</span>,<span class="cm-number">7</span>,<span class="cm-number">8</span>,<span class="cm-number">9</span>,<span class="cm-number">10</span>,<span class="cm-number">11</span>,<span class="cm-number">12</span>,<span class="cm-number">13</span>,<span class="cm-number">14</span>,<span class="cm-number">15</span>])</span></pre><pre class=" CodeMirror-line " role="presentation"><span role="presentation" style="padding-right: 0.1px;"><span class="cm-builtin">print</span>(<span class="cm-variable">a</span>)</span></pre><pre class=" CodeMirror-line " role="presentation"><span role="presentation" style="padding-right: 0.1px;"><span class="cm-comment">#reshape it by 3x5</span></span></pre><pre class=" CodeMirror-line " role="presentation"><span role="presentation" style="padding-right: 0.1px;"><span class="cm-variable">array</span> <span class="cm-operator">=</span> <span class="cm-variable">a</span>.<span class="cm-property">reshape</span>(<span class="cm-number">3</span>,<span class="cm-number">5</span>)</span></pre><pre class=" CodeMirror-line " role="presentation"><span role="presentation" style="padding-right: 0.1px;"><span class="cm-builtin">print</span>(<span class="cm-variable">array</span>)</span></pre><pre class=" CodeMirror-line " role="presentation"><span role="presentation" style="padding-right: 0.1px;"><span class="cm-comment">#to print shape of array</span></span></pre><pre class=" CodeMirror-line " role="presentation"><span role="presentation" style="padding-right: 0.1px;"><span class="cm-builtin">print</span>(<span class="cm-variable">array</span>.<span class="cm-property">shape</span>)</span></pre><pre class=" CodeMirror-line " role="presentation"><span role="presentation" style="padding-right: 0.1px;"><span class="cm-comment">#replaced the max in each row by 0</span></span></pre><pre class=" CodeMirror-line " role="presentation"><span role="presentation" style="padding-right: 0.1px;"><span class="cm-variable">a</span>[<span class="cm-variable">a</span>.<span class="cm-property">argmax</span>()] <span class="cm-operator">=</span> <span class="cm-number">0</span></span></pre><pre class=" CodeMirror-line " role="presentation"><span role="presentation" style="padding-right: 0.1px;"><span class="cm-builtin">print</span>(<span class="cm-string">"Maximum value replaced by 0 :"</span>)</span></pre><pre class=" CodeMirror-line " role="presentation"><span role="presentation" style="padding-right: 0.1px;"><span class="cm-builtin">print</span>(<span class="cm-variable">a</span>)</span></pre></div></div></div></div></div><div style="position: absolute; height: 34px; width: 1px; border-bottom: 0px solid transparent; top: 232px;"></div><div class="CodeMirror-gutters" style="display: none; height: 266px;"></div></div></div></div></div></div><div class="output_wrapper"><div class="out_prompt_overlay prompt" title="click to expand output; double click to hide output"></div><div class="output"><div class="output_area"><div class="run_this_cell"></div><div class="prompt"></div><div class="output_subarea output_text output_stream output_stdout" dir="auto"><pre>[ 1  2  3  4  5  6  7  8  9 10 11 12 13 14 15]
[[ 1  2  3  4  5]
 [ 6  7  8  9 10]
 [11 12 13 14 15]]
(3, 5)
Maximum values replaced by 0 :
[ 1  2  3  4  5  6  7  8  9 10 11 12 13 14  0]
</pre></div></div></div><div class="btn btn-default output_collapsed" title="click to expand output" style="display: none;">. . .</div></div></div><div class="cell code_cell unselected rendered" tabindex="2"><div class="input"><div class="prompt_container"><div class="prompt input_prompt"><bdi>In</bdi>&nbsp;[4]:</div><div class="run_this_cell" title="Run this cell"><i class="fa-step-forward fa"></i></div></div><div class="inner_cell"><div class="ctb_hideshow"><div class="celltoolbar"></div></div><div class="input_area" aria-label="Edit code here"><div class="CodeMirror cm-s-ipython"><div style="overflow: hidden; position: relative; width: 3px; height: 0px; top: 5.59375px; left: 4px;"><textarea autocorrect="off" autocapitalize="off" spellcheck="false" tabindex="0" style="position: absolute; bottom: -1em; padding: 0px; width: 1000px; height: 1em; outline: none;"></textarea></div><div class="CodeMirror-vscrollbar" tabindex="-1" cm-not-content="true"><div style="min-width: 1px; height: 0px;"></div></div><div class="CodeMirror-hscrollbar" tabindex="-1" cm-not-content="true"><div style="height: 100%; min-height: 1px; width: 0px;"></div></div><div class="CodeMirror-scrollbar-filler" cm-not-content="true"></div><div class="CodeMirror-gutter-filler" cm-not-content="true"></div><div class="CodeMirror-scroll" tabindex="-1"><div class="CodeMirror-sizer" style="margin-left: 0px; min-width: 222.542px; margin-bottom: -16px; border-right-width: 34px; min-height: 147px; padding-right: 0px; padding-bottom: 0px;"><div style="position: relative; top: 0px;"><div class="CodeMirror-lines" role="presentation"><div role="presentation" style="position: relative; outline: none;"><div class="CodeMirror-measure"><pre class="CodeMirror-line-like"><span>xxxxxxxxxx</span></pre></div><div class="CodeMirror-measure"></div><div style="position: relative; z-index: 1;"></div><div class="CodeMirror-cursors"><div class="CodeMirror-cursor" style="left: 4px; top: 0px; height: 17px;">&nbsp;</div></div><div class="CodeMirror-code" role="presentation" style=""><pre class=" CodeMirror-line " role="presentation"><span role="presentation" style="padding-right: 0.1px;"><span class="cm-comment">#b.</span></span></pre><pre class=" CodeMirror-line " role="presentation"><span role="presentation" style="padding-right: 0.1px;"><span class="cm-keyword">import</span> <span class="cm-variable">numpy</span> <span class="cm-keyword">as</span> <span class="cm-variable">np</span></span></pre><pre class=" CodeMirror-line " role="presentation"><span role="presentation" style="padding-right: 0.1px;"><span class="cm-keyword">from</span> <span class="cm-variable">numpy</span>.<span class="cm-property">linalg</span> <span class="cm-keyword">import</span> <span class="cm-variable">eig</span></span></pre><pre class=" CodeMirror-line " role="presentation"><span role="presentation" style="padding-right: 0.1px;"><span class="cm-variable">a</span> <span class="cm-operator">=</span> <span class="cm-variable">np</span>.<span class="cm-property">array</span>([[<span class="cm-number">3</span>,<span class="cm-operator">-</span><span class="cm-number">2</span>],</span></pre><pre class=" CodeMirror-line " role="presentation"><span role="presentation" style="padding-right: 0.1px;">            [<span class="cm-number">1</span>,<span class="cm-number">0</span>]])</span></pre><pre class=" CodeMirror-line " role="presentation"><span role="presentation" style="padding-right: 0.1px;"><span class="cm-variable">w</span>,<span class="cm-variable">v</span> <span class="cm-operator">=</span> <span class="cm-variable">eig</span>(<span class="cm-variable">a</span>)</span></pre><pre class=" CodeMirror-line " role="presentation"><span role="presentation" style="padding-right: 0.1px;"><span class="cm-builtin">print</span>(<span class="cm-string">'E-value:'</span>,<span class="cm-variable">w</span>)</span></pre><pre class=" CodeMirror-line " role="presentation"><span role="presentation" style="padding-right: 0.1px;"><span class="cm-builtin">print</span>(<span class="cm-string">'E-vector:'</span>,<span class="cm-variable">v</span>)</span></pre></div></div></div></div></div><div style="position: absolute; height: 34px; width: 1px; border-bottom: 0px solid transparent; top: 147px;"></div><div class="CodeMirror-gutters" style="display: none; height: 181px;"></div></div></div></div></div></div><div class="output_wrapper"><div class="out_prompt_overlay prompt" title="click to expand output; double click to hide output"></div><div class="output"><div class="output_area"><div class="run_this_cell"></div><div class="prompt"></div><div class="output_subarea output_text output_stream output_stdout" dir="auto"><pre>E-value: [2. 1.]
E-vector: [[0.89442719 0.70710678]
 [0.4472136  0.70710678]]
</pre></div></div></div><div class="btn btn-default output_collapsed" title="click to expand output" style="display: none;">. . .</div></div></div><div class="cell code_cell unselected rendered" tabindex="2"><div class="input"><div class="prompt_container"><div class="prompt input_prompt"><bdi>In</bdi>&nbsp;[6]:</div><div class="run_this_cell" title="Run this cell"><i class="fa-step-forward fa"></i></div></div><div class="inner_cell"><div class="ctb_hideshow"><div class="celltoolbar"></div></div><div class="input_area" aria-label="Edit code here"><div class="CodeMirror cm-s-ipython"><div style="overflow: hidden; position: relative; width: 3px; height: 0px; top: 5.59375px; left: 4px;"><textarea autocorrect="off" autocapitalize="off" spellcheck="false" tabindex="0" style="position: absolute; bottom: -1em; padding: 0px; width: 1000px; height: 1em; outline: none;"></textarea></div><div class="CodeMirror-vscrollbar" tabindex="-1" cm-not-content="true"><div style="min-width: 1px; height: 0px;"></div></div><div class="CodeMirror-hscrollbar" tabindex="-1" cm-not-content="true"><div style="height: 100%; min-height: 1px; width: 0px;"></div></div><div class="CodeMirror-scrollbar-filler" cm-not-content="true"></div><div class="CodeMirror-gutter-filler" cm-not-content="true"></div><div class="CodeMirror-scroll" tabindex="-1"><div class="CodeMirror-sizer" style="margin-left: 0px; min-width: 307.198px; margin-bottom: -16px; border-right-width: 34px; min-height: 181px; padding-right: 0px; padding-bottom: 0px;"><div style="position: relative; top: 0px;"><div class="CodeMirror-lines" role="presentation"><div role="presentation" style="position: relative; outline: none;"><div class="CodeMirror-measure"><pre class="CodeMirror-line-like"><span>xxxxxxxxxx</span></pre></div><div class="CodeMirror-measure"></div><div style="position: relative; z-index: 1;"></div><div class="CodeMirror-cursors"><div class="CodeMirror-cursor" style="left: 4px; top: 0px; height: 17px;">&nbsp;</div></div><div class="CodeMirror-code" role="presentation" style=""><pre class=" CodeMirror-line " role="presentation"><span role="presentation" style="padding-right: 0.1px;"><span class="cm-comment">#c</span></span></pre><pre class=" CodeMirror-line " role="presentation"><span role="presentation" style="padding-right: 0.1px;"><span class="cm-keyword">import</span> <span class="cm-variable">numpy</span> <span class="cm-keyword">as</span> <span class="cm-variable">np</span></span></pre><pre class=" CodeMirror-line " role="presentation"><span role="presentation" style="padding-right: 0.1px;"><span class="cm-variable">n_array</span> <span class="cm-operator">=</span> <span class="cm-variable">np</span>.<span class="cm-property">array</span>([[<span class="cm-number">0</span>,<span class="cm-number">1</span>,<span class="cm-number">2</span>],[<span class="cm-number">3</span>,<span class="cm-number">4</span>,<span class="cm-number">5</span>]])</span></pre><pre class=" CodeMirror-line " role="presentation"><span role="presentation" style="padding-right: 0.1px;"><span class="cm-builtin">print</span>(<span class="cm-string">"Matrix is:"</span>)</span></pre><pre class=" CodeMirror-line " role="presentation"><span role="presentation" style="padding-right: 0.1px;"><span class="cm-builtin">print</span>(<span class="cm-variable">n_array</span>)</span></pre><pre class=" CodeMirror-line " role="presentation"><span role="presentation" style="padding-right: 0.1px;"><span class="cm-variable">diag</span> <span class="cm-operator">=</span> <span class="cm-variable">np</span>.<span class="cm-property">diagonal</span>(<span class="cm-variable">n_array</span>)</span></pre><pre class=" CodeMirror-line " role="presentation"><span role="presentation" style="padding-right: 0.1px;"><span class="cm-builtin">print</span>(<span class="cm-string">"\nDiagonal elements are :"</span>)</span></pre><pre class=" CodeMirror-line " role="presentation"><span role="presentation" style="padding-right: 0.1px;"><span class="cm-builtin">print</span>(<span class="cm-variable">diag</span>)</span></pre><pre class=" CodeMirror-line " role="presentation"><span role="presentation" style="padding-right: 0.1px;"><span class="cm-builtin">print</span>(<span class="cm-string">"\nSum of diagonal element is :"</span>)</span></pre><pre class=" CodeMirror-line " role="presentation"><span role="presentation" style="padding-right: 0.1px;"><span class="cm-builtin">print</span>(<span class="cm-builtin">sum</span>(<span class="cm-variable">diag</span>))</span></pre></div></div></div></div></div><div style="position: absolute; height: 34px; width: 1px; border-bottom: 0px solid transparent; top: 181px;"></div><div class="CodeMirror-gutters" style="display: none; height: 215px;"></div></div></div></div></div></div><div class="output_wrapper"><div class="out_prompt_overlay prompt" title="click to expand output; double click to hide output"></div><div class="output"><div class="output_area"><div class="run_this_cell"></div><div class="prompt"></div><div class="output_subarea output_text output_stream output_stdout" dir="auto"><pre>Matrix is:
[[0 1 2]
 [3 4 5]]

Diagonal elements are :
[0 4]

Sum of diagonal element is :
4
</pre></div></div></div><div class="btn btn-default output_collapsed" title="click to expand output" style="display: none;">. . .</div></div></div><div class="cell code_cell unselected rendered" tabindex="2"><div class="input"><div class="prompt_container"><div class="prompt input_prompt"><bdi>In</bdi>&nbsp;[7]:</div><div class="run_this_cell" title="Run this cell"><i class="fa-step-forward fa"></i></div></div><div class="inner_cell"><div class="ctb_hideshow"><div class="celltoolbar"></div></div><div class="input_area" aria-label="Edit code here"><div class="CodeMirror cm-s-ipython"><div style="overflow: hidden; position: relative; width: 3px; height: 0px; top: 5.59375px; left: 4px;"><textarea autocorrect="off" autocapitalize="off" spellcheck="false" tabindex="0" style="position: absolute; bottom: -1em; padding: 0px; width: 1000px; height: 1em; outline: none;"></textarea></div><div class="CodeMirror-vscrollbar" tabindex="-1" cm-not-content="true"><div style="min-width: 1px; height: 0px;"></div></div><div class="CodeMirror-hscrollbar" tabindex="-1" cm-not-content="true"><div style="height: 100%; min-height: 1px; width: 0px;"></div></div><div class="CodeMirror-scrollbar-filler" cm-not-content="true"></div><div class="CodeMirror-gutter-filler" cm-not-content="true"></div><div class="CodeMirror-scroll" tabindex="-1"><div class="CodeMirror-sizer" style="margin-left: 0px; min-width: 261.031px; margin-bottom: -16px; border-right-width: 34px; min-height: 164px; padding-right: 0px; padding-bottom: 0px;"><div style="position: relative; top: 0px;"><div class="CodeMirror-lines" role="presentation"><div role="presentation" style="position: relative; outline: none;"><div class="CodeMirror-measure"><pre class="CodeMirror-line-like"><span>xxxxxxxxxx</span></pre></div><div class="CodeMirror-measure"></div><div style="position: relative; z-index: 1;"></div><div class="CodeMirror-cursors"><div class="CodeMirror-cursor" style="left: 4px; top: 0px; height: 17px;">&nbsp;</div></div><div class="CodeMirror-code" role="presentation" style=""><pre class=" CodeMirror-line " role="presentation"><span role="presentation" style="padding-right: 0.1px;"><span class="cm-comment">#d</span></span></pre><pre class=" CodeMirror-line " role="presentation"><span role="presentation" style="padding-right: 0.1px;"><span class="cm-keyword">import</span> <span class="cm-variable">numpy</span> <span class="cm-keyword">as</span> <span class="cm-variable">np</span></span></pre><pre class=" CodeMirror-line " role="presentation"><span role="presentation" style="padding-right: 0.1px;"><span class="cm-variable">a</span> <span class="cm-operator">=</span> <span class="cm-variable">np</span>.<span class="cm-property">array</span>([[<span class="cm-number">1</span>,<span class="cm-number">2</span>],[<span class="cm-number">3</span>,<span class="cm-number">4</span>],[<span class="cm-number">5</span>,<span class="cm-number">6</span>]])</span></pre><pre class=" CodeMirror-line " role="presentation"><span role="presentation" style="padding-right: 0.1px;"><span class="cm-variable">b</span> <span class="cm-operator">=</span> <span class="cm-variable">np</span>.<span class="cm-property">reshape</span>(<span class="cm-variable">a</span>,(<span class="cm-number">3</span>,<span class="cm-number">2</span>))</span></pre><pre class=" CodeMirror-line " role="presentation"><span role="presentation" style="padding-right: 0.1px;"><span class="cm-builtin">print</span>(<span class="cm-string">"Reshape 3x2 :"</span>)</span></pre><pre class=" CodeMirror-line " role="presentation"><span role="presentation" style="padding-right: 0.1px;"><span class="cm-builtin">print</span>(<span class="cm-variable">b</span>)</span></pre><pre class=" CodeMirror-line " role="presentation"><span role="presentation" style="padding-right: 0.1px;"><span class="cm-variable">c</span> <span class="cm-operator">=</span> <span class="cm-variable">np</span>.<span class="cm-property">reshape</span>(<span class="cm-variable">a</span>,(<span class="cm-number">2</span>,<span class="cm-number">3</span>))</span></pre><pre class=" CodeMirror-line " role="presentation"><span role="presentation" style="padding-right: 0.1px;"><span class="cm-builtin">print</span>(<span class="cm-string">"Reshape 2x3 :"</span>)</span></pre><pre class=" CodeMirror-line " role="presentation"><span role="presentation" style="padding-right: 0.1px;"><span class="cm-builtin">print</span>(<span class="cm-variable">c</span>)</span></pre></div></div></div></div></div><div style="position: absolute; height: 34px; width: 1px; border-bottom: 0px solid transparent; top: 164px;"></div><div class="CodeMirror-gutters" style="display: none; height: 198px;"></div></div></div></div></div></div><div class="output_wrapper"><div class="out_prompt_overlay prompt" title="click to expand output; double click to hide output"></div><div class="output"><div class="output_area"><div class="run_this_cell"></div><div class="prompt"></div><div class="output_subarea output_text output_stream output_stdout" dir="auto"><pre>Reshape 3x2 :
[[1 2]
 [3 4]
 [5 6]]
Reshape 2x3 :
[[1 2 3]
 [4 5 6]]
</pre></div></div></div><div class="btn btn-default output_collapsed" title="click to expand output" style="display: none;">. . .</div></div></div><div class="cell code_cell unselected rendered" tabindex="2"><div class="input"><div class="prompt_container"><div class="prompt input_prompt"><bdi>In</bdi>&nbsp;[34]:</div><div class="run_this_cell" title="Run this cell"><i class="fa-step-forward fa"></i></div></div><div class="inner_cell"><div class="ctb_hideshow"><div class="celltoolbar"></div></div><div class="input_area" aria-label="Edit code here"><div class="CodeMirror cm-s-ipython"><div style="overflow: hidden; position: relative; width: 3px; height: 0px; top: 5.59375px; left: 4px;"><textarea autocorrect="off" autocapitalize="off" spellcheck="false" tabindex="0" style="position: absolute; bottom: -1em; padding: 0px; width: 1000px; height: 1em; outline: none;"></textarea></div><div class="CodeMirror-vscrollbar" tabindex="-1" cm-not-content="true" style="bottom: 0px;"><div style="min-width: 1px; height: 0px;"></div></div><div class="CodeMirror-hscrollbar" tabindex="-1" cm-not-content="true"><div style="height: 100%; min-height: 1px; width: 0px;"></div></div><div class="CodeMirror-scrollbar-filler" cm-not-content="true"></div><div class="CodeMirror-gutter-filler" cm-not-content="true"></div><div class="CodeMirror-scroll" tabindex="-1"><div class="CodeMirror-sizer" style="margin-left: 0px; min-width: 584.344px; margin-bottom: -16px; border-right-width: 34px; min-height: 249px; padding-right: 0px; padding-bottom: 0px;"><div style="position: relative; top: 0px;"><div class="CodeMirror-lines" role="presentation"><div role="presentation" style="position: relative; outline: none;"><div class="CodeMirror-measure"><pre class="CodeMirror-line-like"><span>xxxxxxxxxx</span></pre></div><div class="CodeMirror-measure"></div><div style="position: relative; z-index: 1;"></div><div class="CodeMirror-cursors"><div class="CodeMirror-cursor" style="left: 4px; top: 0px; height: 17px;">&nbsp;</div></div><div class="CodeMirror-code" role="presentation" style=""><pre class=" CodeMirror-line " role="presentation"><span role="presentation" style="padding-right: 0.1px;"><span class="cm-comment">#2</span></span></pre><pre class=" CodeMirror-line " role="presentation"><span role="presentation" style="padding-right: 0.1px;"><span class="cm-keyword">import</span> <span class="cm-variable">matplotlib</span>.<span class="cm-property">pyplot</span> <span class="cm-keyword">as</span> <span class="cm-variable">plt</span></span></pre><pre class=" CodeMirror-line " role="presentation"><span role="presentation" style="padding-right: 0.1px;"><span class="cm-comment"># Data to plot</span></span></pre><pre class=" CodeMirror-line " role="presentation"><span role="presentation" style="padding-right: 0.1px;"><span class="cm-variable">programming_languages</span> <span class="cm-operator">=</span> <span class="cm-string">'Java'</span>, <span class="cm-string">'Python'</span>, <span class="cm-string">'PHP'</span>, <span class="cm-string">'JavaScript'</span>, <span class="cm-string">'C#'</span>, <span class="cm-string">'C++'</span></span></pre><pre class=" CodeMirror-line " role="presentation"><span role="presentation" style="padding-right: 0.1px;"><span class="cm-variable">popuratity</span> <span class="cm-operator">=</span> [<span class="cm-number">22.2</span>, <span class="cm-number">17.6</span>, <span class="cm-number">8.8</span>, <span class="cm-number">8</span>, <span class="cm-number">7.7</span>, <span class="cm-number">6.7</span>]</span></pre><pre class=" CodeMirror-line " role="presentation"><span role="presentation" style="padding-right: 0.1px;"><span class="cm-variable">colors</span> <span class="cm-operator">=</span> [<span class="cm-string">"#1f77b4"</span>, <span class="cm-string">"#ff7f0e"</span>, <span class="cm-string">"#2ca02c"</span>, <span class="cm-string">"#d62728"</span>, <span class="cm-string">"#9467bd"</span>, <span class="cm-string">"#8c564b"</span>]</span></pre><pre class=" CodeMirror-line " role="presentation"><span role="presentation" style="padding-right: 0.1px;"><span class="cm-comment"># explode 1st slice</span></span></pre><pre class=" CodeMirror-line " role="presentation"><span role="presentation" style="padding-right: 0.1px;"><span class="cm-variable">explode</span> <span class="cm-operator">=</span> (<span class="cm-number">0.1</span>, <span class="cm-number">0</span>, <span class="cm-number">0</span>, <span class="cm-number">0</span>,<span class="cm-number">0</span>,<span class="cm-number">0</span>)  </span></pre><pre class=" CodeMirror-line " role="presentation"><span role="presentation" style="padding-right: 0.1px;"><span class="cm-comment"># Plot</span></span></pre><pre class=" CodeMirror-line " role="presentation"><span role="presentation" style="padding-right: 0.1px;"><span class="cm-variable">plt</span>.<span class="cm-property">pie</span>(<span class="cm-variable">popuratity</span>, <span class="cm-variable">explode</span><span class="cm-operator">=</span><span class="cm-variable">explode</span>, <span class="cm-variable">labels</span><span class="cm-operator">=</span><span class="cm-variable">languages</span>, <span class="cm-variable">colors</span><span class="cm-operator">=</span><span class="cm-variable">colors</span>,</span></pre><pre class=" CodeMirror-line " role="presentation"><span role="presentation" style="padding-right: 0.1px;"><span class="cm-variable">autopct</span><span class="cm-operator">=</span><span class="cm-string">'%1.1f%%'</span>, <span class="cm-variable">shadow</span><span class="cm-operator">=</span><span class="cm-keyword">True</span>, <span class="cm-variable">startangle</span><span class="cm-operator">=</span><span class="cm-number">140</span>)</span></pre><pre class=" CodeMirror-line " role="presentation"><span role="presentation" style="padding-right: 0.1px;"><span cm-text="">​</span></span></pre><pre class=" CodeMirror-line " role="presentation"><span role="presentation" style="padding-right: 0.1px;"><span class="cm-variable">plt</span>.<span class="cm-property">axis</span>(<span class="cm-string">'equal'</span>)</span></pre><pre class=" CodeMirror-line " role="presentation"><span role="presentation" style="padding-right: 0.1px;"><span class="cm-variable">plt</span>.<span class="cm-property">show</span>()</span></pre></div></div></div></div></div><div style="position: absolute; height: 34px; width: 1px; border-bottom: 0px solid transparent; top: 249px;"></div><div class="CodeMirror-gutters" style="display: none; height: 283px;"></div></div></div></div></div></div><div class="output_wrapper"><div class="out_prompt_overlay prompt" title="click to expand output; double click to hide output"></div><div class="output"><div class="output_area"><div class="run_this_cell"></div><div class="prompt"></div><div class="output_subarea output_png" dir="auto"><img src="data:image/png;base64,iVBORw0KGgoAAAANSUhEUgAAAgMAAAGLCAYAAABa0JF/AAAAOXRFWHRTb2Z0d2FyZQBNYXRwbG90bGliIHZlcnNpb24zLjUuMiwgaHR0cHM6Ly9tYXRwbG90bGliLm9yZy8qNh9FAAAACXBIWXMAAA9hAAAPYQGoP6dpAACTrklEQVR4nOzdd3iUZb7/8fczvab3kB460kVBEBHBimBXsGAv23Xrb92zxXWr55ytums566597a4oqCgWQHonvffeJpn+PL8/otGYTBjITGYmuV/XxSXM3PPMNzGZ+cxdJUVRFARBEARBmLBUoS5AEARBEITQEmFAEARBECY4EQYEQRAEYYITYUAQBEEQJjgRBgRBEARhghNhQBAEQRAmOBEGBEEQBGGCE2FAEARBECY4EQYEQRAEYYITYUAQBEEQJjgRBgRBCJrGxka+8Y1vkJubi16vJyMjgzVr1rB169YhbV988UWWLFkCwPbt28nNzR3rcgVhwtKEugBBEManyspKzjrrLGJiYvjd737H7NmzcbvdbNmyha997WsUFhYOar9z507OOussAD755JOBvwuCEHwiDAiCEBT33HMPkiSxe/duzGbzwO0zZ87klltuGdJ+x44d/PCHPwT6w8DFF188ZrUKwkQniVMLBUEItPb2dhISEnjwwQf50Y9+5LPds88+yz333ANAd3c3ZrMZtVpNT08PRqMRjUbDww8/zPr168eqdEGYkMScAUEQAq60tBRFUZg2bdqI7S699FIOHjzIQw89xIwZMzhy5Aj/+te/SE5O5ujRoxw8eJBLL710jKoWhIlLDBMIghBwn3c4SpI0YjuLxYLFYmH//v2sXbuW7OxsnnnmGS666CKys7PHoFJBEEAMEwiCEAT+DBNUV1czY8YMABwOBxqNBo1Gg9PpRKVSodVquf766/nb3/42lqULwoQkwoAgCEFx4YUXcuTIEYqKigZNIATo7OzEYrFQWVlJU1MTK1eu5ODBg3i9XubOncv27duJi4sjKiqKpKSkEH0FgjBxiDkDgiAExcMPP4zX62XRokW8/PLLlJSUUFBQwJ/+9CcWL16MRqMhPz+fmpoazjjjDKZNm0ZbWxu5ubksWrSI/Px8EQQEYYyIOQOCIARFTk4O+/fv58EHH+S+++6joaGBxMREFixYwCOPPDLQbtu2bZx99tkAfPjhhwN/FwRh7IhhAkEQBEGY4MQwgSAIgiBMcCIMCIIgCMIEJ8KAIAiCIExwIgwIgiAIwgQnwoAgCIIgTHAiDAiCIAjCBCfCgCAIgiBMcCIMCIIgCMIEJ8KAIAiCIExwIgwIgiAIwgQnwoAgCIIgTHDioCJBGOdkWaG300lvpxNbhxNbhwNbpxN7twuvW8brkfF6FWSPjNejIHs/u23g75/9193fTlEUtDo1Wv0XfzQ6NVqDGp1Bg8GkwWDR9v8xf/bHosVo1WGJ1SNJUqi/JYIgfIU4qEgQIlxPu4Oedge9HZ+92Xd+9vfP3vz7ul0ocnj8mqu1KqITjcQkmYhJNhKdZPrs7yZMUbpQlycIE5YIA4IQIRRFoavZTktNDy1VPf3/re7B2ecJdWkBoTOo+8NBsomYJCMxySaik0zEppjQGUQnpiAEkwgDghCGFFmho6mPluqegT+ttTZc9vHxxn8yJJVEfLqZ1LwYUvOjSZscgzlaH+qyBGFcEWFAEMJAX7eL2sJ2miq6B9743U5vqMsKW1EJhoFwkJofQ1yqOdQlCUJEE2FAEELA4/JSX9pJzfF2ago6aKu3gfhNPGUGi5aU3GjS8vsDQmKWFbVaLJYSBH+JMCAIY6SjoY6KgweoLU6nvrQLr1sOdUnjlkanIn1qLHnzksiZk4DBrA11SYIQ1kQYEE6osbGRBx98kE2bNlFXV0dSUhJz587l29/+NitXrgx1eWFLlr3UFR6nbN9uyvftpqOhDoCE3LuwdZhCXN3EoVJLTJoaS978JHLnJmKwiGAgCF8lwoAwosrKSs466yxiYmL4+c9/zuzZs3G73WzZsoVHH32UwsLCIY+RJImKigqys7NPeP1t27axceNGKisrA198CCiKQl3BMY599D6le3bisPUMaZM+8xLa6qeEoDpBpZJImxIzEAzEckZB6CfW6wgjuueee5Akid27d2M2fzFJa+bMmdxyyy0hrCy8dDY1cvyjrRz/+AO6mhpHbFtduhOzSYSBUJBlhdrCDmoLO/jouSJS82PIm59I3rwkzDFihYIwcYkwIPjU3t7O5s2befDBBwcFgc/FxMSMfVFhxNnXS9HOjzn+0fvUFR73+3EqZzuyyYEKQxCrE05EUaC+pJP6kk4+/ncJKTnRTD49malnpqA3ipdGYWIRP/GCT6WlpSiKwrRp00JdStiQZS9Vhw5w7MOtlO3dhcftOulrSCgo6jLwzgxChcIpUaCxvIvG8i52vlrK5NOTmXV2OklZUaGuTBDGhAgDgk+fTyc50V7yF154IR9//PGg22bOnDnocTabbeDvFotl4O9erxen0znotmXLlvH222+PqvZA62lv5cDmNzn+0fv0drSP+nqypxy1JMJAOPK4ZAq2N1CwvYHETCuzlqcz+fRktDp1qEsThKARYUDwafLkyUiSREFBAevWrfPZ7vHHH8dutw963FtvvUV6evqw7Q8ePDjw9127dvGDH/yAbdu2DdxmNBpHW3rAtFRXsvc/r1C4/SNkb+B2//P21qK1nLidEFot1T188FQhFR8Vs1DaRdwN16P18XMtCJFMrCYQRnThhRdy5MgRioqKhswb6OzsHHbewHhYTVB99BB7/vMKlQf3Be05dPHXoZJTg3Z9IXDOdG/FtP0VUKuxrlpF3E03Ypo3L9RlCULAiJ4BYUQPP/wwS5YsYdGiRfziF79g9uzZeDwe3n33XR555BEKCgpCXWLAyLKXop2fsPc/r9BcURb851NKUSHCQLiLjtNifPXV/n94vfRs3kzP5s0Y58whbuNNWFevRlKLIQQhsokwIIwoJyeH/fv38+CDD3LffffR0NBAYmIiCxYs4JFHHgl1eQHhdjg48v4W9r31Ot0tzWP2vLKzCnTLxuz5hFOT7S1CGqYD1X7oEHXfuRftpEkkfuPrRK1Zg6QSWyALkUkMEwgTlrOvj71vvsLBzW/i6LWd+AGBJknoY+9GUsQSw3Cl1as4a8ePUfWceNKofsoUEr/zbawrVoxBZYIQWCIMCBOO1+Ph0Ltv8enLz2Pv6Q5pLdr4Vajl00Jag+CbxXGERZ/+7aQeY1ywgKT77sU0f36QqhKEwBNhQJhQinZ+wifP/5POxoZQlwKAOjofrerSUJchDEth1qHfkdRRfUqPtqxYQeJ3vo1hithtUgh/IgwIE0Jd4XE+fPoJGkqKQl3KYFojBsvdoa5CGIZeauKsD34xuouoVESvWUPiN78hliQKYU2EAWFca6+v5eNnn6R0z6ehLsUnXfw1qGTxRhFucuv/TXbxhwG5lqTTEXPtNSTcfTea2NiAXFMQAkmEAWFc6uvqZMeLz3Lk/S3IXm+oyxmRJm4BGmV5qMsQvkSl6uPsD36ASpEDe12zmbibbyb+5o2ohjnvQxBCRYQBYVyRvV72vvkqu159AdeXdkUMZ5I5Eb3uhlCXIXxJUs8nzNr3XNCur0lOJuVnPxUrD4SwIcKAMG40lBTx7qN/pqW6MtSlnBxJQh9zJxKmUFciAEheFn/6E4z2rqA/VdQll5D84/8nhg6EkBM7ZAgRz2XvY+v//Y3nfvLdyAsCAIqCrCoNdRXCZyzusjEJAgDdb75J+SVr6A6zg7mEiUeEASGile3bxf99524ObnmTSO7kkj0VoS5B+Exu6eYxfT5vWxt137mX2m98A09Ly5g+90RRWVmJJEmDDkkTBhNhQIhIdlsPm/70e1773QP0drSFupxR8/bVoQR4sppw8rRSKwmNoVl+2vPue5RdsobOV14NyfMPZ+PGjSOeWBoML7/8MmeccQbR0dFYrVZmzpzJfffdN6prZmRk0NDQwKxZs/x+zJNPPjnsQWzjlQgDQsQp3buLf3znLgq3B2bZV1hwO1DU9aGuYsJLb/w4pM8vd3XR8P/+H9W33Y67fuL9PLz33ntce+21XHnllezevZt9+/bx4IMP4nK5TvmaLpcLtVpNSkoKGo04jscXEQaEiGG39fDmH3/H679/AHv32IzpjiVZEfMGQklSOcgufD/UZQDQ+8knlF+yhvZnngmb4a/NmzezdOlSYmJiiI+P55JLLqGs7IvTPRcvXswPf/jDQY9paWlBq9XywQcfAPD000+zcOFCrFYrKSkprF+/nubmLw4He/PNN1m6dCnf+973mDp1KlOmTGHdunX8+c9/HnTdN954g4ULF2IwGEhISODyyy8fuC87O5tf/vKXbNy4kejoaG6//fYhwwTbtm1DkiQ2bdrEnDlzMBgMnHHGGRw5cmTg/ptvvpmuri4kSUKSJH72s58F8tsZdkQYECJCbeEx/vGduyna8VGoSwkar+PUtr0VAiO+51DA9xUYDbmvj6YHfkn1DTfiqqwMdTn09vZy7733smfPHrZu3YpKpeKyyy5Dlvu/Zxs2bOC5554bFF5eeOEFkpOTWb68fx8Nl8vFAw88wKFDh3jttdeoqKhg48aNA+1TUlI4duwYR48e9VnHpk2buPzyy7n44os5cOAAW7duZeHChYPa/P73v2fWrFns27ePn/zkJz6v9b3vfY+HHnqIPXv2kJSUxKWXXorb7WbJkiX84Q9/ICoqioaGBhoaGvjud797Kt+2iCGWFgphb+crL7Dj389AGL1QB4eEPvYOJMRmNGNP5oy9P8VsO/HphKEgmUykPfhLoi68cEyfd+PGjXR2dvLaa68Nua+lpYWkpCSOHDnCrFmzaGlpIS0tjffff59ly/qP5l6yZAlLly7ld7/73bDX37NnD4sWLaKnpweLxUJvby9XX301b731FllZWZx55pmsXr2aDRs2oNfrB66Zm5vL008/Pew1s7OzmTdvHq+++sXci8rKSnJycjhw4ABz585l27ZtrFixgueff55rrrkGgPb2diZNmsSTTz7J1VdfzZNPPsm3v/1tOjs7R/EdjByiZ0AIW45eG8/9/EfseOGpCRAEAMQSw1AxyxVhGwQAlL4+6r5zL02/+S1KiHbULCsrY/369eTm5hIVFUVOTg4A1dX9PVqJiYmsWrWKZ555BoCKigp27tzJhg0bBq5x4MAB1q5dS1ZWFlarlXPOOWfQNcxmM5s2baK0tJT7778fi8XCfffdx6JFi+jr6wPg4MGDrFy5csRav9pT4MvixYsH/h4XF8fUqVMpKCjw67HjjQgDQliqKTjGY9+8g/rjR0JdypjyiiWGIZFd9k6oS/BL+5NPUn3LrXjaxz64rFmzhra2Nh577DF27drFrl27AAZN7tuwYQMvvfQSbrebZ599lpkzZzJnzhygf5hh9erVWCwWnn76afbs2TPw6f2rEwTz8vK47bbbePzxx9m/fz/Hjx/nhRdeAMBoNJ6wVvMotnqWJOmUHxvJRBgQws7HLz7Hv3/+I1y27lCXMubkXrHEcKxppXaS63yPUYebvl27qLjiSuyHD4/Zc7a1tVFQUMD999/PypUrmT59Oh0dHUParVu3DofDwebNm3n22We5/vrrB+4rLCyktbWV3/zmNyxbtoxp06YNmjzoS3Z2NiaTid7eXgBmz57N1q1bA/J1ffrpFweYdXR0UFxczLRp0wDQ6XR4w/xck0AS6yyEsOG09/HSbx+gsWBi9QYM4nGiqOuQ5IxQVzJhpDTvCHUJJ83T0EDV9TeQfP+Pib366qA/X2xsLPHx8Tz66KOkpqZSXV09ZOUA9H8iX7t2LT/5yU8oKChg/fr1A/dlZmai0+n485//zF133cXRo0d54IEHBj3+Zz/7GX19fVx00UVkZWXR2dnJn/70J9xuN6tWrQLgpz/9KStXriQvL49rr70Wj8fD22+/zfe///2T/rp+8YtfEB8fT3JyMj/+8Y9JSEgY2FchOzsbm83G1q1bmTNnDiaTCZNp/G4ZLnoGhLDQUFbCo9+8fWIHgc+IJYZjR1I5ySl8N9RlnBLF5aLxv35Kw09+gjyKdfgjkWUZjUaDSqXi+eefZ9++fcyaNYvvfOc7/P73vx/2MRs2bODQoUMsW7aMzMzMgdsTExN58sknefHFF5kxYwa/+c1veOihhwY9dvny5ZSXl3PjjTcybdo0LrzwQhobG3nnnXeYOnUqAOeccw4vvvgib7zxBnPnzuXcc88dGLI4Wb/5zW/41re+xYIFC2hoaOCNN95Ap9MB/RMV77rrLq655hoSExN9ToIcL8RqAiHk9mx+k4/++RjIE6dLbiSSKR69/qZQlzEhxNn3MnfXP0JdxqgZTjuNSX/6I9rU1IBe94ILLiA/P5+//OUvAb1uqH2+mqCjo2NC7TI4EtEzIITUpsf+yof/+JsIAl+i9LWhSLZQlzEByOQXbAp1EQHhOHKEiiuupPdLY+Cj0dHRwaZNm9i2bRvnnXdeQK4phDcRBoSQcDmd/PNnP6LwvbeZmHN3RyZLJaEuYdwzyTVYuk88gS1SeNvbqb71NtqeeGLU17rlllu48847ue+++1i7dm0AqhPCnRgmEMZcS1MDzz/wX7haGkJdSthSRWWjU19+4obCKZtW/gRp1ftDXUZQRF95Bak//zmSWh3qUoQIIXoGhDFVcOgA//zhd0QQOAG5r14sMQwijapr3AYBgK6XXqb2W99CdjpDXYoQIUQYEMbMrg+28ubvH0DqE+PhJ+RxoahrQl3FuJXcGpix9XBme28rNbfdjtcmft+EExNhQAg6RVF456UX+OjRP6FyB2cJ1HjklcUSw2CQJBe5x7eEuowx0bdnD1U33IintTXUpQhhToQBIag8Hg8vP/oIh156GpVYMXBSZIfoGQiGaPtxtJ6J033uLCigcv0GXDXi50nwTYQBIWicDgdP//dvqXz/LVRinupJU+ztKFJPqMsYZxTyi94KdRFjzl1dTdWG63GWi7MvhOGJMCAERU93N//83a9o3b9TLB0cBbHEMLAMSh1RHXWhLiMkPM3NVN14I47i4lCXIoQhEQaEgGttaeHJ3z1I97H9IgiMktctPskFUmbN+6EuIaS8ra1U33gTjuPHQ12KEGZEGBACqqaqin/+/tc4S46JIBAAcm+DWGIYIGpVD5PKT20P+/HE29lJ1c23jOmph0L4E2FACJiSwgKe/uNDKFXFIggEiteFoq4KdRXjQlL77lCXEDbkri6qb7mVvv3jd68F4eSIMCAERElhAS888he0dRUiCASYVykLdQmRT3KTd3xzqKsIK7LNRs3td+AoKAh1KUIYEGFAGLWykmJefPRh9I3VIggEgWwXS8JGK9pZhM7VF+oywo7c20vNHXfirpuYkyqFL4gwIIxKZVkZL/z9YbR1lagQyweDQbF3oEjdoS4jginkTcDlhP7ytLRQffsdeDs7Q12KEEIiDAinrKqiguf/9he0NWUiCASZVywxPGV6GolpE/MuRuIqL6fmnq+JswwmMBEGhFNSW13Fc39/GHVNqQgCY0AWSwxP2aTabaEuISLY9++n/rvfRZHF6pWJSIQB4aTV19bw7OOPIlUWiZ0Fx0j/EkOxnfPJUql6ySj9JNRlRIyed9+j6ZcPhroMIQREGBBOSkNdHc/+3xN4So6hEevfx47XLZYYnoLEzr3iRe4kdTz7LK2PPhbqMoQxJn5PBL81Nzby7D/+D3vREfSyJ9TlTDheWSwxPCmSh7zjYuLgqWj53/+l6403Ql2GMIZEGBD80t7WynNP/oPuoiOYJtCJb+FEnGJ4cqyuUgwOW6jLiEyKQv2P76d3x45QVyKMEREGhBPq7e3lpWeeoay0mJiMLFCpQ13ShKTYO1GkzlCXETFyS94OdQmRze2m9hvfFJsSTRCaUBcghDe3283r/36Bo4cOkp2Xh06vRzaacBUfBZfoIRhrXqkEjXL6KT++tP4w7x16gerWErr72rh99c+Zk7N04H5FUXhr37/YXrAJu7OHrKTpXLP0m6TGZY943Q8Ov8zHx9+gw9aM2RDNvNyzuXTRbWg1OgD2lLzH67sex+VxsHjqhVy2+M6Bx7b1NPKXTd/n+5c/glFnPuWv7ct0UjPxzaUBudZE9vmmRNnPP4c2PT3U5QhBJHoGBJ9kWeadN//Drh3bmZSZiV6vB0BlsqCfOR/JEhXiCice2V05qsc7PXbS4/O4+qxvDHv/e4ee54PDL3H1Wd/ge5c/TJQplj9v+j6OEXbv21PyHq/vfowLF9zI/df8gw3Lv8u+sm28sftxAGz2Lp798L+57Mw7+dpFv2FX8Tscrfp04PEvfPwH1i66PWBBACC9/qOAXWui87S0UPvNb6G4XKEuRQgiEQYEn3Z89CHvv7OFpOQkzBbLoPskrQ7dtDmo4pNCVN3ENNolhjMzz2DNoluYm7tsyH2KovDBkVc4f/565uYuIy0uhxtW/AC3x8He0q0+r1nRdJzc5FmcPnkl8dYUpmcsZGH+CqpbigBo7WnAoDOzIH8FWUnTmJI2l8aO/pURe0q2olZph63nVKlUdrKKPwzY9QRwHDtG0+8fCnUZQhCJMDCByLLC0bouv9oqisL2bR/gcjqIjokdto2kUqHLm45mUnYAqxRG5PWgqCuDcum2nga6+9qZNmnhwG1atY781DmUNx3z+bjclFnUtBZT2VwIQGt3PceqdzMz80wAkqLTcXuc1LSW0OvopqqliLT4XHod3Wza+yRXLx2+l+JUxXcfQCWWvQZcx1NP0bPVdygUIpuYMzCBPPROEY99XM4v1s7iukWZI7aVJIkL167j9X//m7LiEnLyclFrhv9x0aRlIRlMuMsLQexeFnReuQwVeQG/bndfBwBW4+DwZzXG0m5r8vm4hfnnYnN08b+vfwsFBVn2smzGpayedx0AJr2VG1b8gH998FvcHieLpqxiRsbpPL3t9yyftY627kb+vvkneGUPFy28kXm5y0/9i5C85B3fdOqPF0ZU//9+TO6r09GmpYW6FCHARBiYIN44VM/D2/rXqf/olSOUNNn48cXTUat8nzM4e958omNiefnZZygtKSY7Jxe9wTBsW3VcIpLe0D+x0C3GFoNJtteAMXjXl4acPakMc9sXiusPsmX/M1yz9JtkJU2ntbuel3b8lah9cVy44AYA5uQsHTRRsbj+IPXtFVx91jf42fM3cvPKHxNliuP3r36N/NTZQwKJvyyeckx9naf0WOHE5K4u6u69j6ynn0Ly8eFAiEximGACOFzbyfdfOjTotv/bXsFt/9xDj8M94mOzcnLYeNddzJ47n8rycnq6fZ+epzJb+ycWmiw+2wijpzi6UKSOgF83ytT/Btxtbx90e4+9E6spxufjNu35B4smr2LJ9ItJj89lTs5S1px+C+8cfA55mO56t9fFvz/+I9ct+zYt3XXIspfJaXNIjskgKXoSlU2nvpQtu3TLKT9W8I/94EFa/vjHUJchBJgIA+OULMscLymnrL6VO/61D4d76IvyB0UtXPHIDmraRz7nPS4+gQ233sqyc1fS1NhIa0uzz7aSTo9u+lxUsQmj/hoE34JximG8NZUoUxyFtfsGbvN43ZQ2HCI3eabPx7k8TiRpcM+BSqUGRen/8xWb9z3NjMxFZCROQVZk5C9NiPTKnmEDhD+0UitJDWJN/Fhoe/wJbB+LMx/GExEGxqltO/fy0N//yQ2PbKOx2+GzXXGTjXV/3c7eynafbQCMRhOXX3sdl1x2OX29fdRWV6H4OKRIUqvR5s9AnTbyvATh1MmuylN6nNNtp7a1lNrW/jX4bT2N1LaW0t7ThCRJrDjtct458CyHKj6hvr2Cp7b9Dq3GwML8lQPX+Nf7v+H1XY8P/HtW1mI+Of4f9pa+T2t3AwW1e3lzzz84LWtJfyj4kob2SvaXbePihRsBSI7JRJIkdhS+xdGqT2nqrCYraeopfW1pjdtP6XHCKVAU6n/wA9zNvj8YCJFFUny9ogsR62hRKX998nlKvImUqib59RidRsVvLj+Ny+eP3F5RFA7s3cN/Xn6Jro4OsvPyUKt970jobW3CXVE07CdEYRRUGvRR9yBJJzduW1x/kD/9574ht58xZTU3rPjBlzYdepM+Zw/ZSdO5euk3SYvLGWj7hzfuJd6azA0rfgCAV/ayZf8z7C55l67eVizGGGZlnsmaRbdi0n8xZKQoCv/7+rdYNe86TstaPHD7kaqd/PuTP+Hxullz+s0smX7xyX43kFQOln3wfTTiZMcxZVq0iMwn/4GkEp8rI50IA+NMXWMzf3ziGYpbHRzSn4YywsSv4dxzTh7fO3/qkG7fr6ooLeXl556hpqqS7Nz+nQl9kW3duEqOgnvk+QnCydEmrEHtnRzqMsJCQt9uZu/+Z6jLmJASvvY1Er/x9VCXIYySiHPjiK23j3+++AYV9a2UGmecdBAAeHhbGXc/vR+7a+RPWDn5+dx0591MP202FWVl9Np8HwijskShnzEfyRi4HeYEkL3loS4hTMhiOWEItT7yCL2f7gp1GcIoiTAwTsiyzMtvvcehgmIa4+dgk0992c/mY41c+bcdNHb5nmsAkJiUxA233cGSs5fTUFdHe1ubz7aS3oBuxjxUMXGnXJcwmGwXpxgCmOUqzLbWUJcxccky9d/7Hp6OwK9wEcaOCAPjxI69h9i6fTeOhKnUuEb/CfxYfTeX/uUTDtd2jtjObDZzxfoNXHDpWnq6uqivrR15YuHkWahT/JvHIIxMcXSjSL4D2ESRVf5OqEuY8DwtLTT/93+HugxhFEQYGAeq6xp4cdM7OLRRHHUlB+y6zT1Orv77TjYdbhixnVarZfXFl3DV9TegVqupKCtF9rEToSRJaDPz0ORMgRPMSxBOzMvEPplPo+ogpfZwqMsQgK6XX6Fv/4FQlyGcIhEGIlyf3cEzr75FQ2sXRbopeE9hnsBIHG6Zrz+3nz9tHXlduyRJnL54CTfefgdJySmUFhXhHuGUM01iKtqps0EtdjEbjdGeYhjpUpt3hLoE4XOKQuPPfobi8YS6EuEUiNUEEUxRFJ57/W3eeOdDOpPmUugI7pHCl85J43dXzsag9b2UEKCpoYGXnn2aouPHycjKwmT2PWwhO+y4i4+gOOyBLveUOdwethwt4khdEzank/SYKNbOm0lmXMwJH1vR2s4jH3xKSrSVe1d/cRJfcWMLr+w/hs3pZGZaMlctnI1G3Z/F7S43f3xvO3cuP4NY80nuM6xSo4++GwndyT1uHJAkJ8s++gEar1ilEk6SfvAD4m/eGOoyhJMkegYi2O6DR3nno53oEzMocliD/nxvHKrnusc+paXHOWK75NRUbrrjLk5fsoTamho62n1vaKQyGNHNmI8q6tT2og+GF/cepriplevOmMN3V5/NlOREHv1wF119I0+otLvcPL/rEPlJ8YNulxWFZ3YdZHFeJl8/dwk17Z3sKq8euH/T4UIW52WefBAAkL3IqoqTf9w4EGs/JoJAGGr9859xNzaGugzhJIkwEKHqm1r493+2gKTmkHfSKS0jPBUHqjtZ99ftFDT4PqMAwGK1cs0NN7Hqoovp7Oigob7O98RCjQbt1NNQJ4X+JDS3x8uR2kYunj2NvMR4Eqxmzp81hTiziR1lVSM+9uV9R5iXmUZW/OBg0+t00et0sSQ/i5RoKzPSkmnq7l+KWdHaTm1HF8sm5wx3Sb/I3okYBmTyCsRywnAk9/XR9Ktfh7oM4SSJMBCBnE4Xz776FnWNLXTGTKXTox3T56/rtHPlIzt477jvY20BdDodF6+7jCuv2wCKRGV5+cgTC7Mno8nKD0bJfvMqCrKioP3KropatYqKVt89HLsrami19bFq5tBNgCx6HVEGPcWNrbg9Xipa20mNseLxyryy7yhXLJiFaoTTI09kIi4xNCq1WLvEp89w1fPOO9g++ijUZQgnQYSBCLR1+y72HTlO3KQcDvcGf3hgOL0uL3c8tZe/f1g2YjtJkjhz2TKuv/U24uITKCsuxj3CToSa5HS0U0+DEbY4DiaDVkNWfAzvHi+hy+5AlhX2VdVS3dZJj2P44ZGWnl7eOlzIhjPnoh5mW1ZJkrhh8XzePV7C77Z8SHpMNItyMni/sIz8pAS0ajV/2bqD3769jU9KKk+6ZsXZg6yaWOvsMyvfC3UJwgk0PvBLZMfIQ2tC+BBhIMJU1dbz5taPiYmOZo89GXmMhgeGIyvw67cL+f5Lh3B7Rz5pbtrMmWy86y5yJ0+hvKQEu933SYnq6Dh0M+Yh6Q2BLtkv150xF4AH/rOVH778Np+UVDIvM23YLZplWeGZTw+weuYUEq2+j27OSYzj26uW8uOLz+XyBbNo7+1jf1UtF8yawnO7DnJmXib3rFjMu8dLqO8ceQhmODKBP8UwXGlUXaRX7TtxQyGk3DU1tP7976EuQ/CTWNcVQdxuDy+99R4dnV140+bQ0hMeM8j/vbeWyrY+/n79AmLNvmtKS5/ETXfcyWv/foH9u3eRnJpKdEzMsG1VRjO6GfNxlR5D6ekKUuXDS7CYuWfFYpweD063hyijgad27idumAl+To+H2o4u6ju7ee3AMaB/lYcCfP/Ft7j97EVMTh58nLOiKLy49whr5sxAQaGus5vZk1LRadTkJcZR3tJGWszJrQyRXVWgWXzihuNAUqvY+jZStD/+BNGXXoo+59TnxAhjQ4SBCPLRrn3sP1JAQno2b/WEZnjAl90V7ax7eDtP3LSQ/CTftUXHxHDdTRuJiY3lo/e34rDbSU5NHbatpNWimzobT2UJ3taxHx/WazToNRr6XG6KGlu4ZPb0oW20Gu47/+xBt+0oraS0uY0blywYNkDsrqjBrNMxMz2ZPlf/kIlXlgE1XllBPoXFvnJvE0q0a9wvMZQkN7kFW0JdhuAnxe2m8Re/IOsf/wh1KcIJiGGCCFHf1MIb727DYjZxwJmEVwm//3VVbX1c9vAOPipuGbGdTq9nzRVXsu7qa/B4PFRVVPheaaBSoc2diiYjNxglD6uosYXChmbabH0UN7bwt22fkmi1cHpO/zbKbx0u5LldBwFQSRKp0dZBfyx6PVq1mtRoK3rN4Lzd43Dy3vFS1s2bCYBJpyUpysLHJRVUtnZQ2txKdvwpLLOUvciq8X9wUbSjAJ1bjENHkr6dn9L1plj5Ee7C7x1FGMLr9fLK21tpamlHic2g1hmasXR/9Dg83PzkHv61s3LEdiqVimUrzmX9zbcQFR1NaXExnhF2LtOkZqCdPBNUwZ9YaHe7eXX/MX63+UOe232I7IRY7jh70cDkwG6Hk46+U9sk6fUDx1k+NZdo0xf/D689fQ4Hq+v5v0/2sHxqHpnxMad07fF/iqFCbpF4U4lEzQ89hDzCjqRC6IkdCCPAJ7sP8PenXyQ1JZl3+7LoGOOlhKfqhjOz+OmaGQM77flSW13Fi888TUVpKVk5ORiMvjffkftsuIqPgmvkjY8mIklvQW+6I9RlBI2BOpZs+1WoyxBOUfL/+xFxN94Y6jIEH0TPQJhraevgtS3vo9PrqJUSIiYIADz1aRU3P7mHLvvIu8RNyszi5jvvZu6ChVRVVNDd5XvCoMpkQT9zPpI5vOZMhAPFaUOWRh6iiWQZ1e+f8mP39vVxT20Ny0tLmVFUyHs9PYPuf7enh9tralhSWsKMokIK/FgS925PD1dVVnJGSTELiou4rLKCN77ys/uf7i7OLSvlzJJift/cPOi+OreLC8vLsHm9p/x1RZLWRx9DtofPtuPCYCIMhDFFUfjPu9uoaWgiNTWN/WE2adAfH5e0cvnD26ls7R2xXUxcHOtvvoXl562ipamJlmbfGxpJWh266XNRxSUFutyIN16XGKpVNjLKPz3lx/fJMlP1Bu5PHv5UT7ssM89o5N6ERL+vGa1WcWd8PM9mZvFqdg6XR0fz48YGPunt312yw+Phvxob+V5iEo9NyuD17i4+tNkGHv/zpibuTUzCEqI9Ncaat7WV9qefDnUZgg8iDISxwtIKtu89xKTUZA71RuOQI/NFo6yll3UPb+fT8rYR2xmMRtZdfQ1rrrgSp91JdWXliBMLdfnT0aRnBaPkiCW7Rt4yOVIldewZ1ePPtlj4VmIiq6zDB+pLo6O5JyGBxWaT39dcZDJzntVKnl5Ppk7HDbFxTNHr2f/Zp98atxuLSsWFUVGcZjSyyGSi9LPhrTe7u9BKks96xqv2x5/A+6VAJIQPEQbClMfjYdPWj3E4nWjMsRzv9X3yXyTo7HNzwxO7eGFP9Yjt1Go156xazbU3bcRstlBeUoJ3pImF6dlo86bDMDv/TURybxMK42yiluQh79hboa5iRIqisLO3l0qXi4XG/kCRpdPhUBSOOxx0er0cdTiYqtfT6fXy59ZW7k8avpdiPPN2ddH+5D9DXYYwDLHPQJjac+gYh44XkTUpjZ3dUXhDuNNgoLi9Cj94+QilzTZ+dOF0n/vxS5LEnAULiImN5aXnnqG0pJjsnFz0huFXUajjk5D0Blwlx8A9zt4IT5YiI6vKUMtD90SIVFGuInQu3ztWhlKP18s5ZaW4FQWVJPGT5GSWfHZkd7Raza9TUvlRQwMORebSqCiWmi38uKGB62NjqXO7+VpdLR5F4WsJCZxvDe4R5OGidfsH6G6/nmh9dKhLEb5EfJwKQ719dja9/zFqjYZuVRQVjlM42jaMPfZxBXc8tZdep+9P/ABZublsvPMuZs2ZS2V5ObavTPr6MpUlqn9iocn3lsATxfhaYqiQWxS+vQJmlYpXsnN4ISubbyUk8LvmZnb3fTE/5jyrlddzctiSm8fXExLZ3ddLicvJldEx3Fdfz4+Skvljejo/aWykbYQesPFAmZrLW3fO5uoLinim4JlQlyN8hQgDYejDT/dSVllDVnoqeyNw0qA/3ito5opHdlDXOfLs4viERK6/9TaWnrOCxvp62lp8z5aXdPr+iYWxCT7bTARyX22oSwgYPU3EtVaGugyfVJJElk7HdIOBm+PiWW218ljb8KdbumSZXzQ18bPkFKpdLrwonG4ykaPTk63TcdgxPmfaK1Nz2XTXHK65vJon444D8EzBM/S6R55ULIwtEQbCTHNbO1s+3EF0lJU22USjSx/qkoKmsLGHtX/Zzr6qjhHbmUxmLr9uPRetvQybzUZddbXviYVqNdr8GahTM4JRckRQXL3I0sjHS0eK9LoPQ13CSVEAlzL8oV2PtLWxzGxmhsGAF/B86WfYrSh4x9mOL21xVv5+vpVrLq/mn7HHBt3X7ermucLnQlSZMBwRBsLMO9t20tTSRlpyIgds47/Lu9Xm5LrHPuX1g3UjttNoNJx30UVcc+NNaPV6KkpL8fpYny1JEtqMXLS5U2GYkwYnAlkqDXUJo6ZS9ZJZ8lFArtUryxQ4HAP7B9S53RQ4HNR/dpx2p9dLgcNBqbN/zkmly0WBw0HLl7ruf9hQz/+0fLFXwKNtbezo7aXG5aLc6eTJ9nbe6OpiTdTQsfASp5O3e7r5xmdLF3N1OlSSxMudnXxos1HhcnGajzkxkaY9MZr/W5fA3Xfa2Trfd2/HU8efwuWd4HN8woiYQBhGSiur+Wj3PlKSEmjz6KkL422HA8nlkfnW8wcpbbZx76opwx4VDP1v8gsWnUFMbCwvP/cspcVF5OTlo9MNfziPOiEFSW/sn1joGXnjo/FGdlaB9qxQlzEqCV37A/Zp5ZjDzsaamoF///azN/V1UVH8KjWND2w9/Ljxi8Ow7muoB+Ce+Hi+/tkbeIPbPageuyzzi6ZGmjwe9JJErk7Pb1PTuDBq8ERARVH4WWMjP0xKxvTZqheDSsWvUlJ5oKkRl6Jwf1IyydrI2VBsOO2JMbyyVMM70zr9a+9oZ1P5Ji6bfFlwCxP8IrYjDhOKovDXf77A9j0HmTEll3fb46meIGHgyy46LYX/vmouRt3Ieyq0NDXx8rPPcPzoESZlZmK2+O5FkZ123MVHUezhOSM9KCQV+pi7kYjQYSbJy5KdP8bg8D1pVAgPbUkxvHKWhnf9DAFfNjV2Ki9d+lLgixJOmhgmCBPF5VUcOFrIpNQk2j3aCRkEAN460sjVf99JU/fI28EmJidzw+13cObSpdTX1tLe5ntDI5XeiG7GPFTRcYEuN3wpMrIqcocKrO5SEQTCXGtyDI9ensDdt9pOKQgAFHUUsbthd2ALE06JCANhQFEUPtixG7vDQXSUlYPjdAWBv47UdbH2L9s5Wuf7jAIAs8XCVdffyPlrLqW7s5P62toRJhZq0E6ZhTo5PRglhyXZUxHqEk5ZTunboS5B8KElJZa/XRHPPbfYeG9q56iv99Txp0ZflDBqIgyEgfLqWvYdKSA1OZEOt4ZKx8TsFfiyxm4HV/1tJ28faRixnVar5YI1l3LlhutRqdRUlpchy8PP5pYkCW1WPprsyRNiYqHXHplLDHVSCwmN4/OMhUjWkhLLI1fG87Wbe3h/yshB/WR8VPcR1d0j70wqBJ8IAyGmKAofbN+DrbePmCgrB20WlHGw22Ag2N1e7nl2P395f+Q3BkmSOOOspdxw2+0kJCZTWlSE2+17wqAmKQ3t1NNAPc7nz7r6kFWNJ24XZtIaPg51CcKXtKTE8vBV/SHgg8mBCwGfkxVZbEIUBkQYCLGq2gb2HDpKSlIifbKacvv42m1wtBQFHnqnmO+8cBCnZ+SjXqdMn87GO+9iyvTplJeU0Nfne8KgOioW3Yx5SPrx/f2Wlcj6hK1S2cku+iDUZQhAc2osf/0sBGzLD3wI+LLXSl8TmxCFmAgDIbZt5166enqJi4misNcsegV8ePVAHesf20WrzTliu5S0NG68/U5OX7KE2uoqOjt8b2ikMprQzZyHKiomwNWGD9kZWacYxncfROVj0x5hbDSlxfHnq+P5+sYePgxyCPhcn6ePLZVbxuS5hOGJMBBCtQ1NfHrgMMlJ8ShIFPX5f3zqRLSvqoO1f9lOUePIs8ytUVFcc8NNnHfhxXS0tdFYX+97YqFGi3bqbNSJqcEoOeTkvlYURl6ZET685BVsCnURE1Zjehx/vCaOb9zUzcd5YxMCvuzVklfH/DmFL4gwEEIffrqXjq5uEmJjqHIY6JNHXlsvQF2nnSse2cH7hSNvt6vT6bh43WVcft16ZEWhqqJi5ImFOVPQZOYFo+TQiqAlhmZvBabekbemFgKvIT2OP1wbxzdv7GZ7bnfI6jjYcpCKrshdARPpRBgIkabWNrbvOUhyQhySJFHQaw51SRHD5vRw2z/38vjHI5/Op1KpWHL2cq6/5VZi4+IoKy7GM9LEwpRJaKfMAvX4CmWyNzJeYHPK3gl1CRNKw6Q4/ue6WL51Yzc7ckIXAr7s9dLXQ13ChCXCQIjsO1xAW2cXCXGxdLo11I/jA4mCQVbgl5sK+NErh3F7Rx5jnj7rNDbeeRe5kydTVlKCw+57v3R1TDy66fOQ9ONneae3N/yXGGqlNpLqj524oTBq9Rnx/M/6OL51QzefZofXxk7/KfsPXnnkicJCcIgwEAJOp4uPd+8nymJGpVJRIOYKnLLndtdw4xO76ewb+cCTtEkZ3Hj7ncxftIiqykq6Ojt9tlWZzP0rDSxRPttEFLcdWaoPdRUjSm3eHuoSxr26jHgeWh/Ht6/v4tOs8OgJ+KpmezPb68XPQiiIMBAChwtLqKlvJCUpAY8sUSLCwKjsLG9j3V+3U9ZiG7FdTGws1910MytWraa1pYXmRt9r8CWtDt20OajikwNdbkjIhO+8AUnlJLtwa6jLGLfqMuP53YZYvnN9F7vDNAR82Wulr4W6hAlJhIExpigKO/YeBEVBr9NRZjfiUsT/htGqbOvjsr9u55OS1hHb6Q0G1l51NWuvvBq3201VRYXvlQYqFbq8aWgm5QSj5DHlDeMlhnG2w2i8nhM3FE5KTVYCv7s+lu9s6GJvZngNB4zkw5oPxZ4DISDehcZYdV0Dx4rKSEnqPxa1UPQKBEy3w8PGf+zmqU9HfuNTqVQsP+88rtt4M1FRUZQWFePx+H4z0qRlos2fCarI/XVR+lpR8D1XInRk8greDHUR40pNVgK/uT6G+9Z3sjcjckLA51yyi20120JdxoQTua9uEWrv4eN023qJjrLQ7VHT4taFuqRxxSMr/OS1o/zsjWN45ZFP5z5t7jxuvOMusnJzKCsuxuHwvR5fHZeAbvpc0EXoRE9FCcslhia5GkvPyL05wokpQHV2Ar++oT8E7M8Yecgs3L1X9V6oS5hwRBgYQ7bePrbvOUhsTBSSJImth4PoyR2V3PLkHnocvpcSAmRmZ7PxzruYPX8BVeXl9HT7HlNVma3oZ8xDMkfmqZLheIphVsW7oS4hoilAVU4Cv7ophu9e18mBSZEdAj73Sd0n9Ll9bycuBJ4IA2Po4LEiGltaSU6IAxBhIMg+LG7h8od3UN028otKbFw8G265hbNXnkdTYyOtzc0+20o6Pbrpc1DFJQa63KDz9oXXEkONqpPUmoOhLiMiKUBlTgIP3hTN967t5FDa+AgBn3N4HXxS90moy5hQRBgYI7Is88meA2i1WjQaDR1uDe0ebajLGvdKmm2se3g7uyvaR2xnNJq47JprWXP5FdjtdmqqqkaYWKhGmzcddVpWMEoOHrcDWVUX6ioGpLTsDHUJEUeRJCpzE/nlTdF8/9pODqeN34l271aJXqOxJMLAGKmpb6S0skb0CoRAe6+L6x/fxYt7a0Zsp1arWbH6fK69cSNGk4mykhK83uE3QJEkCe2kbLR500GKnF8jWQmPeQOS5CL3uNhx0F+KJFGRl8gvbori+9d0cGQch4DPfVT7EU7vyAeTCYETOa9iEe5YcTm23j6slv5th8sd42eHu0jg8sp876XD/PrtAuQRJhZKksTchQu56fY7Sc/IoLSoCKfT9wuSOj4J3fQ5oI2MiaBeZ3WoSwAgxn4MjXfkjaKE/hBQnp/IzzdG8YOrOziWOv5DwOf6PH3sqNsR6jImDBEGxoDX62X3wSOYTUYkSaLNraFLDBGExN8/LOfOp/fR5xp5XXt2Xh4b77ybmbPnUFlWhq3H9xItlSWqf2KhKfzPl+hfYhjqiVmyOJ3wBBRJoiw/kZ9tjOKHV3VwPGXihIAvE7sRjh0RBsZAZW091XWNJMbHAlAmhghC6t3jTVzxyE7qO0ded5+QmMj1t93OWcvPoaG+nrZW30vgJL0B3fR5qGLiA11uYCkKsjq0QwVGpY6oroaQ1hCuFEmidHIi/3WzlR9d1UHBBA0Bn9tRL3oGxooIA2PgWFEZfXYHZlN/CBDzBUKvoKGbtX/dzoHqkY/MNZvNXLF+AxetXYetp4e6mhrfEwvVarSTZ6JOmRSMkgNGdo982mOwZVa/H9LnD0eKJFEyJYn/utXK/7uyg6LkUPfehIeanhpqekae6yMEhggDQebxeNhz6BgWi2lgiMDm1YS6LAFo6XFy7aOf8sahkQ/x0Wg0rLroYq6+/gY0Wi3lpaUjTyzMzEOTMxUkKRhlj5q3rx5FGfmkx2BRq7pJr9gdkucOR4okUTwliftvtfDjK9opShQh4Kt21otVJ2NBhIEgK6+uo7ahaWCIoM4ZoTvYjVNOj8w3nzvA/75b7PMTP/S/yS88czE33n4HKalplBYX43L5ngCnSUxBN3U2aMIw+LkdKOrQnGKY3LYrJM8bbmRJonhqfwi4/4p2ShLDcavo8CCGCsaGCANBdqy4FLvTidnYPzQgwkB4+uPWEr7x3AEc7pHPUs+fMpWNd97FtJkzqSgppa/X95iuKioG3Yz5SIbwO39CVkrG/kklN7kFm8f+ecOILEkUTUvix7dZuP9yEQL8sbthN1555N9LYfREGAgit9vD7oPHiPpsOaFHgUYRBsLWm4cbuObRT2nu8X1GAUBSSgo33nYHZyxdSm1NDR3tbT7bqgxGdDPmoYqODXS5o+J1jP0Sw2hnITrXyN/b8UpWqSiclsSPbrfwk8vaKUsQIcBfPe4ejrQeCXUZ454IA0FUVlVDQ1MLCXH9bwSNTj1ewnMcWeh3qKaTtX/ZzrH6rhHbWaxWrrr+BlZfdDFdHV001NX5nlio0aCdchrqpLRglHxKlL52FMZyprpCXuHEW04oq1QUTE/ih7eZ+a/L2qmIFyHgVHza8GmoSxj3RBgIovLqOpxOFyZj/wZDtaJXICI0dDm46m872XKsccR2Op2Oi9ZdxhXrNyBJEpVlZcjy8BPzJElCmz0ZTVZ+mEwsVJBVYzdUYKCBmPaJMytcVqk4PiOJH9xu4qfr2qkUIWBUDrUcCnUJ454IA0GiKApHCkvQG74IAGK+QOToc3m56+l9PLKtbMR2kiRx5tKlXH/r7cQnJlJWXIzb7fukRE1yOtopp4E69BMLvWN4imFGzbYxe65QklUqjs1M5vu3m/jZ2naq4ibmsEigHW45POIEX2H0RBgIkvbObqpq64mNjgKg16uiQ+w6GFEUBX67uZD7/n0Il2fkpXhTZ8xg4513kzdlKuUlJdj7fC8RU0fHopsxD0kf2v0m5N6xWWKoUtlILxvfO8nJKhVHZyXzvTtM/PzSNqpFCAioblc3Fd3hdwT3eCLCQJCUV9fS1WMjJsoCiF6BSPby/lo2PP4p7b0j76Wfmp7OTXfcyYIzz6SmqoquDt8bGqmMJnQz56GyRge6XP95nCjq4HfdJ3XsHbcvNLJKxZFZyXz3TiO/WNNGTawIAcFyuOVwqEsY18br72jIlVVWIysKarUaEGEg0u2p7GDtXz+huMn3GQUAUdHRXHfjRlZecCFtra00NTSMMLFQi3bqbNSJKcEo2S+yEuTdCCUPeQVvB/c5QsCrVnP4tP4Q8MCaNmpjxOl6wSbmDQSXCANB4PV6OVxQgtX8xcE1ja7IONVO8K2m3c4VD+/gg6LmEdvp9HouufwKLrv2OrxeL9UVFb4nFqpUaHOmosnIDUbJJ+R1VAX1+lGuEvQOW1CfYyx51WoOzU7mvjsN/PISEQLGkggDwSXCQBDUNjTR3NZObLQV6J8v0Cu2IB4XepwebvvnXv7vk5HHL1UqFUvPWcGGW24lKiaGsuJiPCNNLEzNQDt5FqjUgS55REpfO4oUrDdrhdzit4J07bHlVas5ODuZe+/U8+DFbdRHixAw1so6y+h1T+yDm4JJhIEgKK+uw9Zrx2Lu33muWfQKjCteWeEXbx7n/716BI935Al4M06bzcY77yInL5+y4mIcdt9LzNSx8ehmzAXd2A4pyVJwlhjqpWbiWkJ7KNJoeTVqDsxJ5jt36fnVxW00RI88b0QIHlmROd52PNRljFsiDARBYWkFWq0G6bP15CIMjE/P7qrmpn/spqvP9yd+gEmZWdx0x53MPX0RVZWVdHf53tBIZbKgnzkfyRIV6HJ98rqDM0s7ve7DoFx3LHg1avbPTebbd+r59UVtNEaJEBAOSjtDe/z2eCbCQIA5nE6KyiuJ/mwVAUCzWywpHK+2l7Zx2cPbqWgdufsyJi6O9Rtv5pzzVtHS1ERzU5PPtpJWh27aHFTxSYEud1hyEE4xVKn6yCz5OKDXHAtejYZ985L51l16fnNhG00iBISV0g4RBoJFhIEAq29soavHRpSlPwzICrSJMDCulbf2ctnD29lR1jpiO4PRyNqrrubSq67G5XRSXVnpe6WBSoUubzqaSdlBqPgrPC4UdWDPKkjoOoAqRMcknwqPRsPeeSl88y4dv72gjWarCAHhSPQMBI8IAwFW19iMw+nC+NnOg10eDR5FfJvHu84+Nzf9326e2z3ym6parWb5yvO47qabMVsslBWX4PV4fLbXpGWhzZ8BquD+DHnlkXdaPCmSl7zjkXEOgUerYc/8ZL55t5bfXdBKiwgBYa2sK4A/p8IgYop7gNU0NCLBwHyBVtErMGG4vQo/euUIJU027r94OirV8GcQSJLE7PnziY6N5eVnn6G0pJjsnFz0BsOw7dVxiUh6A67io+AOzpuV7KiG4Z/+pFncZRjtIx/0FGoerYb9sxP4x1ldtJl9nzophJcuZxfNfc0kmcZmCG0iER9ZA0hRFApLKzGbvzi/XoSBief/tldw6z/3YHP6/sQPkJWTw8a77mL23PlUlpfT09Pts63KbO2fWGiy+GwzGoq9A0Xy/fwnI7d0c0CuEwwerZZdC5P5xt1aHlrdSpt55MmfQvgRQwXBIcJAALV3dtPS3oFVhIEJ74OiFi5/eDs17b7PKACIi09gw623suzclTTWN9Da4ntDI0mnRzd9LqrYhECXCwRmiaFWaiWhsSgA1QSWR6vl04UpfP0eDf+9qk2EgAgmJhEGhwgDAdTY0oqtt2/QzoNdHjESM1EVN9lY99ft7K1sH7Gd0Wjismuu5ZLLLqevt4/a6irfEwvVarT5M1CnZQa8Xq+7ctTXSG8MrxUEbp2Wnaen8LV71PzPqlbaTSIERLqq7uDumjlRiTAQQA1NLXi8XrTa/gDglCUc8tjuKCeEl7ZeF+sf38Ur+2tHbKfRaFh5wYVcc+NNGAxGyktK8Hq9w7aVJAntpBy0udNAGn5ewqmQextQlOGf0x+SykF24fsBq2c03DodOxb1h4D/Pa+VDtPIQzZC5KjvrQ91CeOS+NgaQLUNzai+9OIsegUEAJdH5t5/H6K02cb3zp86MLn0qyRJYv7pi4iJjeWV556ltKiInLw8dPrhdyRUJyT3TywsOQaeAHzi9fYvMZTknFN6eHzPoZAvJ3TrdOyeF8eTizvpMo681FOITPU2EQaCQfQMBIiiKJRVVWM2fTFfQIQB4cse3lbG3U/vx+4a+dN3bv5kbrrzbmbMnk1FWRm9Nt9nB6is0f0TC41mn21OxqkvMZTJK3gzIDWcCrdexydnpHDPPSr+eG4rXUbREzBeNfQ2hLqEcUmEgQDp6rHR1tmNxWwcuK1bhAHhKzYfa+TKv+2gsWvkc+8Tk5K44bY7WLzsbBrq6mhv8738TdIb0M2YiyombtT1yY5T23zILFdgto08NyIY3HodH52Zwt13S/xJhIAJwe6x0+HoCHUZ444IAwHS0dmN3eEY2GwIoMsr5gsIQx2r7+bSv3zC4drOEduZzWau3HA956+5lO6uLupra0eYWKhBO3kW6pRJo6pNsXeiSCe/R0B22Tujet6T5dLr+XBxCnfeI/GXFa10G099roMQeQI5b2Djxo1IktQ/F0erJTc3l+9+97v09vZSWVmJJEkcPHhwyOPOOeccvv3tbw/69+fX0ev1TJkyhV/96lc+5/6EGxEGAqStswunw4XhS+O7omdA8KW5x8nVf9/JpsMjd3lqtVrOv2QNV224HrVaTUVZKbI8/Li8JEloM/PQZE8Z1cRC70kuMdRK7STXHT3l5zsZLoOeD5ekcNc98NdzWrEZIuOFVgisBltghwouuOACGhoaKC8v55e//CUPP/ww3/3ud0/6OrfffjsNDQ0UFRXxzW9+k/vvv5+HHnoooLUGiwgDAdLe2QUSgyaHiTkDwkgcbpmvP7efP20d+c1XkiQWLTmLG267ncSkFEqLinC7fO9EqElKRTt1NqhP7edPPsklhinNO07peU6Gy6DngyUp3HU3/HW5CAETXaAnEer1elJSUsjIyGD9+vVs2LCB11577aSvYzKZSElJITs7m69//eusXLnylK4TCiIMBEhr++AxrD6vCrc4k0A4AUWB/3m3mG89fwCHe+Q3uMnTpnPzXXczZfp0yktL6ev1fVKiOioG3cz5SAajzza+nMwSQ0nlJKfw3ZN+Dn85DXrePyuFO+5ReESEAOEzzX2+N+cKBKPRiNs9+hU6gbrOWBDvVgFS39gihgiEU/b6wXque+xTWnqcI7ZLTk3lxtvv5PQlS6itqaaj3fekPZXBiG7GfFRRMSdXjNeNoq70q2ls71E03sBP2nMaDWxdmswd9yj87exW+vSRcwKiEHwdzuBNINy9ezfPPvssK1euHLhtyZIlWCyWQX8+/tj3BluyLLN582a2bNky6DrhTLxjBYDX66WhpXXQ5ME+WeQs4eQcqO5k3V+38/hNC5meGuWznTUqimtuuInYuHi2vfsODoedlNS0YfcvkDQatFNn46kqxdvsf9eqVy5HRd4JWsnkB3g5odNo4OOF0Tx1egd2vThASBheoFcTvPnmm1gsFjweD263m7Vr1/LnP/+Zvr7+7cRfeOEFpk+fPugxGzZsGHKdhx9+mMcffxzXZ8N4N9xwAz/96U8DWmuwiDAQAJ3dNvr67JhMX3TJOkQYEE5BXaedKx/ZwR+vncd5M5J9ttPpdFy87jLi4xPY9NorVJaXk5WTg2qYo44lSUKbPRnJaMJT5d++7rK9Bk4wwmCSa7B0B6a71mHqDwFPL+rArh1fIaC3qJfWt1qxV9nxdHrI/EYmUQv6w57iUWh6pYmewz24ml2oTWosMywkX5WMNta/c006P+2k9m+1WOdZyfpW1he37+ik8aVGFKdC7LJYUq5NGbjP1eKi8qFK8n6Wh9oYeaueOp2dAb3eihUreOSRR9BqtaSlpaHV9n/vKysrAcjIyCA/P3/QY4zGob8gGzZs4Mc//jF6vZ60tDTU6sj53op3rABo7+yiz+HE+KUjaO1iWaFwinpdXu54ai9//3DkDYAkSWLx2Wez4ZbbiItPoKy4eMTxSU1yOtopp4EfL1CKoxNF6hyxTWbleye8zok4TEa2nJ3MnffIPHZWG3bt+BsOkJ0yhkwDqdenDr3PJWOvspN0aRL5P88n8+uZOBudVP3Rv/33Xa0uGl9oxDTFNOh2T4+Hun/UkXpNKln3ZdGxvYOegz0D99f/q57kq5IjMghA4MOA2WwmPz+frKysgSBwKqKjo8nPzycjIyOiggCIMBAQ7Z1duNxu9LovfohEz4AwGrICv367kO+/dAi3d+Q3yOmzZrHxrrvInTyZ8pIS7HbfJyWqY+LQzZiHpDf4bPO5kZYYalRdpFXvP+E1fHGYjGxZnszt93h4YpyGgM9ZZ1tJviKZ6IXRQ+5Tm9TkfC+H6EXR6FP1mPJNpF6fiqPSgavN94oRAEVWqP17LUnrktAl6gbd52pxoTaqiT4jGlOuCfN0M476/o2uOnd2ImmkYeuJFD2unhM3Ek6KeMcKgK4eGxKDlxXaRRgQAuDfe2vZ8PguOnpHfmNIS5/ETXfcxfxFZ1BTWUVXZ6fPtiqjGd2M+UjWkd8MZFelz/uSWz8d8bG+2M1G3j4nmdu+5uGJJW04tcNvojSRyXYZpP6gMJLm15tRW9XELR+686Q+WT/Q6+CxebBX2DFkGPDYPDS/2jxsL0UkEWEg8MScgQDo67Pz1Zc00TMgBMruinbWPbydJ25aSH6S1We76JgYrrtpIzGxsXz8wfs47HaSU4d/0Ze0WnRTZ+OpLMbb2jRsG7mvAcXqQZIGv0xIkovc41tO6muwm418sCiKZxe249KMrzkBgSS7ZBpfbCT6zOgRu/B7S3rp+KiD/F/kD3u/2qxm0u2TqH2sFsWlELMkButpVmqfqCXuvDjcrW6q/1iN4lVIWpdE9OmR1UvgVbz0unsxa0d/JseTTz7p877s7Gyfu35u27ZtxH9HGhEGAqDb1jvotEIQPQNCYFW19XHZwzv46/r5nD0l0Wc7vcHApVdeRXxiIm+//hpVFRVkZmcPv9JApUKbO402m51oe9fQNl4PsroStTz4DSfafhytZ+QlkJ+zW0y8v8jKcwtECDgRxaNQ80gNKJB2Y5rPdl67l9q/15J+czoaq++X8KgFUQMTFQFsBTactU7Srk+j+AfFZNyVgSZaQ9kvyjBPNaOJiqy3g0CFAaGfeMcKgM7uHrSawb9IDjGBUAiwHoeHm5/cw792Vo7YTqVSsWzFuay/+RaioqMpLS7G4/G9F0BU3lQOtvYhMzQwyENOMVTIL3rrhLXaLSbePDeZ2+52888z2nBpxHDASBSPQvXD1bhb3WR/L3vEXgFXswt3q5uqP1Rx9JajHL3lKJ07Ouk52MPRW47ibB4a1GS3TMNTDaTdlIar2YXiVTBPM6NP1aNP0dNX5nueSbhyy5GxmU+kiKwoGKY6u3rQar/4VsoKOJVT3xteEHzxygr/9foxSpps/HTNDDRq33l+1py5RMfE8tKzT1NWXExWTg6GYZZDmcwm+jQ6ilwmZlhkFJd94L6vLjE0UEdUR53P5+yzmHjvDCsvzG/HLXoC/PJ5EHA1ucj5QQ4ay8gvy/pUPfm/HNxb0/RyE7JDJnVDKtq4obPhW95owXKaBWO2EXuVHb40X1PxKIP+HSk8sjihMpBEz8AoKYpCt802aDlK/3wBEQaE4Hnq0ypufnIP3Y6RPx1lZGWx8c67mLtgIdWVlfR0dw/bLj4hgcb2DrQzliJZYgduVxzd2B1fbFaUWf3+sI/vs5p5/bwkbrvHxdOL2nCLnoABXocXe5W9/02Y/uWA9io7rrb+T+jVf63GXmln0p2TUGQFd6cbd6cb2fPFO3Tto7U0vtgIgEqnwjDJMOiP2qRGZei/XaUZ/LLuqHPQtbuL5Mv7963Qp+pBgvYP2+k52IOzwYkx9+S3rQ41t1f0DASS6BkYJYfTidPlHtQz4BG9AsIY+Liklcv+up3/23g6WfG+x05j4+L7hwxiY9ixbRsOh53EpMEbGqWmpVJTVUtLeyfJM5biLtuPt62/B6C37yBGQxpqVQ+TyncNelyv1cy7Z1j49/w2PGr/5hFMNPYKO5W/rRz4d+Nz/W/qMWfFkLQuiZ4D/TPjy/5r8JBM9g+ysUy3APQvMzyFlxVFUaj/Rz0p16Wg0veHBJVORfpt6TQ81YDiVki9IdXvDY7CiRgmCCxJ8TVVUvBLa3sn9//+L1jNJqKj+md6d3rUvNTse/c4QQikGJOWv12/gDNz40ds5/V6+Wjre7zz5pvIikxGVtbApEFZltn85mbSJk1m3sJFADiqjiHXl+CWrETF3k5q51amH3wFgN4oM++caeaFue3IYnqMEALPXPQMsxNnh7qMcUMME4xSn92O2+1GM2jOgOgZEMZOZ5+bG57YxQt7qkdsp1arOWfVaq69aSNms4Wy4mK8n00sVKlUREdH09bSONC+2qamoE1Gp7KDZCfv+GZs0RZePj+ZW+9y8twCEQSE0BE9A4ElwsAo9fbZcbk96DRfdLOJMCCMNbdX4QcvH+HBTceRZd+dfZIkMWfBAm66404mZWVRWlKM09G/M11yajJ9vd302mzIikJtZTVo9UTnTUfv/YA3Vli47S4HL8xvEyFACDkRBgJLhIFRcrhceDweNJovXh3FietCqDz2cQV3PLWXXufIM62zcnPZeOddzJo9l8rycmw9PaRPSgdk6mtraKqtx9VnIzc3A43JysXpbzIjpZWZjRJqhxhZFEJPjHAHlggDo+TxeJEkadCGLaJnQAil9wqaueKRHdR12kdsF5+QyPW33cbSc1bQWF9PX68Ns9lEU2M9FSXlmHUSqWlJeLtqSFUauMJZy7POKj6tr+XnzQpnOGIwyLoRn0MQgkWnFj97gSTCwCgp8tAFuhG4ZFcYZwobe1j7l+3sqxr53HeTyczl163norWXYbPZUGskOlqb6GprJSHOxO4dH6KUbx70GIOkcHlvDY83HGZHVRm/aoEl9hhMsj6YX5IgDKJVRd4KiHAmwsAoeYcLA6JnQAgDrTYn1z32Ka8f9L1JEIBGo+G8iy7imhtuJDs3l77ebmzdLdRUF1HX285Z+b67Y7UorLFV8/fGw2yvKuV3zTLL7DGY5ROfiigIoyF6BgJL7DMwSl6vDF/Z090rwoAQJlwemW89fxBFgXXz0n22kySJBWecSVR0DPt27qTP3oEn2cTsOTlM1X91S+LhaVC4sLeWC3trkYGt5jRet8azT+/Cphp5yEIQTpZOJcJAIIkwMEpe2ctXjywUwwRCuEmK8q8LP9pqZOWy6TR1d1DX1UZ66z5UUSc/UUsFrOqtZ1Vv/+6F75v6g8Eeg4seEQyEABDDBIElwsAoeb0yX00DYuxFCCexJi1n5Iy8IdHnasoKkTwuFs09A0mSWNz+Eijto67h3L56zu3rDwYfGVN4NSqRPQY3XarIOyBHCA9atQgDgSTCwCgNN2dAI4klL0L4OHdaMmrViYeuFEWh7Nh+tHoDkiShVtxkKCPPNzgVZ9sbOdvev7nRDmMSr1qT2GXw0qHuDfhzCeOX6BkILBEGRsnrHbqrgAgDQjg5f6Z/W2N3tjbRWFOONba/FyHVVYmG4J4Mt8TezBJ7MwC7DQm8Yk1hp9FLuwgGwgmYtKZQlzCuiDAwSsPt9ibCgBAujFo1Z09J9KttbXkRvd1dxCX3TzSc5C4NZmlDLHK0ssjRCsB+fTwvR6Www6jQqraNaR1C+NOr9Rg1kXfSYjgTYWCUZGXoMIFahAEhTCybnIBB69/ewRWFh1BrNKhUKiRFJt1VHuTqfJvvbGN+SxsAh/VxvBSVynYjNKt7QlaTED6i9dGhLmHcEWFglDRq9aDdB0H0DAjh4/yZKX61s3V1UF16fGCIIMlTi15xBLM0v812tjO7pX8S4zFdDC9FpfOJERo1IhhMVDH6mFCXMO6IMDBKWo3mqysLRRgQwoJGJbFyepJfbWvLC7F1dZCeOw2ASa6xHSLw10xXJzNbOwEo0kbzYnQ6HxtV1Ku7QWzvMWGIMBB4IgyMklarga8cmCHCgBAOFuXEEWPyb2OWquJjgIRa3T+kEK5h4Mumuru4v7ULgDKtlReiJvGxSU2dugdF/A6Oa2KYIPBEGBglrWbot1CEASEcrJ7h3yoCR18v5YWHsETHAhDracIsR1YXfJ67h//XVgBtUKWx8EJUBh+a1NRoRDAYj0TPQOCJ/XFGSTNMGJAkUA8ZPBCEsbXaz/kCdZXFdLe3EvXZfIEMV0kwywq6LI+N77cXsKn2KJtqW9nYZSLbHY0ktgkfN0QYCDwRBkbp856Br56trVeJTYmF0DktPZq0GP+WXlWXHEeWvWi0/UMKkTBE4K8MTy/3tRfyn9ojbKlp4dYuI7nuaFSKeOmLZPFG/3bUFPwnhglGSavtX4oly/LAeCuASe2lT/ZvSZcgBJq/QwRul4uyY/sxW2MAsHg7iPG2BbGy0En19vHt9iK+3Q7NagP/jsrkfZOeMm0PsiTCeyRJNaeGuoRxR4SBUdJ+ti7b+9UwIHoGhBA6f5Z/QwQN1aV0tjaRkJoBQMY46hUYSZLXwdc7ivl6B7SqDLwYncFWk4FSbQ9eEQzCXrrF9wmcwqkRYWCU+sOAhPyVMwpM6qHbFAvCWMhJMDMl2epX29qyQtwuJzpD/5DCeBoi8FeC7ODujhLu7oAOlZ6XojJ512ykWNuDVxK/x+EozZIW6hLGHREGRkmr1aBRq/F85YwCEQaEUFnl5xCB1+ul5MheDOb+4GCQe4n3NASztLAXKzu5vbOE2zuhS6XjZWsm75pNFOp68IhgEBasOitWnX9hV/CfCAOjZDYZ0Wo0uN2DD3QRwwRCqPh7MFFzXSVtTfVEx/dvTJTuKkMlVsEMiJZd3NJVyi1d0CNpeDUqky1mCwU6G24puAc4Cb6lmUWvQDCIMDBKFpMJnU6Hy+UedLvoGRBCIdGqZ15GrF9ta8uLcNp7MZjMwMSZL3AqrIqHG7vKubEL+lDzalQWmy0Wjul6cUvuE19ACBgxRBAcIgyMklarIcpqprm1fdDtomdACIXzpiejUp14Pb2iKJQe3YfOYESSJDSKi2R39RhUGPlMeNnQXc6GbrCj5g1rBm9bojii78UlgkHQicmDwSHCQADERUdRW9806DbRMyCEwmo/hwjam+tpqq3EGpsAQJqrHDXiZ/ZkGfFyTU8l1/SAAxVvWjN4yxLNEX0fDskV6vLGpQxrRqhLGJdEGAiA+NgYXO7BnwiMKhkJBUWcniKMEYtew1l5CX61rSkrxG7rJjEtExBDBIFgQObKniqu7AE3Em9ZM3jTEsMhnR27yhnq8saNybGTQ13CuCTCQABER1mH7EAoSWBRe+nxRu63uOfAW/QceAtPV3+vhzYhk5gl12HMWwhAX9EOeg6+jaupDNneTerGP6FLzh3xmn1FO+j69N+4OxpA9qCJTSPq9MuwzDp3oI3t2Ad0fvhPFLcDy+zVxK64ZeA+T1cTTS/8hNSb/oBKbwrCVx25zpmaiE7j38565QUHUWt1SJKESvGS6q4IcnUTixaFtT3VrO2pxoPE25ZJvGmJ4aDeQZ8IBqMyOUaEgWCI3HeqMGI1D/+mFKPxRHQYUFvjiV1+E5rY/gk7tqNbaX7ll6Ru/CO6xCxktwP9pBmYpi2lffOf/bqmymghevHVaOMyQK3BXrabtrf+gNoUjTF3Ad6+Lto3/5n4i76NJiaF5pd+jj7zNEx5pwPQtuVhYpdvFEFgGP6eRdDd3kpdRfHAWQTJ7mp0iujSDhYNCmtsNayx1eBB4j1zGm9Y49ivd9KrcoS6vIiSYEwgxhAT6jLGpch9pwojFrMJhf5JWZL0xbBAjMZDTQR/CDDlnzHo37Fn34jtwFs464vQJWYNfJr/vOfAH4bM2YP+rV24lt6j7+OsPY4xdwGezkYkvQnz9LMH2rtbqyHvdHqPb0NSazBNXTLKr2z80alVrJia6Ffb2vJCers7mJQ7HZiYGw2FigaFC3rruKC3DhnYak7jDWs8e/UubCp7qMsLe6JXIHjEaR0BYDGbht14KFY7fmYWK7KX3uMf9vcGpE8LzDUVBXvlQdzttegzZgGgiUtHcTtxNZXhtffgaihGl5iN195D58fPELfqroA893izOC8eq0HrV9vK4qNIqFCp1aAoTHKVBbk6YTgqYFVvPX9uPMLOqiL+1ORmZV80UbJ/B0xNRPmx+aEuYdwSPQMBEGUxo9dpcbpcA6cYQn/PQKRztVTS+NR3UTwuJJ2RpMt+jC4hc1TXlJ291P71JhSvGyQV8avvxpgzDwC1wULCxd+h9c3/QfG4MM86F2PuAlrf+gPWBZfg6Wqi+eUHQPYQfdZ6zNOWBuLLjHj+riLos3VTWXQYS2wcAAmeeoxKbzBLE/y0oq+BFX39O0B+YkzhlahEdhvcdKn6QlxZ+BA9A8EjwkAAxMVEYzQYsDucWExfjGWPhzCgjUsn9eY/ITt66SveTuum/yV5/W9GFQgknZHUm/+E4nLgqDpI+/tPoIlJGRhCME1ZgmnKF0MBjurDuFuqiFt1F/WP3kHCmu+hNsfS8K97MWTMQm2OGe2XGdFUkv9bENeVF9HT2U5qdv+LqhgiCE9L7Y0stTcCsNOYxKvWJD41eOlQT+zgJlYSBI8IAwFgMhqIj42hrql50O06lYJZ5aU3go8yltRatJ9NINSnTsbVUELP3jeIv+Drp35NSTVwTV1yLu62Wrp2vjhkPgGA4nHT/s4jxF9yH56OBhTZiyHzNKA/qDgbiobMbZho5mbEkGQ1+NW2quQ4iqyg0fQPKYghgvC32N7MYnv/a8seQwIvW1P41OilbYIFA41KI8JAEIkwECCZacmUVA7dwS1G66bXGblhYCilv3s/kFdUfF+zc8fzGHIXoE/Jx9VUBvIX8zIU2QOy2OnxfD9XEbicDsqPH8AcHQNAtKeVKLkjiJUJgXa6o5XTHa0AHNDH81JUKjuNMi1qW4grC77pcdPRq/WhLmPcEmEgQFKSElGGeWOK0Xioi9AVBR0f/hNj7gI0UYnILju9BR/hqD5K0lU/B8Br78Hb3YLX1gaAu70WALU5FrWlf3/81jf/+7MlihsB6Nr5b3Qpk9HEpoLXjb1sL73H3idu9T1Dnt/VUkVf4UekbuxftqiJmwSSip5D76C2xOJuq0WXKj4p+BsG6itL6GxvJik9GxBDBJFunrONeS39v3tH9LG8GJXGdqNC8zgNBnMS54S6hHFNhIEASYiLAYYuL4yN4HkD3t5OWt/8H7y97aj0ZnSJ2SRd9fOByX720l20vfWHgfatb/wOgOizriNm6QYAPN0tIH2xaEV2O2l/92G8PW1IGh3auEkkXHLfwFLCzymKQvuWvxB77u2odP1d4CqtnviLvk37u4+geN3ErboLjdW/HffGq8lJFrITzH61rS4twOv2oNP3fz9FGBg/TnN2cFpLfy9PgS6Gf0elsd0o0aDuYbxsgirCQHBJyle3zhNOSUV1Hb/4499JS07EaPhi/LbFpeX1Vv/WfwvCyfr6iny+e/7UE7bzejz8879/THdnG0lpmRi9PVzW+egYVCiEUrE2ihejJ/GRUUW9ujuig8G7V75Litm/XjDh5Il9BgIkIS4Gk9FAn33wjmLxWjcaSYxrC8Hh75LCxppyOloaBnYdFGcRTAxT3N38uPU4W2qO8npdBxu6zWR4opCUyEoFSaYkEQSCTISBALGYTcREWYeEAZUECeNo8yEhfKRFG5g9KcavtrXlRTgddvSG/qWvYohg4sl19/DDtgLeqjnKm7Vt3NhlIssdHRHBQAwRBJ8IAwEiSRKZaalDwgBAsk7s+y4Enr97C8iyTMmRvRiMZiRJQifbSfLUBrk6IZxlemx8r72QN2uP8FZtKzd3mcgJ42AgwkDwiQmEAZSWkjhkS2IQYUAIDn9XEbQ21NDSUENUXP9ky3R3OSrE0JXQb5Knl3vbC7m3HRrURl6MzuR9k44KTQ9ymAxxnpl6ZqhLGPdEz0AApSUnoQK8XwkESSIMCAEWY9KyKCfOr7a15UXYe3swmq2AGCIQfEv12vlmexGv1R7h3ZpG7uw0MNkVjUoJ3VtFgjGBKbFTQvb8E4UIAwE0KTUJi8VMT+/gvcQNKoVodeQuMRTCz7lTk9CoT/zrqygKZccPoNXpkSQJteIm1VUZ/AKFiJfkdfD1jmJeqTvC1uoGvtahZ5orBvUYB4PFqYsHLdcWgkOEgQBKjIslIS6G7p6h24SK3gEhkFb7OUTQ2dZMQ1UpUbH9QwQp7io0iGAqnJwE2cldnSW8WHeYD6ob+GaHjhmuGNRK8HdXXZy2OOjPIYgwEFAqlYppeTnYeoeeMibmDQiBYtCqWD7Fv70r6sqL6O3pwhwVA4ghAmH0YmUnt3eW8kLdYT6sruXedi2znDFolMBPQZOQWJK25MQNhVETEwgDLGtSKooiD9mJUIQBIVCWTU7EqPPvE1l5wSHUag0qlQpJkUkXBxMJARQtu7m5q4ybu6BH0vBqVCZbzBYKdDbc0uh7oKbFTSPeGB+ASoUTEWEgwCalJGMw6LE7nJiMX+xEGKv1YFJ56YvgEwyF8LDazyWFtu5OakqPY43pn2iY6KnDoAxd+ioIgWBVPNzYVc6NXdCHmteiMtlssXJM14tLOrW9VsQQwdgRwwQBlp6SRLTVQrdt6GEh6foIPbFICBtqlcR50/0LA7XlhfR0tWP5LAxkuEqCWZogDDDhZX13Bf+qP8z2ygrub1WxwBGDXtGe1HWWpi8NUoXCV4kwEGB6vY7czEnDTiKcZBCfyoTROT07llizzq+2VcXHAAm1ur8DUAwRCKFgQOaankqebOgPBj9rlVjkiMGgjPxzHKOPYX7S/DGqUoj4MLBx40bWrVsX6jIGyc/OxO0eOl6WrnciIc6FEk7d6hn+rSJw2vuoKDiIJbr/KOlYTxMWuTuYpQnCCemRuaKniicaDrOjsoxftsBiRwxGWT+k7fJJy1GrxLDqWBFzBoIgIy0ZtVqFy+1Gp/2iW8ygUkjUuml2+/fJThC+yt+DiWoriujuaCU5Iw8QqwiE8KNFYa2tmrW2ajxIvK5L5P2ENAqjJZodbZyXdV6oS5xQIr5n4Ms2b97M0qVLiYmJIT4+nksuuYSysi+6RhcvXswPf/jDQY9paWlBq9XywQcfAPD000+zcOFCrFYrKSkprF+/nubm5pOqI3tSGrHRUXR29Qy5L0MMFQinaGZaFJNiTX61rSktwOv1otX1B08RBoRwpkHhClczf60/yHsFB/mXKkNMHhxj4yoM9Pb2cu+997Jnzx62bt2KSqXisssuQ5b799fesGEDzz33HIryRVf9Cy+8QHJyMsuXLwfA5XLxwAMPcOjQIV577TUqKirYuHHjSdVhtZiZmpdNR/fQbtlMEQaEU+TvEIHb5aL02H7M1mgALN5OYr2twSxNEAJGQmGeKR29eujQgRA842qY4Iorrhj07yeeeIKkpCSOHz/OrFmzuOaaa/jOd77DJ598wrJlywB49tlnWb9+PSpVfy665ZZbBh6fm5vLn/70JxYtWoTNZsNisfhdy4zJuXyy+8CQ/QbitR4sag8277j61gtj4PxZ/g0RNNaU0dnSSHxqBiB6BYQINPOyUFcw4YyrnoGysjLWr19Pbm4uUVFR5OTkAFBdXQ1AYmIiq1at4plnngGgoqKCnTt3smHDhoFrHDhwgLVr15KVlYXVauWcc84ZdA1/5WVNwmwy0ttnH3Kf6B0QTlZWvIlpKVF+ta0pK8TlcqI3GAERBoQIo4+GfDFfYKyNqzCwZs0a2traeOyxx9i1axe7du0C+rv+P7dhwwZeeukl3G43zz77LDNnzmTOnP6zsnt7e1m9ejUWi4Wnn36aPXv28Oqrrw65hj8mpSaTkhRPW2fXkPuyRBgQTpK/Gw15vV5KjuwdOKFQL/eR4KkPZmmCEFgz1oBGTLIea+MmDLS1tVFQUMD999/PypUrmT59Oh0dHUParVu3DofDwebNm3n22We5/vrrB+4rLCyktbWV3/zmNyxbtoxp06ad9OTBz6nVaubNnIbNNnS/gVSdC6PKO8yjBGF4/h5M1FJfRVtTHVGx/Vu4TnKVohLLWYVIMvf6E7cRAm7chIHY2Fji4+N59NFHKS0t5f333+fee+8d0s5sNrN27Vp+8pOfUFBQwPr16wfuy8zMRKfT8ec//5ny8nLeeOMNHnjggVOuaWpeNmq1GudXehVUEuQZhw4fCMJwEiw6FmTG+tW2trwIR18vBlP//BYxRCBElPjJkCVWEYRCxIcBWZbRaPoPYnn++efZt28fs2bN4jvf+Q6///3vh33Mhg0bOHToEMuWLSMzM3Pg9sTERJ588klefPFFZsyYwW9+8xseeuihU64tLyuDhLgY2juHrirIF2FA8NN505NRqU58nruiKJQe3YfOYESSJDSKixT3yc11EYSQmrfhxG2EoIj4Ke3Nzc3k5+cDcN5553H8+PFB9395GeHnLrroomFvB7juuuu47rrrTngNf5iMBmZPm8x7n+wmNSlh0H0JOjcxGjednpPbq1uYePzdaKi9uYGm2sqBIYJUVwVqxHCUECFUGpiz/sTthKCI2J6Bjo4ONm3axLZt2zjvvPCdeTpzaj6SBB7P0O2JRe+AcCIWvYaz8hNO3JD+g4n6erowW2MAyBBDBEIkyV8FVv+CrxB4EdszcMstt7Bnzx7uu+8+1q5dG+pyfJoxOZeEuBha2ztJ+UrvQJ7Rzt4eK3DiLmBhYlo+JRG9xr/92csLDqLR6pAkCUnxkuauCHJ1ghBA88TEwVCK2DDw+ZK/cGe1mFk4eyZvf/DJkDBg1XhJ0blodImdtoTh+TtE0N3RRl15EdbPhghS3DXoFHFkthAhzEkw5YJQVzGhRewwQSSZM2MKarUah3PoXgViqEDwRauWWDEtya+2teWF2Lo7sET1rzoQqwiEiLLwZlBH7GfTcUGEgTEwNTeb9JQkWtrah9yXY7SjFuvAhWGcmRtPlMG/CaZVxUdBUqFSq0FRSHeVnfhBghAO1Ho4/bZQVzHhiTAwBvR6HWfMm0VXd8+QlQl6lUK26B0QhnG+nxsN9dl6qCg8jDUmDoB4TwMmxRbM0gQhcE67Eiz+9YAJwSPCwBg5bdpkTMbhzyqYYR66S6EwsUmS/1sQ11UU0dPZjjX6i10HBSFinHlPqCsQEGFgzORmTiI7I43m1qFDBck6N4nakzv7QBjf5kyKISnK4Ffb6tKC/s23tP1DCmJJoRAxcpZDyqxQVyEgwsCYUalUnDHvNPrs9mE3MRK9A8KX+TtE4HI6KDu2H0tUDABRnjai5KFncghCWFr8tVBXIHxGhIExNGtqPjFRVjq6hm5PnGu0i8OLhAHn+7mksKGqlM625oElhZPcoldAiBDxk2Hy6lBXIXxGhIExlJacyGnTp9DU0jbkPrUE00XvgADkJ1nITbT41ba6tACvx41O3z+kkOEUYUCIEEu+0T85RggLIgyMIUmSOGvhXFQqFX12x5D7p5n6xHGzgt8TB70eD6VH92I0WwEwenuI8zYGszRBCIyYLJgrziEIJyIMjLFZU/PIz86goallyH0mtUyuWGY44fk7X6CptoL25kaiYvt3tpzkLhUbWwuRYdl9oBaHtIUTEQbGmEajYfmZC3G6XHi8Q+cIzBRDBRNaarSB2ZOi/WpbW16E09GH3mgCxJJCIULEZMFccVRxuBFhIATmz5pGcmL8sHMHEnVuUnRiT/mJ6rzpyUh+jKPKskzJkb3ojSYkSUIrO0hy145BhYIwSmd/V2w9HIZEGAiBKKuFpafPo6Oza9hlhvOsPSGoSggH/g4RtDXW0lJfPTBEkO4uR40czNIEYfRismCOmCsQjkQYCJEz5p1GdJSV9s6hywzT9S7ROzABRRk0nJkb51fb2vIi7L09mCxRgBgiECKE6BUIWyIMhEh6ShLzZk4ddqgAYIHoHZhwVk5PRqM+8a+koiiUHT+ARqdHkiRUiodUV2XwCxSE0YjLE70CYUyEgRCRJImzTp+HVqMe9ryCVL2LVNE7MKH4u6Swq72F+soSoj7baCjVXYUWdzBLE4TRW/UL0SsQxkQYCKHp+TlMy8+htqFp2PtF78DEodeoWD410a+2teVF9PZ0YY6KBWCSqySYpQnC6GUvg+mXhLoKYQQiDISQRqNh1dmLAei1D+0dSNG7SBO9AxPCsskJmHT+fWqqKDiEWq1BpVIhKTLprvIgVycIp06RVHD+g6EuQzgBEQZCbO6MKcyamkdt3fA7xy2IGjrBUBh/Vs/wbxVBb08X1aXHsMT0TzRM8NRjUMRGVUL4kuZcB6lzQl2GcAIiDITY570Dkko17NyBZJ2bSfqhWxcL44daJXGen/MFassL6enqwPpZGMgYR0MEv/7YyemP2bD+upuk3/ew7vk+ilp9H95153/sSD/v5g+fnrj37A+fOpn6FxvGB7vJ+N8evrPZgcPzxbLeZw67yfjfHuJ+28333hn8+1bZKTPlzza6nWKr8JOlaM1w7k9CXYbgBxEGwsCc6VOYNTWfmrqGYe/vnzsgXojGqwVZscSZdX61rSo+BoqC+rOJWONpSeGHVR6+drqOT2818+4NJjwyrH66j17X0J/91wrd7KrzkmY98QZNzxx288P3nPx0uZ6Cr1l44lIjLxxz86P3+kNEa5/Mbf+x89AqA1uuN/PPQ242FX8xIfPuTXZ+c56eKL3Y7PlkSWd9C6JSQ12G4AcRBsKAWq1m1dlnolKrsfX2Dbk/UedmsjizYNzydxWB095HRcFBLJ9NHIzxNGORx88w0ubrzWycq2Nmkpo5KWr+sdZAdZfCvobBvQN13TJff8vBM5cb0frxCraz1sNZmWrWn6YlO0bF6jwN183Ssvez65Z3KETrJa6ZpeX0dDUrctQcb+nfwOnZI250aonLp4t99E+WEp3RfzKhEBFEGAgTs6dNZva0yT5XFpwe1Y1WEjvMjUf+7jpYV1lMV3sr1s92HcwYR70Cw+n6rPc/zvjFJ3JZUbjhVTvfW9IfGvyxNFPDvnovu+s+f/OXeavUw8WT+3tXJsep6HMrHGjw0m5X2FPnZXaymna7wn994OAvFxoC+4VNENLF/wM6U6jLEPwkFn2Gif7egcUcKSrF1tuHxTz4l8iklpln7WF3t3+H2AiRYXpqFBlx/r1g1pQW4vV60Or6hxTG0xDBVymKwr1bHCzNVDPrS2/6v/3EhUYF3zzDv2EVgGtnaWnpVVj6f70ogEeGuxdq+eFSPQCxRol/rjNy42t27G6FG+doOT9fwy2v2/nGIh0VnTKXPt+H2ws/O0fPlTNEL8EJzbwMpqwOdRXCSRBhIIycNi2f2dMns/9IAdMn5w65f5a5l6I+E10e8WI0Xpw/078hAo/bTemxfZis/WHQ7O0i1jv0GOzx4utvOTjc5OWTW8wDt+2r9/LHXS7232n26zCnz22r9PDgx04evtjAGelqSttlvrXZQarFyU+W9weCy6ZruexLQwHbKj0cafbyl4sM5P/JxnNXGEmxSCx6vJezs9QkmUWnqi+KPhrpwt+FugzhJImf6DCiUqk4f/kS9DodHV1Dx4JVEpwplhqOK/4uKWysLqOjpZGomP5dB8dzr8A33rLzRrGHD24yMynqi5eoj6s9NPcqZP6vDc0vutH8opuqLoX73nGS/QffG3T95AMnN8zWctt8Haclq7lsupZfrdTz60+cyMMcFOb0KNyzycHfLzFS2i7jkWF5toapCWqmxKvYVet7hYMA0qqfgyUp1GUIJ0n0DISZmVPyOGvhXN79eCfRVgsq1eC8lmFwkqF3UOMU45iRLiPOyIy0KL/aVpcV4HI60Bv7hxTG05LCzymKwjfedvBqoYdtN5nIiR38s3/DbC3n5Q5+yTr/6T5umK3l5rm+e8v63Aqqr3QkqCUJBVAU4Cv3PfCRkwvzNcxPVXOgwYtH/iIwuL3gFQt7fFIyzkRasDHUZQinQISBMCNJEhetXMahgiIamltJTxmasBdHd1HfrMf71VcxIaL42ysgyzKlR/dhNFsA0Mt9JHjqg1laSHztLQfPHnHz+rUmrHqJRlv/hNlovYRRKxFvUhH/lekVWhWkWCSmJnwxr+DGV+2kWyV+fV5/YF4zRcP/7HQxL1U9MEzwkw8cXDpVg/orKeFYs5cXjnk4eGf/8MS0BBUqSeKJ/S5SLBKFrTKnp/k3cXGiUVRapDV/hJMYwhHChwgDYSg1KYELzjmLp15+k8T4WHTawZ96ojReZllsHLJZQ1ShEAj+LilsrquirbGOqM9WEaS7ylCNw30nHtnbv7b/nH8OXl77j7UGNs71f8JgdZeMSvqiV+H+s/VISNz/voO6HoVEk8SaKRoeXDm4d01RFO5408H/nq/HrOt/QzNqJZ5cZ+BrbzlweuAvFxlIjxKjq8ORzvkBJE0LdRnCKZIUZZhBMyHk+uwOfvPXJ6iqa2RyTuaQ+92yxCstifR4RZ6LRPFmHXt+fB6qr/ZfD2Pfh5t558UnyJwyC0mSWN79KulucR6BED7k9IWobn0HVKLXJFKJiBumTEYDa1adg6Io9Nh6h9yvVSmcHdOJ2JkwMq2cnuRXEFAUhdKj+9DqDUiShEZxkeyuHoMKBcE/ssaE6orHRRCIcCIMhLEFp01n4ewZVNU1MFwHTqrexQzz0KAghD9/5wu0NzfQWFsxMESQ6qpEgyeYpQnCSZEu+i3E5YS6DGGURBgIYyqViktXnUNMlJWWtvZh2yyy9hClFm8OkcSsU7N0coJfbWvLi+izdQ/sLzCelxQKkcedtxpp/o2hLkMIABEGwlx2RhrnLT2D5tZ23J6hb/qaz4YLJDFcEDHOnpKIQetfl2pFwSHUGi0qlQpJ8Yq5AkLYcOtj0V7+t1CXIQSICAMRYPXZi8nPyaSium7Y+1P0LmaK4YKI4e9ZBD2d7dSWFw4cV5zsrkGnnPi4XkEINgUJ9eV/B3N8qEsRAkSEgQgQZbVw5UWr0KjVtHV0DdtmYVQ30WK4IOxp1RIrpvm3O1tteSG2rnYs0f1hQAwRCOHCvegeVFPPD3UZQgCJMBAh5syYwsqli2hoah5+uECCs2M7xHBBmDsjJ55oo39nS1QWHQFJhVqtBkVhkrssyNUJwonZkxegu+CBUJchBJgIAxFCkiTWnLecKblZVFTVDtsmWefmNIttjCsTToa/BxPZe21UFh0ZGCKI9zRiksX/WyG0nNpYDDe8IJYRjkMiDESQKKuFKy9ehVarpbW9c9g2C609JOvEuHI4kiRY5eeSwrqKIro7WrF+fjCRWwwRCKHlRYV07VNIlsRQlyIEgQgDEea0aZM5b9kZNDa34HYPHS5QSXBubAcGlThZLdzMnhRDSrR/B0xVlx5HURQ0n21FLeYLCKFmO+M+dHnLQl2GECQiDEQYSZK4ZOXZTM3Lobx6+OECs1pmhZg/EHb8PYvA7XJSdnT/wN4CVm870d7h95kQhLHQmbqM6AvvD3UZQhCJMBCBrBYzV12yCr1OR0t7x7Bt0vUu5ll9n/EujD1/lxTWV5bQ2dY8sOvgeDyuWIgc3cYMom9+IdRlCEEmwkCEmjklj/OXL6apuQ27Y/g5AvMsNtL1jjGuTBhObqKZ/CSLX21rygrxuN3o9P1DCpNcYhWBEBq9qij0t/wHSWcOdSlCkIkwEKEkSWLNquUsnD2DsspqZFkepg2siOnELOYPhJy/ZxF4PR5Kj+7DaOk/ntoo24j3NASzNEEYlgst7iv/iT5RnDswEYgwEMEMej0bLr+YzPRUn/MHDGqZc+PaUYn5AyHl75LCprpK2pvriYrtX0WQ7irlxGcbCkJgyYpEy1k/J2bGuaEuRRgjIgxEuNSkBK5dewEatZrm1rZh2yTr3CyK6h7jyoTPJUfpmZsR41fbuvIinPY+9Mb+btkMsYpACIHK3A2knXdPqMsQxpAIA+PAvJnTuOS8s2lp66DXbh+2zSxLL9NN4vyCUFg1IxlJOvHne0VRKD6yF53BhCRJaGUnSe6aMahQEL5QEXMWmev/4NfPrDB+iDAwDkiSxEUrlrF4wRwqqmrxeoefI7A4uosMMaFwzPk7X6C1sZaW+mqi4vpXEaS5y1EzdC6IIARLtWE6Kbc9P7C/hTBxiDAwTuh0Wtavu4jcrEmUVtagKEPnCHy+IVG81hWCCicmq0HD4jz/TnarLS/CbuvGZIkCxBCBMLZq1VlE3/oKxs9+/oSJRYSBcSQhLoYNl12MyWigobl12DZalcLquHbM4oTDMXHutCS06hP/mimKQvnxA2h0OiRJQqV4SHVVjEGFggD1JKPe8BzRiWmhLkUIEREGxpmZU/K47IJz6emx0dE1/KRBs1rm/Lh2tJLogg42f4cIujtaqasswRrTP0SQ4q5GizuYpQkCAI1yLPa1T5CaOzPUpQghJMLAOLT67MVcsOIs6hqbsfX1DdsmTuthpdiyOKj0GhXnTPXvUJeaskJ6uzuxRMcCMEnsOiiMgRavleYV/0PePHHmwEQnwsA4pFKpuPKiVSxbNJ/K6jqcruHnCEwyODkrumuMq5s4zspPwKzX+NW2svAwapUalUoFikK6qzzI1QkTXYfXRMXpv+C0cy4LdSlCGBBhYJzS63XccPnFzJkxlZLyap8rDKaZ+5hvFXsQBIO/BxP19nRRVXIMS0wcAImeOozK8D06ghAIbV4zBXN/woKLbxJLCAVAhIFxLcpq4ZZr15GfnUFxedWwKwwA5lttnGa2jXF145tKgvP8DAN1FUX0dLVjjelfdSCOKxaCqdlj4ejMH3LG2jtQq9WhLkcIEyIMjHPJCfHcfM1aEuPjKKuq9RkIzojuZobYlChgFmTFkmDR+9W2qvg4KApqTf+QgggDQrA0eqwcmnovSy6/a+DnTRBAhIEJIS8rgxuvvAS9VkNdY7PPdouju5hiFN3TgeDvccVOh53yggOYo/onDsZ4WrDKYh6HEHi17mj253yDs6+6B61OF+pyhDAjwsAEMX/WdK659AIcDifNbe3DtpEkWBbTyWQRCEbN3yWF9ZXFdLW1DBxMJHoFhGCodsWwP+tOVlz7NfQGY6jLEcKQ6CeaQFYsOZ2uHhuvvPUeapWK+NiYIW0kCc6O6QSgxG4a2wLHiWkpVjLj/fve1ZQW4vV40Or6hxTEkkIh0EqdCRzLvYNV192D0WwJdTlCmBJhYAKRJIm1q8/B4/Hw2pYPUKlUxEYP3XpUBILRWe3nEIHH7abk6F5M1v7/ByZvN3HelmCWJkww++3p1E67g/OvuR2DyRzqcoQwJsLABKNSqbj8wpW4PR7efO8jJEkiJso6pN3ngUCSFIr7xIvIyfB3SWFjTTkdLY3EJ6cD4iwCIXAUYJstn965t3L+lTeLoQHhhEQYmIDUajVXX7Iaj8fL2x98giRJRFuHdh/2B4IujCqZQ7ahgUEYalKskVnp0X61rS0vxO1yoDf2976IIQIhELyoeLNnFrrTb2D1ZTei0xtCXZIQAUQYmKA0Gg3XXnoBsqyw5cPtkJYybCAAOD2qB6NK5tPuKEBsUDKSVX72CsiyTMmRfeiN/d9zvdxHoqcumKUJE4ADHS91zSFx8XWcu+4GsWpA8JsIAxNY/7HHFwKcMBDMsvRiVHv5sCMWWQQCn/xdRdBSX01rQ83AKoJ0VzkqcU6EMApdipkXuxeQu/xqzr74WjRabahLEiKICAMT3JBAkJpM9DBzCADyjA4Mqjbea4/DrYhVqV8VZ9axKCfOr7a15UU4+mwkTcoGxJJCYXQqvclscizg9DUbWHjORf1nXAjCSRBhQBgIBJIEWz7agdvjJSEuZti26XoXFye0sqUtHrsstjL9snOnJaFWnbjXRFEUyo7tR6s3IEkSasVNirtqDCoUxhsF+NSRz17NAlZecyPTF5wlzhoQTokIAwLQHwg2XHYRZpOR19/ZhtvtJjV5+ON3E7Qe1iS0srktnm6v+BH6nL+7Dna0NNJQXUZUbAIAqa5KNHiCWZowDrnQ8Z+eGbTFzmfNVbeQPfW0UJckRDDRlyQM0Gg0XHHReWy47CIcTidVtfU+zzKI0nhZk9BKss45xlWGJ5NOzbLJCX61rS0voq+nG5O1f9WBWFIonKwuKYZ/tC+gN20pazd+SwQBYdREGBAGkSSJ85cv4ZZr1qFRqymtrPEZCIxqmYvj25guDjhi2eQEDFr/hk0qCg+h1mhQqVRIikyauzzI1QnjSYWUxWMt84ibcQ5rb/42yZ/NOxGE0RB9vMIQkiRx1unzsJjN/OPfr1NYWsGU3GzU6qHZUSXBWTFdJOpcbO+MwTtBVxr4O0TQ09lOTWkB1s9WESR5atArjmCWJowTHjR86JnDPlsy8845n7MvvnpgjwpBGC3RMyD4NGfGFL520zVkpKVQWFqO2+N7XHuKyc4lCa2Y1RNv7Fujklg5zb/9BeoqirB1d2CJ7l91IFYRCP5oUyfyZPdZHFPyWX31bay8/EYRBISAEmFAGNHknEy+vvFapuZlU1hagd3h+1Nsos7NuoRWUifYPIIzcuOINvm3pruy+CggoVb3DymIMCCMRAGOaubwWONsVMnTWXfzt5m7ZKVYOigEnPiJEk5oUmoyX994HYvmzqK0sob2zi6fbY1qmQvj25hpto1hhaHl70ZDjr5eKgoPY42JBSDO04hZnjjfJ+Hk9ElmNkmr+U9jMlPmLeHy2+4jM39GqMsSxikxZ0DwS0JcDPfceDUpifFs+XAntl47GWnJw65pVkmwOLqbRK2b7V3R43qDIkmC1TP9HyLobm8lNSsPEL0Cgm+V2im81ZGLHT2LV53PkguuEGcMCEElwoDgN6PBwPp1FzEpNZkX/vMORWWV5OdkolEPP4s+32QnSediW0csze7xuUf6aenRpEb7dyJcdWkBsuxFo+3/XogwIHxVr8rCDs1Z7KmTSUqfxHmXXMPk004XGwkJQSfCgHBSJEli+ZkLSUlM4KmX36SgpJy8rAxMxuE/tURpvFyS0MpBm4UDPVaUcbbawN/jit0uJ2XH9mO2xgBg9bYT420LYmVCJFGAEv1s3rdNprO1l5mnL2P5muuIiU8KdWnCBDF++2+FoJqal823bt3A4vmzqaiupa3D9zwClQTzrTbWJLQSNc5WG/i7pLChqpSO1qaBg4lEr4DwuW5VLFtMl/NKQzpuNKy64mYu3nCPCALCmBI9A8IpS4yP5a4briIlMZ7N23Zg6+0lMz3VZ5dmks7N5YktfNodRWGfeYyrDbzcBDOTk4c/1OmrasoK8bhc6Az9QwoiDAhe1BQYF7LDnk9rVTNZU2axYu0G0rInh7o0YQISYUAYFYNezzWXXkB6SjIvbnqH48Vl5GZlYDToh22vUSksjeki0+Dgo84YHBF82NEqPycOer1eSo/uw2DuPx7aIPeS4GkIZmlCmKvV5rFbt5iS2nZ0BgdLzr+cM1ZeitE8/BHighBsIgwIoyZJEsvOmE/WpFSef2MLB44WkBAXS1JCnM9egkyDkysSW9jRFU2Fw78JeOHG3yWFzXWVtDXVER3fHx4muUrH2cwJwV+d6nj2mc6hoFNPd0N/b8CyC68kI3+GmCQohJQIA0LAZKan8q1b1rPlwx1s2voRRWWV5GVloNUO/2NmVMusjOug1tHHjq7oiDoBMdGqZ35mjF9ta8uLcNh7STb1D42IIYKJxykZOGJcwlGm0FBZgdmqZsXaDcxfdj56Q2SGYWF8iZxXXyEi6PU6Ll19DpNzMnnhP1soKK0gPSWJuJhon4+ZZHByub6ZQz1WDtssEXG+waoZw++x8FWKolB6ZC96gxlJktDITpLdNWNQoRAOvKgoNczmkH4xDS1t2G0V5M+cz9KLriI1My/U5QnCABEGhKCYPjmXe2+/gdff2cbW7bvo6OwmOyN92MOOADQSLIjqId/U30tQ5wzvDVb8XVLY1lRHU13VwCqCdHcFarzBLE0IAzISVbppHDYtobHHS2tNKbGJKSy98lZmn7kCrW587rshRC4RBoSgibJauP7yi5mal81Lm96loKSMzPRUoqy+J0lFa7xcGN9Omd3Arq5o+sJwgqFVr2FJXoJfbWvLi7DbuklMywRgkqskmKUJIaYAtbp8DhvPotltoqm8Er3ByOnnXMTpKy4mNsG/ECkIY02EASGoJEli0dxZ5GSk8/Jb77Jz/xGaWtvJnpTmcy4BQJ7RQYbeyb4eKwW9ZuQwGjo4Z1oSOo1/W3SUHz+IWqtDkiRUioc0d2VwixNCpkabx1HTYlqJp7muCo+7hbyZ8zjzvEuZlDtNTBAUwpoIA8KYSIyP5Y4NV7Jwzixe3/IBRWWVJMTHkJwQ7/NFUqdSWBzdzUxzL/t6rJTZjRAGocDfIYKu9hbqKooGhghS3NVoFVcwSxPGmIxEjW4yx42LaFMl0tnSSHfHcVIy8zhz5Rqmzj0TtUa8zArhT/yUCmNGpVKxcPYMpuVl8+7Hn/LOhzs4XlxGVkYaFpPvs9mjNF5WxHYy22JjT3cUtSGcT6DTqFgxzb+d4WrLi7D1dJGRmAqIVQTjiRst5YZZFBoWYFNF0dXWTGfrUaLjEjln7QbmLjkPk8W/DakEIRyIMCCMOYvZxGUXnMu8mdN4bcv77Dt8HK1OS1Z6Kmofhx4BxGs9XBDfToNTx57uqJAcfrQkLx6L3r9fm8qiI6gkFSq1GhSFdFdZkKsTgs0umSkyzKPEMAeXpKens432pqNYYmJZvGodc886j9hE//afEIRwIsKAEDLZGWl84+br+HT/Yd5450MKSspJTkogITZmxPHVVL2LSxNbqXLo2dsdRYdHO2Y1+3sWQZ+tm6riI1hj4gBI8NRjVPqCWZoQRB3qBIoM86nUz8CLqj8ENJdgtkazYPkFzF+2msTUjFCXKQinTIQBIaTUajVnnT6PGVPyePuDT/jw030cLy4jPTWZmKiRu1mzDE4y9S2U2o0ctlmCHgpUEpw33b/5AnXlRXR3tJOW07/PvBgiiDxutFTrp1Kqn02bNhVFUejuaKWzpRGTNZoFy85n7lnnkTwpO9SlCsKoiTAghIXY6CjWr7uIJQvmsuXD7ew+eIyGphYy0lKwmH3PJ5AkmGyyk2+0U+vUc9hmocE1/LkIozUvM5ZEq3/Xriw+BoqCRtMfUDJEGIgYbepkygynUamfjkfS4fV66Wyqo7ujDWtMHPPPvoA5i1eQPClHrBAQxg0RBoSwkp2Rxh0brmT5mQvZvG07B44WIssyGempmIy+Jw5KEmQYnGQYnLS6tBy2WahwGFACuPrgfD8PJnI67FQUHMAcHQtAtKcVq9wZsDqEwHNKBqp0UykznEaHpv//s9vlor25AnuvjbjEFJZfci3T5y8hPjktxNX69rOf/YzXXnuNgwcPhroUIcKIMCCEHUmSmJafw5TcLA4XlPD2B59wvLgMtUZNRloK+hPs3pagc3NuXAc9HjVHe80U9ZnwKP7tCzASfw8mqq8sobO9heRJOYAYIghXLklPjS6fat1UGrVZKFL/z4ijz0ZbUz1ej5uk9Gz+f3v3HhtFvfdx/D2zszt76Xa32+62paUUWgW5izzVChzEywPKeYKaIxIMCQIhck5ijBGjj4mJf2AISvzDP/iDSCFe/jMSQ+JjDAlHJZ4APgeVW6EtpVxaeu/udi+d2Znnj1360ANC4cit+30lzczOwG9m26bz2d/1T0tXMHn2wxQUBv/Q669evZpdu3YBoGka48eP5/nnn+e9997D57v+Et+KovDVV1/x7LPP/qH3JfKThAFx11JVldnTJjN9cg2Hfj3G/+zbz8nTZ3DrOhVlkeuGAr+WoT4QZY4/xvFBHycSXuI3uRjS5FI/1SXX/wMNcLb5BBnTxOnKNimMl1kH7xqG4uKcs4Y2fTLtzmosJTt6JZPJMNDTTqyvB5fupnLSZGbVP07t9Idw6bduKOuSJUtoaGjAMAx++OEH1q1bx+DgINu2bbtl1xTiav79j0tC3GKapvHInJm89bc1rF/5FypKI5w+c47Gllbiiev30NdVm9n+OC9GOlkS6mGSJ4ED+4bu4T9H2URgGgZNRw7hKSgcPtbomUOb6z4Mbt+oB/H/BtUCmvQZ/N2/jC+LNvCT/xnOu2rIoJKMxzh/+iTnmo+hOhw8/OR/sfyvb7N8w38z9aF5tzQIAOi6TllZGePHj2flypW89NJL7N69m9raWj788MMR//bIkSOoqkpzczPV1dUAPPfccyiKMvz6kk8//ZTq6moCgQArVqwgFosNn0un07z66qtEIhHcbjfz58/n4MGDw+f37duHoijs3buXuXPn4vV6efTRR2lsbLxl3wdx50nNgLhnuHWdx+rnUj9nJoePNbLvp4McP3UawzQpi5QQLPRfs0OXomRXSKx0p0kHBmhOemhMeOkZxXwFo20i6DjbQl9nB0Wl5cPHTuvTOK1PQ7VNSo2zlButlBltBDPdoypT3JgMKt1aBRdc1VxwTmJAG7mOhGkMMdDbTby/F93jYXzNFKbNXcCkqbPx+X9/dc3bwePxYBgGa9asoaGhgTfeeGP43I4dO1iwYAE1NTUcPHiQSCRCQ0MDS5YsGTE/R3NzM7t372bPnj309fWxfPlyNm/ezKZNmwB48803+fLLL9m1axcTJkxgy5YtLF68mKamJkKh0HA577zzDlu3biUcDvPKK6+wZs0a9u/ff/u+GeK2kjAg7jm67uLhB2cwd+ZUjjed5u//+JnDR09wvr2TSEkRJaEiVPXalV66ajPVl2CqL0GPoXEy4aUp4SV9lb4FFUEPMypH95A419LIUDqJ23Nlk4KlaLS7JtLuyvYl0K0EZUYbpUYbZUYbBdbAqK4hRrJQGHAU06VV0OGcQIezClMdOerDNA2ivd3EB3pRFJVgSYT6xc9x3/SHKJ9Qe93fl9vhwIEDfPHFFzzxxBO8/PLLvPvuuxw4cIC6ujoMw+Czzz7jgw8+ACAcDgMQDAYpKxsZVC3LYufOnfj92aG5q1atYu/evWzatGm4CWLnzp08/fTTAGzfvp3vvvuOTz75hI0bNw6Xs2nTJhYuXAjAW2+9xdKlS0mlUrjdd/eKouLmSBgQ9yyHw8H0ybVMu7+G1rMX2H/wMD/97y8cO9lCMOAnUhLC5bx+1Xyx06Q+EKWuMEpbyk1j1EF7poAM2U9bT41yLQLLsmj67RC6d3R9C9KqlzP6FM7oUwDwZQYoNdooMS9QbF4kkOlGvcHmjHxgotGrldLlrKBLq6BLG4ehXvmAypgm0b5uYv29AASKw8xZsJhJD8yictIU3KP8Od1Ke/bsoaCgANM0MQyDZcuW8fHHHxOJRFi6dCk7duygrq6OPXv2kEqleOGFF65bZnV19XAQACgvL6ezsxPI1hoYhsG8efOGzzudTurq6jh+/PiIcmbOnDmiDIDOzk6qqqr+rfcs7k4SBsQ9T1EUJlZVMLGqgqcWPsI/fv6VHw78k+bWsyiKQrg4RChYeN0x4Q4FJnpSGO1nWDZ1CnMWPMU3Rzr488zya/6/S6J93fR2d5BOJoj19+ArvH4NxeUGHQFaHDNoYUb2fmyDkHmRYrODkNlBsdmBP89qD0w0BhzF9Glh+h1herVSerWy4Y5//yqdShIf6CU+0I+iQGGohAfnPcnEB2YyvmYqHt/vL599JyxatIht27bhdDoZN24czsvC67p161i1ahUfffQRDQ0NvPjii3ivsYbHJc5/CcCKomBZFgC2bQ8fu5xt21ccu7ycS+culSPGHgkDYkwpLSlm2eJFPPWneo40NnHg8BGONDZxtLETn89LaUnxNecrsG0bwzB4aNr9PP5AKU+McsZBgEAozMI/r+DUb4e4cKaJ3q4OFBR8hQF8hUF0t/eGJqnJKE66nJV0OSuHj7msJIFMD4WZXgozvQRyW68VvadrETKoJNRCYo4i+hxh+rUwfY4wMUfR8JC/q7Esi8FoP/GBXtKpJC7dTWFRCZNnPUzVfVOpqp2K97LOnHcbn89HbW3tVc8988wz+Hw+tm3bxjfffMP3338/4rzT6SSTydzQ9Wpra3G5XPz444+sXLkSAMMwOHToEK+99tpNvQcxNkgYEGOS1+OmbvZ0/mPWNDq6evjlWCP7Dx6m7Xw7hmlSXBSkJBS8YmGkaCyOv8DH/ZMm3PA1FUVhVv3jzHxkEdG+bs63NHK2+QRtp47S19nBUCqBQ3PmwkHRTfVUH1I9dKkjAwJkaxH8mT4KM314rSheK47Xig1v3dbgHQ0LGRykVQ9JxUfcESCuBog7grn9IAnVf82H/iWWZZFKxEnEBkjEo4CNtyBAxcTJTHpgFuMm1FI6fuLwsM57mcPhYPXq1bz99tvU1tZSX18/4nx1dTV79+5l3rx56LpOUVHRdcv0+Xxs2LCBjRs3EgqFqKqqYsuWLSQSCdauXXur3oq4B0gYEGOaoiiUR0ooj5Tw5PyHaWw5w8+/HuPQr0c50dyK5nBQXBSgKBDA4VDp6RugZkIlFWWjW6b4964ZCIUJhMJMnTsfY2iIrvY2Lp5r5XxLI+daTtB1oQ3TSOPQXHgLCvH4CtA9vpvuyJZRnPRrEfq1q9+3Ylu4rUG8VhyXncaZ+7q077IuHRtCwULBzm5tO7efew1k0MgoGqaiXbbvJEN2m1Y9pBQvKdVLWvWSUjxXbdMf1fsyTRLxKIn4AKnEIIoCbk8B/qJipjxYT+WkyYyrvo9AKDwmpwZeu3Yt77//PmvWrLni3NatW3n99dfZvn07FRUVtLa2jqrMzZs3Y1kWq1atIhaLMXfuXL799ttRhQkxdin2pUYkIfJIfzTGb8dP8c+jJzjR3Er/QBRVVRkyDF5evoynF82/ZddOp5J0nm/NhoPTp7h4tpnBWJR0chAbcOluPD4/Hp8fl9szJh9yV2OaBqlEnNTgIKlknIxpoioqHn8hoXAZVbXTiFRUER5XRbCk7JrLXY8V+/fv57HHHuPcuXOUlo6+yUqIGyVhQOS9nr4BTjS18Muxk3R0dbP+pb9QWX77/vCahkFfVzs9nRfo6TjPhdYmutrbSMZjDA2lUFBQHCq624vuyX65dM9dMRzuRtm2TSZjYqRSpNNJUolBhlIJbNvG4dBwe334/AFKKycSHldFSXkl4fIq/MFQ3oQiyE4MdPbsWdavX095eTmff/75nb4lMcZJGBDiMpZl3RUP2XQqSW/nBfq7LxLt66Hn4gW62tuyHeWSCYZSKexcHwDN6cLp0nG6XGguPbev43Dc/lZAy7LImAamYWAaQxhDaYbSSYx0Csu2IffQd+luXG4PweIIZVU1hCLlFJWUEiwpxR8svit+BnfSzp07Wbt2LbNnz+brr7+moqLiTt+SGOMkDAhxj7Btm3QywUBvF9G+7uwkOrH+7OvchDrGUBpjKPsQtm0LsAFleEiZQ9NQHRqO3Jeiqtl1HRUFRcltUXLb7DUty8K2LCzbwspksvtWBtu2yJhmblga2Ha2v4SmOXE4XWhOJ7ruIVhSSlG4nECohILCIAWBIgoCIQoCN9eJUgjxx5MwIMQYkclkSA7GSMajuU53UdKp7KdyYyhNOpUkORgnnYyTHBwklRwkYw5hWXY2ONi5ugbbzoUHG0VRURQVzZWtfdA0J05dx+ly43TpeHx+vAV+3B4fuseL2+vL7Wdfe3z+vGjbF+JeJ2FACIGdCwC2ZeX2rdwnfhXN6cyr9noh8pGEASGEECLP5XcvHSGEEEJIGBBCCCHynYQBIYQQIs9JGBBCCCHynIQBIYQQIs9JGBBCCCHynIQBIYQQIs9JGBBCCCHynIQBIYQQIs9JGBBCCCHynIQBIYQQIs9JGBBCCCHynIQBIYQQIs9JGBBCCCHynIQBIYQQIs9JGBBCCCHynIQBIYQQIs9JGBBCCCHynIQBIYQQIs9JGBBCCCHynIQBIYQQIs9JGBBCCCHynIQBIYQQIs9JGBBCCCHynIQBIYQQIs/9H5ioB9l/8T5hAAAAAElFTkSuQmCC"></div></div></div><div class="btn btn-default output_collapsed" title="click to expand output" style="display: none;">. . .</div></div></div><div class="cell code_cell unselected rendered" tabindex="2"><div class="input"><div class="prompt_container"><div class="prompt input_prompt"><bdi>In</bdi>&nbsp;[&nbsp;]:</div><div class="run_this_cell" title="Run this cell"><i class="fa-step-forward fa"></i></div></div><div class="inner_cell"><div class="ctb_hideshow"><div class="celltoolbar"></div></div><div class="input_area" aria-label="Edit code here"><div class="CodeMirror cm-s-ipython"><div style="overflow: hidden; position: relative; width: 3px; height: 0px; top: 5.59375px; left: 4px;"><textarea autocorrect="off" autocapitalize="off" spellcheck="false" tabindex="0" style="position: absolute; bottom: -1em; padding: 0px; width: 1000px; height: 1em; outline: none;"></textarea></div><div class="CodeMirror-vscrollbar" tabindex="-1" cm-not-content="true"><div style="min-width: 1px; height: 0px;"></div></div><div class="CodeMirror-hscrollbar" tabindex="-1" cm-not-content="true"><div style="height: 100%; min-height: 1px; width: 0px;"></div></div><div class="CodeMirror-scrollbar-filler" cm-not-content="true"></div><div class="CodeMirror-gutter-filler" cm-not-content="true"></div><div class="CodeMirror-scroll" tabindex="-1"><div class="CodeMirror-sizer" style="margin-left: 0px; min-width: 7px; margin-bottom: -16px; border-right-width: 34px; min-height: 28px; padding-right: 0px; padding-bottom: 0px;"><div style="position: relative; top: 0px;"><div class="CodeMirror-lines" role="presentation"><div role="presentation" style="position: relative; outline: none;"><div class="CodeMirror-measure"><pre class="CodeMirror-line-like"><span>xxxxxxxxxx</span></pre></div><div class="CodeMirror-measure"></div><div style="position: relative; z-index: 1;"></div><div class="CodeMirror-cursors"><div class="CodeMirror-cursor" style="left: 4px; top: 0px; height: 17px;">&nbsp;</div></div><div class="CodeMirror-code" role="presentation"><pre class=" CodeMirror-line " role="presentation"><span role="presentation" style="padding-right: 0.1px;"><span cm-text="">​</span></span></pre></div></div></div></div></div><div style="position: absolute; height: 34px; width: 1px; border-bottom: 0px solid transparent; top: 28px;"></div><div class="CodeMirror-gutters" style="display: none; height: 62px;"></div></div></div></div></div></div><div class="output_wrapper"><div class="out_prompt_overlay prompt" title="click to expand output; double click to hide output"></div><div class="output"></div><div class="btn btn-default output_collapsed" title="click to expand output" style="display: none;">. . .</div></div></div><div class="cell code_cell unselected rendered" tabindex="2"><div class="input"><div class="prompt_container"><div class="prompt input_prompt"><bdi>In</bdi>&nbsp;[&nbsp;]:</div><div class="run_this_cell" title="Run this cell"><i class="fa-step-forward fa"></i></div></div><div class="inner_cell"><div class="ctb_hideshow"><div class="celltoolbar"></div></div><div class="input_area" aria-label="Edit code here"><div class="CodeMirror cm-s-ipython"><div style="overflow: hidden; position: relative; width: 3px; height: 0px; top: 5.59375px; left: 4px;"><textarea autocorrect="off" autocapitalize="off" spellcheck="false" tabindex="0" style="position: absolute; bottom: -1em; padding: 0px; width: 1000px; height: 1em; outline: none;"></textarea></div><div class="CodeMirror-vscrollbar" tabindex="-1" cm-not-content="true"><div style="min-width: 1px; height: 0px;"></div></div><div class="CodeMirror-hscrollbar" tabindex="-1" cm-not-content="true"><div style="height: 100%; min-height: 1px; width: 0px;"></div></div><div class="CodeMirror-scrollbar-filler" cm-not-content="true"></div><div class="CodeMirror-gutter-filler" cm-not-content="true"></div><div class="CodeMirror-scroll" tabindex="-1"><div class="CodeMirror-sizer" style="margin-left: 0px; min-width: 7px; margin-bottom: -16px; border-right-width: 34px; min-height: 28px; padding-right: 0px; padding-bottom: 0px;"><div style="position: relative; top: 0px;"><div class="CodeMirror-lines" role="presentation"><div role="presentation" style="position: relative; outline: none;"><div class="CodeMirror-measure"><pre class="CodeMirror-line-like"><span>xxxxxxxxxx</span></pre></div><div class="CodeMirror-measure"></div><div style="position: relative; z-index: 1;"></div><div class="CodeMirror-cursors"><div class="CodeMirror-cursor" style="left: 4px; top: 0px; height: 17px;">&nbsp;</div></div><div class="CodeMirror-code" role="presentation"><pre class=" CodeMirror-line " role="presentation"><span role="presentation" style="padding-right: 0.1px;"><span cm-text="">​</span></span></pre></div></div></div></div></div><div style="position: absolute; height: 34px; width: 1px; border-bottom: 0px solid transparent; top: 28px;"></div><div class="CodeMirror-gutters" style="display: none; height: 62px;"></div></div></div></div></div></div><div class="output_wrapper"><div class="out_prompt_overlay prompt" title="click to expand output; double click to hide output"></div><div class="output"></div><div class="btn btn-default output_collapsed" title="click to expand output" style="display: none;">. . .</div></div></div></div><div class="end_space"></div></div>
        <div id="tooltip" class="ipython_tooltip" style="display:none"><div class="tooltipbuttons"><a href="http://localhost:8888/notebooks/ML%20Assignment%203.ipynb#" role="button" class="ui-button"><span class="ui-icon ui-icon-close">Close</span></a><a href="http://localhost:8888/notebooks/ML%20Assignment%203.ipynb#" role="button" class="ui-button" id="expanbutton" title="Grow the tooltip vertically (press shift-tab twice)"><span class="ui-icon ui-icon-plus">Expand</span></a><a href="http://localhost:8888/notebooks/ML%20Assignment%203.ipynb#" role="button" class="ui-button" title="show the current docstring in pager (press shift-tab 4 times)"><span class="ui-icon ui-icon-arrowstop-l-n">Open in Pager</span></a><a href="http://localhost:8888/notebooks/ML%20Assignment%203.ipynb#" role="button" class="ui-button" title="Tooltip will linger for 10 seconds while you type" style="display: none;"><span class="ui-icon ui-icon-clock">Close</span></a></div><div class="pretooltiparrow"></div><div class="tooltiptext smalltooltip"></div></div>
    </div>
</div>



</div>



<div id="pager" class="ui-resizable">
    <div id="pager-contents">
        <div id="pager-container" class="container"></div>
    </div>
    <div id="pager-button-area"><a role="button" title="Open the pager in an external window" class="ui-button"><span class="ui-icon ui-icon-extlink"></span></a><a role="button" title="Close the pager" class="ui-button"><span class="ui-icon ui-icon-close"></span></a></div>
<div class="ui-resizable-handle ui-resizable-n" style="z-index: 90;"></div></div>






<script type="text/javascript">
    sys_info = {"notebook_version": "6.4.12", "notebook_path": "C:\\Users\\maddy\\anaconda3\\Lib\\site-packages\\notebook", "commit_source": "", "commit_hash": "", "sys_version": "3.9.13 (main, Aug 25 2022, 23:51:50) [MSC v.1916 64 bit (AMD64)]", "sys_executable": "C:\\Users\\maddy\\anaconda3\\python.exe", "sys_platform": "win32", "platform": "Windows-10-10.0.22621-SP0", "os_name": "nt", "default_encoding": "utf-8"};
</script>

<script src="./ML Assignment 3_files/encoding.js.download" charset="utf-8"></script>

<script src="./ML Assignment 3_files/main.min.js.download" type="text/javascript" charset="utf-8"></script>



<script type="text/javascript">
  function _remove_token_from_url() {
    if (window.location.search.length <= 1) {
      return;
    }
    var search_parameters = window.location.search.slice(1).split('&');
    for (var i = 0; i < search_parameters.length; i++) {
      if (search_parameters[i].split('=')[0] === 'token') {
        // remote token from search parameters
        search_parameters.splice(i, 1);
        var new_search = '';
        if (search_parameters.length) {
          new_search = '?' + search_parameters.join('&');
        }
        var new_url = window.location.origin + 
                      window.location.pathname + 
                      new_search + 
                      window.location.hash;
        window.history.replaceState({}, "", new_url);
        return;
      }
    }
  }
  _remove_token_from_url();
</script>


<div style="position: absolute; width: 0px; height: 0px; overflow: hidden; padding: 0px; border: 0px; margin: 0px;"><div id="MathJax_Font_Test" style="position: absolute; visibility: hidden; top: 0px; left: 0px; width: auto; min-width: 0px; max-width: none; padding: 0px; border: 0px; margin: 0px; white-space: nowrap; text-align: left; text-indent: 0px; text-transform: none; line-height: normal; letter-spacing: normal; word-spacing: normal; font-size: 40px; font-weight: normal; font-style: normal;"></div></div></body></html>